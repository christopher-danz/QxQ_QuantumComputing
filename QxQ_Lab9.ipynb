{
 "cells": [
  {
   "cell_type": "markdown",
   "id": "PwzxHjX_YYNn",
   "metadata": {
    "id": "PwzxHjX_YYNn"
   },
   "source": [
    "# Lab: Week #10 | Using Quantum Hardware\n",
    "---\n",
    "\n",
    "### **Description**:  \n",
    "In this week's lab, we will see how to use real quantum hardware from IBM to run our circuits.\n",
    "\n",
    "<br>\n",
    "\n",
    "### **Cheat Sheets**:  \n",
    "\n",
    "[Updated Qiskit Cheat Sheet](https://docs.google.com/document/d/1GArKBUksi4pMgcEBc4OpvWp2KREPpnQvq0AgyijJnkI/edit?usp=share_link)\n",
    "\n",
    "[Loops and Conditionals Cheat Sheet](https://docs.google.com/document/d/1WKvv22SC7pA0TCqCJnxgZOf2tHjvTotaHYEtOx2FNkI/edit?usp=share_link)\n",
    "\n",
    "\n",
    "---"
   ]
  },
  {
   "cell_type": "markdown",
   "id": "k0Lsovb5VOKP",
   "metadata": {
    "id": "k0Lsovb5VOKP",
    "tags": []
   },
   "source": [
    "## **Part 0: Importing from Qiskit**\n",
    "---\n",
    "\n",
    "Run the cell directly below before doing anything else. This will import all of the functions that we will use today."
   ]
  },
  {
   "cell_type": "code",
   "execution_count": 28,
   "id": "2fdb668d-f835-4c9e-96fb-ba4b68863892",
   "metadata": {
    "id": "2fdb668d-f835-4c9e-96fb-ba4b68863892"
   },
   "outputs": [
    {
     "name": "stderr",
     "output_type": "stream",
     "text": [
      "ibmqfactory.load_account:WARNING:2022-11-29 20:10:54,084: Credentials are already in use. The existing account in the session will be replaced.\n"
     ]
    }
   ],
   "source": [
    "import warnings\n",
    "warnings.filterwarnings('ignore')\n",
    "\n",
    "import numpy as np\n",
    "\n",
    "# Importing standard Qiskit libraries\n",
    "from qiskit import QuantumCircuit, transpile, Aer, IBMQ, execute\n",
    "from qiskit.tools.jupyter import *\n",
    "from qiskit.visualization import *\n",
    "from ibm_quantum_widgets import *\n",
    "from qiskit.providers.aer import QasmSimulator\n",
    "from qiskit.tools.monitor import job_monitor\n",
    "\n",
    "# Loading your IBM Quantum account(s)\n",
    "provider = IBMQ.load_account()"
   ]
  },
  {
   "cell_type": "markdown",
   "id": "sVwVviQORgWa",
   "metadata": {
    "id": "sVwVviQORgWa",
    "tags": []
   },
   "source": [
    "## **Part 1: Backends**\n",
    "---\n",
    "\n",
    "In this section, we will explore the concept of \"backends\" in Qiskit and what we can do with them."
   ]
  },
  {
   "cell_type": "markdown",
   "id": "ygbX_FcFUVuL",
   "metadata": {
    "id": "ygbX_FcFUVuL"
   },
   "source": [
    "#### **Exercise #1** \n",
    "\n",
    "**Together**, let's see what information we can get about a specific backend from IQX: ibm_oslo."
   ]
  },
  {
   "cell_type": "code",
   "execution_count": 29,
   "id": "09fab181-db1f-46b2-8a6b-0a5d9459fc7d",
   "metadata": {
    "id": "09fab181-db1f-46b2-8a6b-0a5d9459fc7d"
   },
   "outputs": [
    {
     "data": {
      "application/vnd.jupyter.widget-view+json": {
       "model_id": "64f4b7dd8e8040db96419f55f7beddf7",
       "version_major": 2,
       "version_minor": 0
      },
      "text/plain": [
       "VBox(children=(HTML(value=\"<h1 style='color:#ffffff;background-color:#000000;padding-top: 1%;padding-bottom: 1…"
      ]
     },
     "metadata": {},
     "output_type": "display_data"
    },
    {
     "data": {
      "text/plain": [
       "<IBMQBackend('ibm_oslo') from IBMQ(hub='ibm-q', group='open', project='main')>"
      ]
     },
     "execution_count": 29,
     "metadata": {},
     "output_type": "execute_result"
    }
   ],
   "source": [
    "provider.get_backend('ibm_oslo')"
   ]
  },
  {
   "cell_type": "markdown",
   "id": "pwpt38KFbAwn",
   "metadata": {
    "id": "pwpt38KFbAwn"
   },
   "source": [
    "#### **Exercise #2** \n",
    "\n",
    "**Together**, let's look at a list of all available backends and see how long the lines are to use them."
   ]
  },
  {
   "cell_type": "code",
   "execution_count": 30,
   "id": "5b921c1e-5494-4dfa-bad5-ec1834a8eb9d",
   "metadata": {
    "id": "5b921c1e-5494-4dfa-bad5-ec1834a8eb9d"
   },
   "outputs": [
    {
     "name": "stdout",
     "output_type": "stream",
     "text": [
      "Backend 0: ibmq_qasm_simulator\n",
      "Pending Jobs: 0\n",
      "\n",
      "Backend 1: ibmq_lima\n",
      "Pending Jobs: 5\n",
      "\n",
      "Backend 2: ibmq_belem\n",
      "Pending Jobs: 3\n",
      "\n",
      "Backend 3: ibmq_quito\n",
      "Pending Jobs: 84\n",
      "\n",
      "Backend 4: simulator_statevector\n",
      "Pending Jobs: 0\n",
      "\n",
      "Backend 5: simulator_mps\n",
      "Pending Jobs: 0\n",
      "\n",
      "Backend 6: simulator_extended_stabilizer\n",
      "Pending Jobs: 0\n",
      "\n",
      "Backend 7: simulator_stabilizer\n",
      "Pending Jobs: 0\n",
      "\n",
      "Backend 8: ibmq_manila\n",
      "Pending Jobs: 2\n",
      "\n",
      "Backend 9: ibm_nairobi\n",
      "Pending Jobs: 20\n",
      "\n",
      "Backend 10: ibm_oslo\n",
      "Pending Jobs: 1\n",
      "\n"
     ]
    }
   ],
   "source": [
    "backends = provider.backends()\n",
    "\n",
    "for i in range(len(backends)):\n",
    "    print(\"Backend \" + str(i) + \": \" + str(backends[i]))\n",
    "    print(\"Pending Jobs: \" + str(backends[i].status().pending_jobs))\n",
    "    print()"
   ]
  },
  {
   "cell_type": "markdown",
   "id": "bc56384b-ffe8-42f6-981b-7e44bf84eaa9",
   "metadata": {
    "id": "bc56384b-ffe8-42f6-981b-7e44bf84eaa9"
   },
   "source": [
    "## **Part 2: Running on Quantum Hardware**\n",
    "---\n",
    "\n",
    "In this section, we will run our circuits on real quantum hardware!!"
   ]
  },
  {
   "cell_type": "markdown",
   "id": "WWg-rR2_bH7G",
   "metadata": {
    "id": "WWg-rR2_bH7G"
   },
   "source": [
    "#### **Exercise #1** \n",
    "\n",
    "Let's jump right in! Specifically:\n",
    "1. Run the first cell to create and draw the circuit we're going to run today: **creating entanglement**.\n",
    "\n",
    "2. Run the second cell to simulate this so we have something to compare our measured results to.\n",
    "\n",
    "3. Run the third cell to send the job off to execute and see what it's status is initially."
   ]
  },
  {
   "cell_type": "code",
   "execution_count": 31,
   "id": "2ae77c61-33e4-446f-8760-6a28ff9548b1",
   "metadata": {
    "id": "2ae77c61-33e4-446f-8760-6a28ff9548b1"
   },
   "outputs": [
    {
     "data": {
      "image/png": "[encoded data removed]",
      "text/plain": [
       "<Figure size 327.252x204.68 with 1 Axes>"
      ]
     },
     "execution_count": 31,
     "metadata": {},
     "output_type": "execute_result"
    }
   ],
   "source": [
    "qc = QuantumCircuit(2, 2)\n",
    "\n",
    "qc.h(0)\n",
    "qc.cx(0, 1)\n",
    "\n",
    "qc.measure([0, 1], [0, 1])\n",
    "\n",
    "qc.draw()"
   ]
  },
  {
   "cell_type": "code",
   "execution_count": 32,
   "id": "42752374-4934-4807-9324-34002f1e68f6",
   "metadata": {
    "id": "42752374-4934-4807-9324-34002f1e68f6"
   },
   "outputs": [
    {
     "data": {
      "image/png": "[encoded data removed]",
      "text/plain": [
       "<Figure size 504x360 with 1 Axes>"
      ]
     },
     "execution_count": 32,
     "metadata": {},
     "output_type": "execute_result"
    }
   ],
   "source": [
    "backend = Aer.get_backend('qasm_simulator')\n",
    "job = execute(qc, backend = backend, shots = 1024)\n",
    "\n",
    "results = job.result()\n",
    "plot_histogram(results.get_counts(qc))"
   ]
  },
  {
   "cell_type": "code",
   "execution_count": 33,
   "id": "d19e37a2-8b98-4477-bcf9-73b4b1596498",
   "metadata": {
    "id": "d19e37a2-8b98-4477-bcf9-73b4b1596498"
   },
   "outputs": [
    {
     "data": {
      "text/plain": [
       "<JobStatus.VALIDATING: 'job is being validated'>"
      ]
     },
     "execution_count": 33,
     "metadata": {},
     "output_type": "execute_result"
    }
   ],
   "source": [
    "backend = backends[1]\n",
    "job = execute(qc, backend = backend, shots = 1024)\n",
    "\n",
    "job.status()"
   ]
  },
  {
   "cell_type": "markdown",
   "id": "67Awew8WbrfX",
   "metadata": {
    "id": "67Awew8WbrfX"
   },
   "source": [
    "#### **Exercise #2** \n",
    "\n",
    "While we wait for this job to finish, let's see what this was transpiled into for this specific backend, with and without `idle_wires = False`."
   ]
  },
  {
   "cell_type": "code",
   "execution_count": 36,
   "id": "2fb9bd95-088b-4421-9c66-10343c9388d1",
   "metadata": {
    "id": "2fb9bd95-088b-4421-9c66-10343c9388d1"
   },
   "outputs": [
    {
     "data": {
      "image/png": "[encoded data removed]",
      "text/plain": [
       "<Figure size 540.531x385.28 with 1 Axes>"
      ]
     },
     "execution_count": 36,
     "metadata": {},
     "output_type": "execute_result"
    }
   ],
   "source": [
    "tc = transpile(qc, backend = backend)\n",
    "tc.draw(idle_wires=True)"
   ]
  },
  {
   "cell_type": "code",
   "execution_count": 37,
   "id": "ff855214-835a-4720-b4f2-96829b045123",
   "metadata": {
    "id": "ff855214-835a-4720-b4f2-96829b045123"
   },
   "outputs": [
    {
     "data": {
      "image/png": "[encoded data removed]",
      "text/plain": [
       "<Figure size 485.438x204.68 with 1 Axes>"
      ]
     },
     "execution_count": 37,
     "metadata": {},
     "output_type": "execute_result"
    }
   ],
   "source": [
    "# Create and draw transpiled circuit without idle wires\n",
    "tc.draw(idle_wires=False)"
   ]
  },
  {
   "cell_type": "markdown",
   "id": "ar5mgt55cMk6",
   "metadata": {
    "id": "ar5mgt55cMk6"
   },
   "source": [
    "#### **Exercise #3** \n",
    "\n",
    "Write code to create a 4-qubit/4-classical bit quantum circuit with the gates listed below and a measurement of all qubits. Then create and draw the transpiled version of this circuit for the backend we're currently using.\n",
    "\n",
    "**Gates**:\n",
    "\n",
    "H on qubit 0\n",
    "\n",
    "X on qubit 1\n",
    "\n",
    "Z on qubit 2"
   ]
  },
  {
   "cell_type": "code",
   "execution_count": 38,
   "id": "5bca6699-78f8-486c-813b-1d5051c1ba7e",
   "metadata": {
    "id": "5bca6699-78f8-486c-813b-1d5051c1ba7e"
   },
   "outputs": [
    {
     "data": {
      "image/png": "[encoded data removed]",
      "text/plain": [
       "<Figure size 365.329x325.08 with 1 Axes>"
      ]
     },
     "execution_count": 38,
     "metadata": {},
     "output_type": "execute_result"
    }
   ],
   "source": [
    "qc2 = QuantumCircuit(4,4)\n",
    "qc2.h(0)\n",
    "qc2.x(1)\n",
    "qc2.z(2)\n",
    "\n",
    "qc2.measure([0, 1, 2, 3], [0, 1, 2, 3])\n",
    "qc2.draw()\n",
    "\n",
    "tc = transpile(qc2, backend=backend)\n",
    "tc.draw(idle_wires=False)"
   ]
  },
  {
   "cell_type": "markdown",
   "id": "Kwqkpgsjc_Tx",
   "metadata": {
    "id": "Kwqkpgsjc_Tx"
   },
   "source": [
    "#### **Exercise #4** \n",
    "\n",
    "Complete the code below to create and draw the transpiled version of this circuit for the backend we're currently using."
   ]
  },
  {
   "cell_type": "code",
   "execution_count": 39,
   "id": "3f61767c-4dff-4961-bb27-effda1121fda",
   "metadata": {
    "id": "3f61767c-4dff-4961-bb27-effda1121fda"
   },
   "outputs": [
    {
     "name": "stdout",
     "output_type": "stream",
     "text": [
      "Traceback \u001b[1;36m(most recent call last)\u001b[0m:\n",
      "\u001b[1;36m  Input \u001b[1;32mIn [39]\u001b[1;36m in \u001b[1;35m<cell line: 8>\u001b[1;36m\u001b[0m\n",
      "\u001b[1;33m    tc.transpile(qc3, backend=backend)\u001b[0m\n",
      "\u001b[1;31mAttributeError\u001b[0m\u001b[1;31m:\u001b[0m 'QuantumCircuit' object has no attribute 'transpile'\n",
      "\n",
      "Use %tb to get the full traceback.\n"
     ]
    },
    {
     "data": {
      "text/html": [
       "\n",
       "<style>\n",
       ".button {\n",
       "  border: none;\n",
       "  color: white;\n",
       "  padding: 4px 8px;\n",
       "  text-align: center;\n",
       "  text-decoration: none;\n",
       "  display: inline-block;\n",
       "  font-size: 12px;\n",
       "  margin: 4px 2px;\n",
       "  transition-duration: 0.2s;\n",
       "  cursor: pointer;\n",
       "}\n",
       ".iqx-button {\n",
       "  background-color: #0f62fe; \n",
       "  color: white; \n",
       "}\n",
       ".iqx-button:hover {\n",
       "  background-color: #0043ce;\n",
       "  color: white;\n",
       "}\n",
       "</style>\n",
       "<a href=\"https://stackoverflow.com/search?q=AttributeError: 'QuantumCircuit' object has no attribute 'transpile'\" target='_blank'><button class='button iqx-button'>Search for solution online</button></a>\n"
      ],
      "text/plain": [
       "<IPython.core.display.HTML object>"
      ]
     },
     "metadata": {},
     "output_type": "display_data"
    }
   ],
   "source": [
    "qc3 = QuantumCircuit(6)\n",
    "\n",
    "for i in range(5):\n",
    "    qc3.cx(i, i + 1)\n",
    "    \n",
    "qc3.measure_all()\n",
    "\n",
    "tc.transpile(qc3, backend=backend)\n",
    "tc.draw(idle_wires=False)"
   ]
  },
  {
   "cell_type": "markdown",
   "id": "JHvcvUM5eMIS",
   "metadata": {
    "id": "JHvcvUM5eMIS"
   },
   "source": [
    "---\n",
    "\n",
    "**Before continuing, describe what happened in the chat and let's all discuss.**\n",
    "\n",
    "---"
   ]
  },
  {
   "cell_type": "markdown",
   "id": "KDiAHDm1dXCd",
   "metadata": {
    "id": "KDiAHDm1dXCd"
   },
   "source": [
    "#### **Exercise #5** \n",
    "\n",
    "The code above runs into an error! Let's fix this by using a different backend below. Specifically, use the last backend in our list to create and draw a transpiled circuit."
   ]
  },
  {
   "cell_type": "code",
   "execution_count": 25,
   "id": "5508a6fd-2e28-4420-af60-5f1e5203f4e1",
   "metadata": {
    "id": "5508a6fd-2e28-4420-af60-5f1e5203f4e1"
   },
   "outputs": [
    {
     "data": {
      "image/png": "[encoded data removed]",
      "text/plain": [
       "<Figure size 907.129x445.48 with 1 Axes>"
      ]
     },
     "execution_count": 25,
     "metadata": {},
     "output_type": "execute_result"
    }
   ],
   "source": [
    "tc3 = transpile(qc3, backend = backends[-1])\n",
    "tc3.draw(idle_wires = False)"
   ]
  },
  {
   "cell_type": "markdown",
   "id": "sIbvCASFdtmk",
   "metadata": {
    "id": "sIbvCASFdtmk"
   },
   "source": [
    "#### **Exercise #6** \n",
    "\n",
    "Let's check back in with that job we sent off!"
   ]
  },
  {
   "cell_type": "code",
   "execution_count": 26,
   "id": "ad37ef01-cbfc-45b2-b5d0-6b6c65478daa",
   "metadata": {
    "id": "ad37ef01-cbfc-45b2-b5d0-6b6c65478daa"
   },
   "outputs": [
    {
     "data": {
      "text/plain": [
       "<JobStatus.DONE: 'job has successfully run'>"
      ]
     },
     "execution_count": 26,
     "metadata": {},
     "output_type": "execute_result"
    }
   ],
   "source": [
    "job.status()"
   ]
  },
  {
   "cell_type": "markdown",
   "id": "n79ibspEdywi",
   "metadata": {
    "id": "n79ibspEdywi"
   },
   "source": [
    "**If the job is DONE, then we can look at the results by running the cell below.**"
   ]
  },
  {
   "cell_type": "code",
   "execution_count": 27,
   "id": "2736038e-5bbe-432e-99ec-d94d88f8fdaf",
   "metadata": {
    "id": "2736038e-5bbe-432e-99ec-d94d88f8fdaf"
   },
   "outputs": [
    {
     "name": "stdout",
     "output_type": "stream",
     "text": [
      "Traceback \u001b[1;36m(most recent call last)\u001b[0m:\n",
      "  Input \u001b[0;32mIn [27]\u001b[0m in \u001b[0;35m<cell line: 2>\u001b[0m\n",
      "    plot_histogram(results.get_counts(qc))\n",
      "  File \u001b[0;32m/opt/conda/lib/python3.8/site-packages/qiskit/result/result.py:269\u001b[0m in \u001b[0;35mget_counts\u001b[0m\n",
      "    exp = self._get_experiment(key)\n",
      "\u001b[1;36m  File \u001b[1;32m/opt/conda/lib/python3.8/site-packages/qiskit/result/result.py:380\u001b[1;36m in \u001b[1;35m_get_experiment\u001b[1;36m\u001b[0m\n",
      "\u001b[1;33m    raise QiskitError('Data for experiment \"%s\" could not be found.' % key)\u001b[0m\n",
      "\u001b[1;31mQiskitError\u001b[0m\u001b[1;31m:\u001b[0m 'Data for experiment \"circuit-137\" could not be found.'\n",
      "\n",
      "Use %tb to get the full traceback.\n"
     ]
    },
    {
     "data": {
      "text/html": [
       "\n",
       "<style>\n",
       ".button {\n",
       "  border: none;\n",
       "  color: white;\n",
       "  padding: 4px 8px;\n",
       "  text-align: center;\n",
       "  text-decoration: none;\n",
       "  display: inline-block;\n",
       "  font-size: 12px;\n",
       "  margin: 4px 2px;\n",
       "  transition-duration: 0.2s;\n",
       "  cursor: pointer;\n",
       "}\n",
       ".iqx-button {\n",
       "  background-color: #0f62fe; \n",
       "  color: white; \n",
       "}\n",
       ".iqx-button:hover {\n",
       "  background-color: #0043ce;\n",
       "  color: white;\n",
       "}\n",
       "</style>\n",
       "<a href=\"https://stackoverflow.com/search?q=QiskitError: Data for experiment \"circuit-137\" could not be found.\" target='_blank'><button class='button iqx-button'>Search for solution online</button></a>\n"
      ],
      "text/plain": [
       "<IPython.core.display.HTML object>"
      ]
     },
     "metadata": {},
     "output_type": "display_data"
    }
   ],
   "source": [
    "results = job.result()\n",
    "plot_histogram(results.get_counts(qc))"
   ]
  },
  {
   "cell_type": "markdown",
   "id": "hQJELyD6aeJ2",
   "metadata": {
    "id": "hQJELyD6aeJ2"
   },
   "source": [
    "---\n",
    "# End of Lab\n",
    "---\n",
    "© 2022 The Coding School, All rights reserved"
   ]
  }
 ],
 "metadata": {
  "colab": {
   "provenance": []
  },
  "kernelspec": {
   "display_name": "Python 3 (ipykernel)",
   "language": "python",
   "name": "python3"
  },
  "language_info": {
   "codemirror_mode": {
    "name": "ipython",
    "version": 3
   },
   "file_extension": ".py",
   "mimetype": "text/x-python",
   "name": "python",
   "nbconvert_exporter": "python",
   "pygments_lexer": "ipython3",
   "version": "3.8.13"
  },
  "widgets": {
   "application/vnd.jupyter.widget-state+json": {
    "state": {
     "024359448f6c4df98f8d12caf0cc8b40": {
      "model_module": "@jupyter-widgets/controls",
      "model_module_version": "1.5.0",
      "model_name": "GridBoxModel",
      "state": {
       "children": [
        "IPY_MODEL_ccf8fd8da3394758a2c4af6411673eef"
       ],
       "layout": "IPY_MODEL_19df6bd6fe13441eb5b0c0c1158194fb"
      }
     },
     "02df6008cc1a40c998b8ed4f9f4193e4": {
      "model_module": "@jupyter-widgets/base",
      "model_module_version": "1.2.0",
      "model_name": "LayoutModel",
      "state": {
       "width": "190px"
      }
     },
     "04174951d6f740d9aaee470dcc3688c0": {
      "model_module": "@jupyter-widgets/output",
      "model_module_version": "1.0.0",
      "model_name": "OutputModel",
      "state": {
       "layout": "IPY_MODEL_c991d8db80af401581caa364bd4fb33d",
       "outputs": [
        {
         "data": {
          "image/png": "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\n",
          "text/plain": "<Figure size 360x360 with 1 Axes>"
         },
         "metadata": {},
         "output_type": "display_data"
        }
       ]
      }
     },
     "04c9d1a8ac3c4fef83237a5113facd4c": {
      "model_module": "@jupyter-widgets/controls",
      "model_module_version": "1.5.0",
      "model_name": "HTMLModel",
      "state": {
       "layout": "IPY_MODEL_ef421b00fde842ac9dc2642082a94138",
       "style": "IPY_MODEL_64ea04f1f6604df7bbdcd29488151e2e",
       "value": "<div><font style='font-weight:bold'>last_update_date</font>: Tue 29 November 2022 at 18:31 UTC</div>"
      }
     },
     "05420567f86947ad8b29b6a6e11ca349": {
      "model_module": "@jupyter-widgets/base",
      "model_module_version": "1.2.0",
      "model_name": "LayoutModel",
      "state": {}
     },
     "0af5d19882264bcd96f746c755dcc318": {
      "model_module": "@jupyter-widgets/controls",
      "model_module_version": "1.5.0",
      "model_name": "DescriptionStyleModel",
      "state": {
       "description_width": ""
      }
     },
     "0b06fb47dc35481c98e3d71b439a902f": {
      "model_module": "@jupyter-widgets/base",
      "model_module_version": "1.2.0",
      "model_name": "LayoutModel",
      "state": {
       "grid_area": "right"
      }
     },
     "0b57a0b8dc374e5087beac1d67e67122": {
      "model_module": "@jupyter-widgets/base",
      "model_module_version": "1.2.0",
      "model_name": "LayoutModel",
      "state": {
       "grid_area": "right"
      }
     },
     "0d62546e4065479981d1d77a995f047d": {
      "model_module": "@jupyter-widgets/base",
      "model_module_version": "1.2.0",
      "model_name": "LayoutModel",
      "state": {
       "grid_area": "top"
      }
     },
     "0de29a2a828541af878a812d73ac9a94": {
      "model_module": "@jupyter-widgets/controls",
      "model_module_version": "1.5.0",
      "model_name": "VBoxModel",
      "state": {
       "children": [
        "IPY_MODEL_04c9d1a8ac3c4fef83237a5113facd4c",
        "IPY_MODEL_c546be1ae3ce4165a2de8ad12fae3478"
       ],
       "layout": "IPY_MODEL_1b4bb1a66ac7475d996c4326c3d479c6"
      }
     },
     "0f16011151764bd7b9526613b9e25754": {
      "model_module": "@jupyter-widgets/output",
      "model_module_version": "1.0.0",
      "model_name": "OutputModel",
      "state": {
       "layout": "IPY_MODEL_34baab84851d4d49bd5f946ecd6c98bb",
       "outputs": [
        {
         "data": {
          "image/png": "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\n",
          "text/plain": "<Figure size 792x648 with 5 Axes>"
         },
         "metadata": {},
         "output_type": "display_data"
        }
       ]
      }
     },
     "102e60b3c0fe4e11865906c2dd3b5edd": {
      "model_module": "@jupyter-widgets/base",
      "model_module_version": "1.2.0",
      "model_name": "LayoutModel",
      "state": {
       "margin": "0px 5px 0px 0px",
       "width": "32px"
      }
     },
     "10840e73c1b1443381ff90785a3c93c4": {
      "model_module": "@jupyter-widgets/controls",
      "model_module_version": "1.5.0",
      "model_name": "DescriptionStyleModel",
      "state": {
       "description_width": ""
      }
     },
     "116651875198438aae577b5cbbe271b3": {
      "model_module": "@jupyter-widgets/controls",
      "model_module_version": "1.5.0",
      "model_name": "HTMLMathModel",
      "state": {
       "layout": "IPY_MODEL_f96868a7c87148d7add613482ed39de6",
       "style": "IPY_MODEL_8421d8d376014941a63911bb40652953",
       "value": "<table><style>\ntable {\n    border-collapse: collapse;\n    width: auto;\n}\n\nth, td {\n    text-align: left;\n    padding: 8px;\n}\n\ntr:nth-child(even) {background-color: #f6f6f6;}\n</style><tr><th>Property</th><th>Value</th></tr><tr><td><font style='font-weight:bold'>n_qubits</font></td><td>7</td></tr><tr><td><font style='font-weight:bold'>quantum_volume</font></td><td>32</td></tr><tr><td><font style='font-weight:bold'>operational</font></td><td>True</td></tr><tr><td><font style='font-weight:bold'>status_msg</font></td><td>active</td></tr><tr><td><font style='font-weight:bold'>pending_jobs</font></td><td>1</td></tr><tr><td><font style='font-weight:bold'>backend_version</font></td><td>1.0.14</td></tr><tr><td><font style='font-weight:bold'>basis_gates</font></td><td>['id', 'rz', 'sx', 'x', 'cx', 'reset']</td></tr><tr><td><font style='font-weight:bold'>max_shots</font></td><td>20000</td></tr><tr><td><font style='font-weight:bold'>max_experiments</font></td><td>100</td></tr></table>"
      }
     },
     "168e21540340495881862a4348ca6e8d": {
      "model_module": "@jupyter-widgets/controls",
      "model_module_version": "1.5.0",
      "model_name": "HTMLMathModel",
      "state": {
       "layout": "IPY_MODEL_61aa989f063045b792c71f4c2f78819e",
       "style": "IPY_MODEL_7b5a557b807b47c3a8354a42cdde91b0",
       "value": "<table><style>\ntable {\n    border-collapse: collapse;\n    width: auto;\n}\n\nth, td {\n    text-align: left;\n    padding: 8px;\n}\n\ntr:nth-child(even) {background-color: #f6f6f6;}\n</style><tr><th></th><th></th></tr><tr><td>rep_delay_range</td><td>[0.0, 500.0]</td></tr><tr><td>uchannels_enabled</td><td>True</td></tr><tr><td>qubit_channel_mapping</td><td>[['d0', 'm0', 'u1', 'u0'], ['u1', 'u4', 'm1', 'd1', 'u0', 'u2', 'u5', 'u3'], ['u2', 'm2', 'd2', 'u4'], ['u6', 'm3', 'd3', 'u5', 'u3', 'u8'], ['d4', 'u7', 'u9', 'm4'], ['u7', 'u6', 'd5', 'm5', 'u10', 'u9', 'u11', 'u8'], ['u10', 'm6', 'd6', 'u11']]</td></tr><tr><td>sample_name</td><td>family: Falcon, revision: 5.11, segment: H</td></tr><tr><td>url</td><td>None</td></tr><tr><td>meas_kernels</td><td>['hw_qmfk']</td></tr><tr><td>hamiltonian</td><td>$$\\begin{align} \\mathcal{H}/\\hbar = & \\sum_{i=0}^{6}\\left(\\frac{\\omega_{q,i}}{2}(\\mathbb{I}-\\sigma_i^{z})+\\frac{\\Delta_{i}}{2}(O_i^2-O_i)+\\Omega_{d,i}D_i(t)\\sigma_i^{X}\\right) \\\\ & + J_{0,1}(\\sigma_{0}^{+}\\sigma_{1}^{-}+\\sigma_{0}^{-}\\sigma_{1}^{+}) + J_{1,2}(\\sigma_{1}^{+}\\sigma_{2}^{-}+\\sigma_{1}^{-}\\sigma_{2}^{+}) + J_{4,5}(\\sigma_{4}^{+}\\sigma_{5}^{-}+\\sigma_{4}^{-}\\sigma_{5}^{+}) + J_{5,6}(\\sigma_{5}^{+}\\sigma_{6}^{-}+\\sigma_{5}^{-}\\sigma_{6}^{+}) \\\\ & + J_{1,3}(\\sigma_{1}^{+}\\sigma_{3}^{-}+\\sigma_{1}^{-}\\sigma_{3}^{+}) + J_{3,5}(\\sigma_{3}^{+}\\sigma_{5}^{-}+\\sigma_{3}^{-}\\sigma_{5}^{+}) \\\\ & + \\Omega_{d,0}(U_{0}^{(0,1)}(t))\\sigma_{0}^{X} + \\Omega_{d,1}(U_{1}^{(1,0)}(t)+U_{3}^{(1,3)}(t)+U_{2}^{(1,2)}(t))\\sigma_{1}^{X} \\\\ & + \\Omega_{d,2}(U_{4}^{(2,1)}(t))\\sigma_{2}^{X} + \\Omega_{d,3}(U_{5}^{(3,1)}(t)+U_{6}^{(3,5)}(t))\\sigma_{3}^{X} \\\\ & + \\Omega_{d,4}(U_{7}^{(4,5)}(t))\\sigma_{4}^{X} + \\Omega_{d,5}(U_{8}^{(5,3)}(t)+U_{10}^{(5,6)}(t)+U_{9}^{(5,4)}(t))\\sigma_{5}^{X} \\\\ & + \\Omega_{d,6}(U_{11}^{(6,5)}(t))\\sigma_{6}^{X} \\\\ \\end{align}$$</td></tr><tr><td>supported_features</td><td>['qobj', 'qasm3']</td></tr><tr><td>open_pulse</td><td>False</td></tr><tr><td>allow_q_object</td><td>True</td></tr><tr><td>channels</td><td>{'acquire0': {'operates': {'qubits': [0]}, 'purpose': 'acquire', 'type': 'acquire'}, 'acquire1': {'operates': {'qubits': [1]}, 'purpose': 'acquire', 'type': 'acquire'}, 'acquire2': {'operates': {'qubits': [2]}, 'purpose': 'acquire', 'type': 'acquire'}, 'acquire3': {'operates': {'qubits': [3]}, 'purpose': 'acquire', 'type': 'acquire'}, 'acquire4': {'operates': {'qubits': [4]}, 'purpose': 'acquire', 'type': 'acquire'}, 'acquire5': {'operates': {'qubits': [5]}, 'purpose': 'acquire', 'type': 'acquire'}, 'acquire6': {'operates': {'qubits': [6]}, 'purpose': 'acquire', 'type': 'acquire'}, 'd0': {'operates': {'qubits': [0]}, 'purpose': 'drive', 'type': 'drive'}, 'd1': {'operates': {'qubits': [1]}, 'purpose': 'drive', 'type': 'drive'}, 'd2': {'operates': {'qubits': [2]}, 'purpose': 'drive', 'type': 'drive'}, 'd3': {'operates': {'qubits': [3]}, 'purpose': 'drive', 'type': 'drive'}, 'd4': {'operates': {'qubits': [4]}, 'purpose': 'drive', 'type': 'drive'}, 'd5': {'operates': {'qubits': [5]}, 'purpose': 'drive', 'type': 'drive'}, 'd6': {'operates': {'qubits': [6]}, 'purpose': 'drive', 'type': 'drive'}, 'm0': {'operates': {'qubits': [0]}, 'purpose': 'measure', 'type': 'measure'}, 'm1': {'operates': {'qubits': [1]}, 'purpose': 'measure', 'type': 'measure'}, 'm2': {'operates': {'qubits': [2]}, 'purpose': 'measure', 'type': 'measure'}, 'm3': {'operates': {'qubits': [3]}, 'purpose': 'measure', 'type': 'measure'}, 'm4': {'operates': {'qubits': [4]}, 'purpose': 'measure', 'type': 'measure'}, 'm5': {'operates': {'qubits': [5]}, 'purpose': 'measure', 'type': 'measure'}, 'm6': {'operates': {'qubits': [6]}, 'purpose': 'measure', 'type': 'measure'}, 'u0': {'operates': {'qubits': [0, 1]}, 'purpose': 'cross-resonance', 'type': 'control'}, 'u1': {'operates': {'qubits': [1, 0]}, 'purpose': 'cross-resonance', 'type': 'control'}, 'u10': {'operates': {'qubits': [5, 6]}, 'purpose': 'cross-resonance', 'type': 'control'}, 'u11': {'operates': {'qubits': [6, 5]}, 'purpose': 'cross-resonance', 'type': 'control'}, 'u2': {'operates': {'qubits': [1, 2]}, 'purpose': 'cross-resonance', 'type': 'control'}, 'u3': {'operates': {'qubits': [1, 3]}, 'purpose': 'cross-resonance', 'type': 'control'}, 'u4': {'operates': {'qubits': [2, 1]}, 'purpose': 'cross-resonance', 'type': 'control'}, 'u5': {'operates': {'qubits': [3, 1]}, 'purpose': 'cross-resonance', 'type': 'control'}, 'u6': {'operates': {'qubits': [3, 5]}, 'purpose': 'cross-resonance', 'type': 'control'}, 'u7': {'operates': {'qubits': [4, 5]}, 'purpose': 'cross-resonance', 'type': 'control'}, 'u8': {'operates': {'qubits': [5, 3]}, 'purpose': 'cross-resonance', 'type': 'control'}, 'u9': {'operates': {'qubits': [5, 4]}, 'purpose': 'cross-resonance', 'type': 'control'}}</td></tr><tr><td>simulator</td><td>False</td></tr><tr><td>allow_object_storage</td><td>True</td></tr><tr><td>dtm</td><td>0.2222222222222222</td></tr><tr><td>parametric_pulses</td><td>['gaussian', 'gaussian_square', 'drag', 'constant']</td></tr><tr><td>pulse_num_channels</td><td>9</td></tr><tr><td>qubit_lo_range</td><td>[[4.425051285906436, 5.425051285906436], [4.546462134713409, 5.54646213471341], [4.462013802174123, 5.462013802174123], [4.608240617077812, 5.608240617077812], [4.511136065411962, 5.511136065411962], [4.673309835953398, 5.673309835953398], [4.8193776662802685, 5.819377666280269]]</td></tr><tr><td>coupling_map</td><td>[[0, 1], [1, 0], [1, 2], [1, 3], [2, 1], [3, 1], [3, 5], [4, 5], [5, 3], [5, 4], [5, 6], [6, 5]]</td></tr><tr><td>pulse_num_qubits</td><td>3</td></tr><tr><td>u_channel_lo</td><td>[[{'q': 1, 'scale': (1+0j)}], [{'q': 0, 'scale': (1+0j)}], [{'q': 2, 'scale': (1+0j)}], [{'q': 3, 'scale': (1+0j)}], [{'q': 1, 'scale': (1+0j)}], [{'q': 1, 'scale': (1+0j)}], [{'q': 5, 'scale': (1+0j)}], [{'q': 5, 'scale': (1+0j)}], [{'q': 3, 'scale': (1+0j)}], [{'q': 4, 'scale': (1+0j)}], [{'q': 6, 'scale': (1+0j)}], [{'q': 5, 'scale': (1+0j)}]]</td></tr><tr><td>memory</td><td>True</td></tr><tr><td>rep_times</td><td>[1000.0]</td></tr><tr><td>live_data</td><td>False</td></tr><tr><td>timing_constraints</td><td>{'acquire_alignment': 16, 'granularity': 16, 'min_length': 64, 'pulse_alignment': 16}</td></tr><tr><td>meas_levels</td><td>[1, 2]</td></tr><tr><td>meas_map</td><td>[[0, 1, 2, 3, 4, 5, 6]]</td></tr><tr><td>credits_required</td><td>True</td></tr><tr><td>online_date</td><td>2022-03-25 04:00:00+00:00</td></tr><tr><td>backend_name</td><td>ibm_oslo</td></tr><tr><td>discriminators</td><td>['linear_discriminator', 'quadratic_discriminator', 'hw_qmfk']</td></tr><tr><td>processor_type</td><td>{'family': 'Falcon', 'revision': '5.11', 'segment': 'H'}</td></tr><tr><td>dt</td><td>0.2222222222222222</td></tr><tr><td>acquisition_latency</td><td>[]</td></tr><tr><td>conditional_latency</td><td>[]</td></tr><tr><td>dynamic_reprate_enabled</td><td>True</td></tr><tr><td>description</td><td>7 qubit device</td></tr><tr><td>conditional</td><td>False</td></tr><tr><td>meas_lo_range</td><td>[[6.730336446000001, 7.730336446000001], [6.604991057, 7.604991057], [6.830633187, 7.830633187], [6.632327716000001, 7.632327716000001], [6.713651857, 7.713651857], [6.812390622000001, 7.812390622000001], [6.7878388140000006, 7.7878388140000006]]</td></tr><tr><td>parallel_compilation</td><td>False</td></tr><tr><td>supported_instructions</td><td>['setf', 'delay', 'u1', 'reset', 'x', 'id', 'play', 'if_else', 'shiftf', 'measure', 'u2', 'u3', 'rz', 'cx', 'sx', 'acquire']</td></tr><tr><td>measure_esp_enabled</td><td>False</td></tr><tr><td>local</td><td>False</td></tr><tr><td>multi_meas_enabled</td><td>True</td></tr><tr><td>n_registers</td><td>1</td></tr><tr><td>clops</td><td>2645</td></tr><tr><td>input_allowed</td><td>['job', 'runtime', 'qasm3']</td></tr><tr><td>n_uchannels</td><td>12</td></tr><tr><td>default_rep_delay</td><td>250.0</td></tr></table>"
      }
     },
     "1772954da2fc4d9f8a53a004fa8df943": {
      "model_module": "@jupyter-widgets/controls",
      "model_module_version": "1.5.0",
      "model_name": "HTMLModel",
      "state": {
       "layout": "IPY_MODEL_8b6deb5744804dc6bdab40ed13d6157f",
       "style": "IPY_MODEL_5e31d9869fda43f3bc280cb2e859ecd5",
       "value": "<p style='font-family: IBM Plex Sans, Arial, Helvetica, sans-serif; font-size: 20px; font-weight: medium;'>Circuit Properties</p>"
      }
     },
     "17827d5ded054ed48e22eab91ef726b4": {
      "model_module": "@jupyter-widgets/base",
      "model_module_version": "1.2.0",
      "model_name": "LayoutModel",
      "state": {
       "margin": "0px 5px 0px 0px",
       "width": "32px"
      }
     },
     "18dc29208dca49c4a25733702aff5f85": {
      "model_module": "@jupyter-widgets/controls",
      "model_module_version": "1.5.0",
      "model_name": "HTMLModel",
      "state": {
       "layout": "IPY_MODEL_645bf4039bdc4e8396c17e9149e5f8ae",
       "style": "IPY_MODEL_980b1ea269f34405a57fa6f8be542aeb",
       "value": "<h1 style='color:#ffffff;background-color:#000000;padding-top: 1%;padding-bottom: 1%;padding-left: 1%; margin-top: 0px'>ibm_oslo</h1>"
      }
     },
     "19d5d4221b4d41a58bdf45dfaa5c03af": {
      "model_module": "@jupyter-widgets/base",
      "model_module_version": "1.2.0",
      "model_name": "LayoutModel",
      "state": {
       "margin": "0px 0px 0px 37px",
       "width": "600px"
      }
     },
     "19df6bd6fe13441eb5b0c0c1158194fb": {
      "model_module": "@jupyter-widgets/base",
      "model_module_version": "1.2.0",
      "model_name": "LayoutModel",
      "state": {
       "grid_template_areas": "\n                                       \". . . . right \"\n                                        ",
       "grid_template_columns": "20% 20% 20% 20% 20%",
       "width": "100%"
      }
     },
     "1b4bb1a66ac7475d996c4326c3d479c6": {
      "model_module": "@jupyter-widgets/base",
      "model_module_version": "1.2.0",
      "model_name": "LayoutModel",
      "state": {}
     },
     "1c4951b9aff146358c72064e8bf75dbb": {
      "model_module": "@jupyter-widgets/controls",
      "model_module_version": "1.5.0",
      "model_name": "HTMLModel",
      "state": {
       "layout": "IPY_MODEL_e6c5a1e2200d46eda0ee4c03f0e0180c",
       "style": "IPY_MODEL_3d24216794264714850ab840d5823fe4",
       "value": "<table><style>\ntable {\n    border-collapse: collapse;\n    width: auto;\n}\n\nth, td {\n    text-align: left;\n    padding: 8px;\n}\n\ntr:nth-child(even) {background-color: #f6f6f6;};\n</style><tr><th></th><th>Type</th><th>Gate error</th></tr><tr><td><font style='font-weight:bold'>cx1_3</font></td><td>cx</td><td>0.00676</td></tr><tr><td><font style='font-weight:bold'>cx3_1</font></td><td>cx</td><td>0.00676</td></tr><tr><td><font style='font-weight:bold'>cx5_3</font></td><td>cx</td><td>0.00743</td></tr><tr><td><font style='font-weight:bold'>cx3_5</font></td><td>cx</td><td>0.00743</td></tr></table>"
      }
     },
     "1d6de7082f9a4369a42738cccfe35371": {
      "model_module": "@jupyter-widgets/base",
      "model_module_version": "1.2.0",
      "model_name": "LayoutModel",
      "state": {
       "grid_area": "middle"
      }
     },
     "1edbb2dfa9874cd2830a11c1a276d8b7": {
      "model_module": "@jupyter-widgets/controls",
      "model_module_version": "1.5.0",
      "model_name": "DescriptionStyleModel",
      "state": {
       "description_width": ""
      }
     },
     "1ef320a663c64fa1b3fe7ae0824caccc": {
      "model_module": "@jupyter-widgets/controls",
      "model_module_version": "1.5.0",
      "model_name": "HTMLModel",
      "state": {
       "layout": "IPY_MODEL_b26c6782ddb8410d918c32d5b3d951f9",
       "style": "IPY_MODEL_696e8e75fb1c4876842c409ef0e946e4",
       "value": "<h5>Backend</h5>"
      }
     },
     "1f9630af035a4dcc9ca46043bc028efc": {
      "model_module": "@jupyter-widgets/output",
      "model_module_version": "1.0.0",
      "model_name": "OutputModel",
      "state": {
       "layout": "IPY_MODEL_93993ffce44148d783efa96f30ba4959",
       "outputs": [
        {
         "data": {
          "image/png": "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\n",
          "text/plain": "<Figure size 792x648 with 5 Axes>"
         },
         "metadata": {},
         "output_type": "display_data"
        }
       ]
      }
     },
     "21b1db97df214ba595c3f2fc9595acc9": {
      "model_module": "@jupyter-widgets/controls",
      "model_module_version": "1.5.0",
      "model_name": "HTMLModel",
      "state": {
       "layout": "IPY_MODEL_696b3727e5a34e818f7e35c9e70d4529",
       "style": "IPY_MODEL_fbb43d906bb545b4aa0dbb84e5b28119",
       "value": "-"
      }
     },
     "22572194f6c14207a46484e775647e59": {
      "model_module": "@jupyter-widgets/base",
      "model_module_version": "1.2.0",
      "model_name": "LayoutModel",
      "state": {
       "grid_area": "left"
      }
     },
     "22a0766e6276417f8904d7bdad3b5c5e": {
      "model_module": "@jupyter-widgets/controls",
      "model_module_version": "1.5.0",
      "model_name": "DescriptionStyleModel",
      "state": {
       "description_width": ""
      }
     },
     "22c4974161664fd189520e972958d533": {
      "model_module": "@jupyter-widgets/base",
      "model_module_version": "1.2.0",
      "model_name": "LayoutModel",
      "state": {
       "max_width": "700px",
       "min_width": "700px"
      }
     },
     "2615c8744b474a6481c06db1644df1ee": {
      "model_module": "@jupyter-widgets/controls",
      "model_module_version": "1.5.0",
      "model_name": "TabModel",
      "state": {
       "layout": "IPY_MODEL_7894364cb6884644bb7825bdc37c7309"
      }
     },
     "280878d9f46447a1916f8fa1dd525325": {
      "model_module": "@jupyter-widgets/controls",
      "model_module_version": "1.5.0",
      "model_name": "HTMLModel",
      "state": {
       "layout": "IPY_MODEL_02df6008cc1a40c998b8ed4f9f4193e4",
       "style": "IPY_MODEL_87e890c6337044ba98694c2a23e443b3",
       "value": "6386572387e38d86486f90de"
      }
     },
     "28660ce8812246f7bbd90525a45b0141": {
      "model_module": "@jupyter-widgets/base",
      "model_module_version": "1.2.0",
      "model_name": "LayoutModel",
      "state": {
       "align_items": "center",
       "display": "flex-inline",
       "grid_area": "right",
       "max_height": "325px",
       "padding": "10px 10px 10px 10px",
       "width": "auto"
      }
     },
     "2901f57fdd7540d68bc7813fa39ee69e": {
      "model_module": "@jupyter-widgets/controls",
      "model_module_version": "1.5.0",
      "model_name": "DescriptionStyleModel",
      "state": {
       "description_width": ""
      }
     },
     "2a40d61cd15d4775bed4381db2e14645": {
      "model_module": "@jupyter-widgets/base",
      "model_module_version": "1.2.0",
      "model_name": "LayoutModel",
      "state": {
       "max_width": "700px",
       "min_width": "700px"
      }
     },
     "2b2552fa4a75424989fd82eca0da545d": {
      "model_module": "@jupyter-widgets/base",
      "model_module_version": "1.2.0",
      "model_name": "LayoutModel",
      "state": {
       "grid_gap": "0px 0px",
       "grid_template_areas": "\n                               \"left right right right\"\n                               \"bottom bottom bottom bottom\"\n                               ",
       "grid_template_columns": "31% 23% 23% 23%",
       "grid_template_rows": "auto auto"
      }
     },
     "2cb7b95ecfa7404b9edff3c2d983ba83": {
      "model_module": "@jupyter-widgets/base",
      "model_module_version": "1.2.0",
      "model_name": "LayoutModel",
      "state": {
       "align_items": "center",
       "display": "flex-inline"
      }
     },
     "2e5a19221e664bfeaed478e020f5f55e": {
      "model_module": "@jupyter-widgets/base",
      "model_module_version": "1.2.0",
      "model_name": "LayoutModel",
      "state": {
       "overflow_x": "scroll"
      }
     },
     "2f28a6f7050b45b986aefbd57e36d5c8": {
      "model_module": "@jupyter-widgets/base",
      "model_module_version": "1.2.0",
      "model_name": "LayoutModel",
      "state": {
       "width": "70px"
      }
     },
     "30503384ab544c8886d4db33ca3913a3": {
      "model_module": "@jupyter-widgets/controls",
      "model_module_version": "1.5.0",
      "model_name": "HTMLModel",
      "state": {
       "layout": "IPY_MODEL_0b57a0b8dc374e5087beac1d67e67122",
       "style": "IPY_MODEL_ae3b6669b35846a78b3b8280d621df40",
       "value": "<table><style>\ntable {\n    border-collapse: collapse;\n    width: auto;\n}\n\nth, td {\n    text-align: left;\n    padding: 8px;\n}\n\ntr:nth-child(even) {background-color: #f6f6f6;};\n</style><tr><th></th><th>Type</th><th>Gate error</th></tr><tr><td><font style='font-weight:bold'>cx6_5</font></td><td>cx</td><td>0.00642</td></tr><tr><td><font style='font-weight:bold'>cx5_6</font></td><td>cx</td><td>0.00642</td></tr><tr><td><font style='font-weight:bold'>cx0_1</font></td><td>cx</td><td>0.00856</td></tr><tr><td><font style='font-weight:bold'>cx1_0</font></td><td>cx</td><td>0.00856</td></tr></table>"
      }
     },
     "30a81d9335b54dfdb348ee32b7e5559f": {
      "model_module": "@jupyter-widgets/output",
      "model_module_version": "1.0.0",
      "model_name": "OutputModel",
      "state": {
       "layout": "IPY_MODEL_2cb7b95ecfa7404b9edff3c2d983ba83",
       "outputs": [
        {
         "data": {
          "image/png": "iVBORw0KGgoAAAANSUhEUgAAAoQAAAIACAYAAAAbln2BAAAAOXRFWHRTb2Z0d2FyZQBNYXRwbG90bGliIHZlcnNpb24zLjUuMSwgaHR0cHM6Ly9tYXRwbG90bGliLm9yZy/YYfK9AAAACXBIWXMAAAsTAAALEwEAmpwYAABc8UlEQVR4nO3deZxVdf3H8ddnZthXxx013EhFGhfQ0lRw61dqYaHpSNGmiClUaFoZZdKmKRZoEmoWRJMpFaZYuUG55uAyIpgoirgvI8gywCzf3x/fM3IZZuDOzL33e8857+fjcR8z99xzz/mce+4993O/qznnEBEREZH0KgkdgIiIiIiEpYRQREREJOWUEIqIiIiknBJCERERkZRTQigiIiKSckoIRURERFJOCaGIiIhIyikhFBEREUk5JYQiIiIiKaeEUERERCTllBCKiIiIpJwSQhEREZGUU0IoIiIiknJKCEVERERSTgmhiIiISMopIRQRERFJOSWEIiIiIimnhFBEREQk5ZQQioiIiKScEkIRERGRlFNCKCIiIpJySghFREREUk4JoYiIiEjKKSEUERERSTklhCIiIiIpp4RQREREJOWUEIqIiIiknBJCERERkZRTQigiIiKSckoIRURERFJOCaGIiIhIyikhFBEREUk5JYQiIiIiKaeEUERERCTllBCKiIiIpJwSQhEREZGUU0IoIiIiknJKCEVERERSTgmhiIiISMopIRQRERFJOSWEIiIiIimnhFBEREQk5ZQQioiIiKScEkIRERGRlFNCKCIiIpJySghFREREUk4JoYiIiEjKKSEUERERSTklhCIiIiIpp4RQREREJOWUEIqIiIiknBJCERERkZRTQigiIiKSckoIRURERFJOCaGIiIhIyikhFBEREUk5JYQiIiIiKaeEUERERCTllBCKiIiIpJwSQhEREZGUU0IoIiIiknJKCEVERERSTgmhiIiISMopIRQRERFJOSWEIiIiIimnhFBEREQk5ZQQioiIiKScEkIRERGRlCuqhNDMnJntGzqOQjKzKjM7tQPP62Zmz5rZjnkIS0RERFJkmwmhmb1kZnVmtsbM3jCz35lZ70IE11FmNt/Mzt7K43tGyeeaFrczChxnBXAQMDe6f5CZPWNm75jZxIz1upjZo2a2R/My59wG4LfAdwoZs4iIiCRPtiWEn3bO9QYOBg4Bvpu3iAqrv3Oud8btltZWMrPSFvfL2rOTrax/LjDbOeei+z8DLsIniZea2S7R8onAHOfcihbP/yPwJTPr1p54RERERDK1q8rYOfcG8E98YgiAmX3MzB4ys5Vm9pSZjch47CtmtsTMVpvZMjM7N3N7ZvZtM3vdzF4zs6+2eKyfmc00s7fNbLmZfd/MSqLHLjOzP2Ss21ziV2ZmPwGOBq6NSv2ubc8xRtv7nZldb2bzzGwtcGxUUnqJmdUAa6N9fSYq0VsZlUoekLGNLdZvZVefAhZk3N8LuM859yqwFPiQmQ0ERgHXtHyyc+4V4D3gY+09RhEREZFm7UoIzWx3fBLzfHR/N+BO4MdAOb50a05Gu7a3gFOAvsBXgGvM7NDouZ+M1j8RGASc0GJ304B+wN7AcGBMtI2tcs5dCvwHuCAq9bugPceY4SzgJ0Af4IFoWSVwMtA/iqsK+CawIzAP+LuZdc3YxgfrO+caMjduZr3wCeD/MhYvAj4Rvc57Ai8AvwK+7ZyrbyPOJfgSRREREZEOyTYh/JuZrQZW4JO8H0bLvwDMc87Nc841OefuBqqBkwCcc3c6515w3gLgX/jSO4DPAzc75xY559YClzXvLKqiPRP4rnNutXPuJeBq4IudONbWvBOV7jXfDsh4bK5z7sHouNZHy6Y651Y45+qAM4A7nXN3R8naVUAP4MiMbWSu31L/6O/qjGUXAecBtwPfAj4ePf6imc01swVmdnqL7azO2JaIiIhIu2XbFu5U59w9ZjYc325tB2AlMBA43cw+nbFuF+B+ADP7FD55/DA++ewJPB2tNwBYmPG85Rn/7xBtZ3mLx3fLMt5s7dCy5C5Dy/Z6LZcNICM+51yTma1g8xhb20azldHfPsD6aBvLiZJpM+sJPAx8Al9aegu+NHaRmd3rnKvNeP5KRERERDqovW0IFwC/w5eGgU94Zjnn+mfcejnnfh51dJgTrbuzc64/vlrVoue+DuyRsfkPZfz/DlCPTzgzH381+n8tPrlstgubc3Rea9vIXPYaGfGZmeGP59U21t98Q75U9AV8styaHwA3OOfeBD4CVDvnVgGvAJlD8xwAPNX2YYiIiIhsXUfGIfwlcKKZHQT8Afi0mf2fmZWaWXczGxG1gesKdAPeBhqi0sJPZGznz8CXzWxwVBrWXA2Nc64xevwnZtYn6lgxMdofwJPAMWb2ITPrx5a9nt/Et/HLpz8DJ5vZ8WbWBbgQ2AA81I5tzMO3j9yMmQ0GRgDXR4teBI4zs53x7S1fjtbbDd9285EOHoOIiIhI+xNC59zbwEzgB9EwKCOB7+ETvxXAt4ES59xqYAI+cXoP30nj9ozt3IVPLu/Dd1K5r8WuxuNLApfhO3X8ET/uHlFbxVuAGny18x0tnvsr4DQze8/Mpm7lcFa2GIdw4lbWbfk6/A/fhnIavkTz0/jheTZmuw1gBjA6Kl3MdB3wjSgxBp/wTgCeAX4a9fYG/5r+PhqTUERERKRDbNMQeBKCmf0R+LNz7m/tfF43fFXxMc65t/IRm4iIiKSDEkIRERGRlCuquYxFREREpPCUEIqIiIiknBJCERERkZTLdmDqzshpI8XKykoAqqqqcrnZYtCyp7GIiIhIQRQiIRRJlYqBw3sBBwMH4meS6R7dGvCz0tThh2haCKyoWb5APbuKyMIpM7vj5wf/CH4e9h7489eIP3fr8QPTLwReHDpxjM5fEZk7YVpX/Lk7COjHpvPn8OevDj9W7ePA8yOnjm8KFKpIUSlEL+Oc7qC21s/YVl5ensvNFgOVEMZQxcDhXYDDgGHAMdH/uwLr8NMvlkW3EvxnoRGfGG6MHm/Ej6f5b+C/wMM1yxe8gRTEwikzS4Gh+PN3NPBR/IxD64BSNp3D5uY1DfhztoFNP6ifwZ+/R4GHh04c80qh4k+7uROmGf7H12H4ud+PAPbEJ30l+AkSSqMbbDp/G6PHS4ElbDp/j4ycOv7Fgh2ASBGJXUKYYEoIY6Ri4PABwDjgAvyXSld8KURHNQFrou38G/gFcK9KD/Nj4ZSZOwJnA9/Cn7dSNp8Os70yz99jwJXAXUMnjmnc6rOkQ+ZOmNYf+BJ+IoR++OSuM+fP4c9fGT7BvwKYO3Lq+PrORSoSH7FLCG+77TYATjvttFxuthgoISxyFQOHG35KwW8Dx0aLO5MEtsXhZ+l5Hz8X+M01yxeszMN+UmXhlJmGLwG8EDgF/zr3yNPuVuOrln8J3DB04pi387SfVJk7YdrB+GlMT8eX9PXK065WR9u/Drh+5NTxr25jfZHYi11CqE4lEkLFwOGfAqbj547uReHO11p86dXNwMU1yxesKdB+E2XhlJlHAzcBA/BJYKFGWKjDv1duAyYMnTjmvQLtN1HmTph2KH7q0kFANzZVAefb+ujvP4BxI6eOf7NA+xUpOCWExUMJYRGqGDi8P76U4FQ6VyXVWXXAKqCyZvmC+QHjiJWFU2b2BK7GVy/mqzQwG+vx7RLHDJ045s6AccRK1EHkcvxc7t0Jd53ciD+H5wK3jJw6Xk05JHE0DqFIGyoGDv8k8DzwOcImg+CTmV2AOysGDp8R9WSWrYhKBZcSPhkEn8yUA39eOGXmLQunzNwucDxFLyoVXAKMx5+/kD+au+J7nN8IzJs7YdrOAWMRyQuVEBYPlRAWiYqBw/sBvyZ8qWBbmksLz6xZvmBB6GCKTRGVCrZFpYVbUUSlgm35oLRw5NTxfwodjEiuqIRQJEPFwOG7AU8CoyjOZBA2lRbeVTFw+NmhgykmC6fMLMcPH1KsySBsXlr4ndDBFJO5E6b1Bu6nOEoF29JcWnjT3AnTroqGvhGJvdiVENbV1QHQo0exXus7TBeVwCoGDt8beAjYnvgM2r4OuKxm+YJfhA4ktIVTZu4KPAjshv/SjoN1+Daql6R9gOu5E6aVA/PxHUfy0Xs/H9YBtwBna4BribvYJYQJpoQwoCgZ/C+wHfErOV8H/Kxm+YIfhw4klIVTZu4CVAM7E59kvtlafA/ab6Q1KYzGFXwUP6h0XJL5ZuuAucAXlBRKnMXti49Zs2Yxa9as0GFIgkSDTD9IPJNB8FXb360YOPz80IGEEFUTPwDsRPySQfDDGH0N+GHoQEKYO2FaL3zJ4J7ELxkE//n7DHCtqo8lzmL35Tdv3jzmzZsXOgxJiIqBw/vik4kdiOHnIUNP4BcVA4efHjqQQlo4ZWY3fJuzPfDTzMVVT+DbC6fMPC90IIU0d8K0UmAesB/xTAab9cK3W50UOhCRjorzF6BILkzDzz0cx5KllnoAv406xqTFZGBf4p1MNOsJXL1wysz9QgdSQN/EzyUdlzaDW9MT+M7cCdMOCx2ISEcoIZTUqhg4/ATgNJLxZdSsG/CHaJq9RFs4ZeYw/FzSxdobvCO64XsfF2omjmDmTpg2CJ/QJ2lMze7ArXMnTEvSNUVSIu+lIsvuubvNx/Y+4cR8716kVVFV8R9JVjIBvtr0MGAM8PvAseRNVFV8K8lK5sH/SN8HP9/ylYFjyZuoqvjP+AQ4SQzYEZ/ofjtwLCLtohJCSatpQO/QQeRJL+DahFcdT8Z3IkliSWgv4LKEVx1/Ez+8TBK/g3oC56vqWOIm78POLLvn7jZ3oBLCzSTxi60oRVXFc0le6WCmenzP6eNqli9I1FAmUVXxvynegadzoQlYBBw6dOKYxtDB5FJUVfwUyT5/DngZ2H/k1PHrQwcjko0k/joTaVPUtu56kp0Mgq86HgaMCBxHPkwjeVXFLZUAewOfDR1IHlxF8qqKWzL8yAVfDhyHSNZilxDecMMN3HDDDaHDkPj6GL5XcRr0Ai4KHUQuRdWoB5GOEvXewMWhg8iluROm7QJ8ghh+93RAL+BijU0ocRG7D+V9993HfffdFzoMia8LSXZVVSYDjo8G3k6KCSRjiKBsDVk4ZeYBoYPIobGhAyiwHYEjQwchko3YJYQiHVUxcPiOwMmk633vgHNDB5ELC6fM7IWvgovzANTt1QWfBMfe3AnTyvDHkvTq/kw9SVgpvSRXmr4YRc4mfXNrdwfGVwwcnoQk6kx8Z4s0KQPGRMlw3J1MMgYQb48S4JNzJ0zbKXQgItuihFBSoWLg8FLgW6SnujhTGX6u1dhaOGWmAZeQ3KGCtqYJGB06iBy4BOgTOogAElNKL8kWu4Swe/fudO+ephoHyZGPkM5kEPyX8Jmhg+ik3fDzFadRb+CLoYPojLkTpvXC93pPox7AWaGDENmW2CWEN998MzfffHPoMCR+hpKOnqltOTx0AJ00FNgQOoiAKqJS0rg6GFgXOoiA9pk7YVoSmm1IgsUuIRTpoCNJ1pyp7TWgYuDwOB//4aSzurhZVyDOvcWHkfyxB7dmPTA4dBAiWxO7hHDatGlMmzYtdBgSPx8PHUBg6/Dj98XVcKA0dBABbcSXksbVMaSrd3FLRrzPn6RA7BLChx56iIceeih0GBIjUQ/bvUPHEVhXYvqFFFWVVoSOI7BeQJznxo1z7LnQG41HKEWuXQO8mlk5cBN+pPl3gO865/6Yj8BEcmgwvsqm4G14unbrysTvnccnTzmWnr17smTRc1w1+TqefnJJoUPpDhyNn/YtbnYj0GDUOx1yANsP2Zce2/fDSkp47eGneP3hp0KEUoovJY2dqEPJLiH2fXDlcZTvtSs9tutNU0Mj7730Js/c/iCrX68NEU7aaymkyLW3hPA6fNXFzvhhEK43swNzHpVIbgV7j178gws468uf49133uP+fz7AQYceyG/+cDX9t+sXIpxDQuw0Bw7EX3cKrufO5TSu38DG1UXRHyKuM5bsD9SF2PHAIw6kvm4DryxcSv36jex84J4ccd5ISsqCtD7YK8RORbKVdUJoZr2AUcAk59wa59wDwO3EfDgESYXeBGh/Vr59fz77+ZNobGzknLO+xSUTLufOv91D7z69qPzSZwsdDsR32J1gnWFe+seDPHfrv6h7O0iJUktxbYPXi0ADis//xZ/4zzW38dSf7uPBaX8FoEf/3vTZpTxEOF01r7EUs/ZUw3wYaHDOPZex7ClaqcYws7FEc1b++JvfoPLkkzsVZKb+/fvnbFuSGt0JkBDu8+G96NK1C6+ueJ3ad1cCsLjmWT79uU+w3+B9Cx0OPbp03e2Wc6+J3Uwtvft0Zcede1FaGrsmzznV1OR6zxh9RezOX9cuJfTr3Y2SksLnQqtWvP3B/yWl/hLQ1NjE+vfXFjwW/ADVXUn38ElSxNqTEPYG3m+xbBWtjDzvnJsBzABYds/dOb2AXX/99bncnKRDdwJ0oNp+h+0AWLd2U21ZXd16AHbYsfAlFE0unrO+WYlhKleJ7WtgRTD8Z2nXLhwy+ngAXrj/CTa8H6QJQAP+WqSEUIpSexLCNUDfFsv6AqtzF45IXtQTYA7jd995D4CevTbV1Pbs6f9/J0AVpMU1o3AufTNQt8LF9DVwgU9e197d+di5n2G7gTvz0oOLWHx7sFEqSvDXIpGi1J5Sk+eAMjMblLHsIOCZ3Ia0dVdeeSVXXnllIXcp8bceaCz0Tl9Y+hL1G+vZZcBOlEelhQcetD8Azy15odDhUGrxrHJtalI+COBimhGGDLvHdn04+hunsd3AnXnuX9U8dcv94YLxBTDrQwYgsjVZlxA659aa2V+Ay83sbPxURCMp8NhKTzzxRCF3J8lQR4CEsPad95h72z847axPc+Mfp7D0fy/yf6ccy9o166j6/V8KHQ5lJfFMCEMmQtsP2Zfeu+1Ez522B6D/PnvQtW8vVj6/glUvrChoLDHNB4M6+lun0aN/b9bVvk9p1zKGfO5oAF6pfo6VL79Z6HAaR04dH892G5IK7R3b6+vAb4G3gHeB85xzBS0hFOmA5QRICAGuuGwqDQ0NfOLkYzlu4G7UPLGYq378a96rXVXwWFatr1twxm++NaLgO+6khVNmVgAP0Ep75XzrvdtO7HDgpg5APXcqp+dO5Wx8f23BE8KyspLFY2dfErthvuZOmDYAeIEAvaR79PezHfYs78s+Iw7+YPmqV94OkRC+VegdirRHuxJC51wtcGp+QhHJm8eBniF2vGHDRn466Zf8dNIvQ+w+UwOwIHQQHbSYQPPgLv/nQyz/Z9HMjPRA6AA6YuTU8a/NnTBtAwESwrkTimoc9urQAYhsTTzrkETaoWb5glX4Eu00Wws8FjqIjhg6cUwDvoQpzdYAD4cOohOCTO9SRDYQ3x9kkhKxSwh32WUXdtklyCxIEm9p/3XeHVgYOohOeDB0AEUgzu/hBfhS6rRaT7w/f5ICQeYH7YxrrrkmdAgSTwvwc3B3DR1IIHU1yxe8HjqITngIOBM/HmoadQWeDR1EJzyGL6UOMmdjEegJqEekFLXYlRCKdNBCAs2nWiTiXmVXTbpHn3k+qjqPq4UEagdaJN4ZOXV84XuSibRD7BLCyy+/nMsvvzx0GBI/1aT3C6kOuDN0EJ20JHQAAW0E7godRGeMnDr+NeC90HEE0gjcFzoIkW2JXUK4ZMkSlixJ83eDdETN8gWrgdsINPxMYCXAzaGD6IyodGwGPjlKmybg16GDyIFrgCBzxgW2AX/sIkUtdgmhSCdcQ/rmEW0C/l6zfME7oQPJgWvxx5M2/x06ccyy0EHkwG9J53fO8pFTx6tDiRS9NH44JaVqli94HHgxdBwFVgdcHTqIXBg6ccxLwCOh4yiw1UAi5uocOXX8u8Bc0pXUrwGuCB2ESDaUEEraXIH/kk2L14FHQweRQ1fiv2TTYj3wj9BB5NDVpK9z159DByCSjdglhHvttRd77bVX6DAkvm4NHUABrQGuqFm+IEm9c/9Jetqh1QHXDJ04JjHtXkdOHf8Y8EroOAqkHrhp5NTxaUuAJaZilxD+9Kc/5ac//WnoMCSmapYvWA9chR8TLenWA1Whg8iloRPHNAE/IB3nr7kjTdJ8j3Scv3rUmURixJzLe+FBkkon8slCB5AWFQOHdwEWAYNI7uu+Dji1ZvmCu0MHkmsLp8wswU/jNhQoDRxOvqwFzh46ccyfQgeSD3MnTLsDOJHkDhS/FvjuyKnji2oyZZGtiV0J4fe+9z2+973vhQ5DYqxm+YJ64HR8CVoS1QG3JTEZhA9KCc8kuT3GNwL/AW4JHUgefZXkfv4agcXAdaEDEWmP2CWEL774Ii++mLaOopJrNcsX1AC/IJlVV2uB8aGDyKehE8e8CHybZJ6/DcCXh04ck9jalZFTx78FnE1yz9+ZI6eOT1NvakmA2CWEIjn0Y+BVktWsYR1wVs3yBe+HDqQApgPPkKzBxtcCY4dOHPNm6EDybeTU8bcC80nWYONrge+MnDo+CeNGSsooIZTUyqg6TkovwHXAn5NaVdxSRtVxUs7fenyClOSq4pa+ik+ikvCjbCPwNKoqlphSQiipFlUdJyGpqMOPNzg2dCCFFFUdn0z8h6LZgG939vkkVxW3FFUdH0f8q47rgZeBT6mqWOIqdgnhAQccwAEHHBA6DEmQmuUL/g6cQ3yTwvX4qtOTo1LPVBk6ccy/iXdJ70ZgOXDc0Ilj4p7YttvIqeOfBD5JfJP6RuAt4KiRU8evDByLSIdp2JnikdThT2KjYuDwr+Cre3qEjqUd6vDJ4PEpaTfYpoVTZp4K/JF4nb8N+OkUjxk6cczboYMJae6EaccCfwd6hY6lHeqBN4CPj5w6fkXoYEQ6Qwlh8VBCWAQqBg7/HPAH4pFUrMNXE59cs3xBXEvHcmrhlJknAH8jHklFc8nu8UMnjlkVOphiMHfCtMOBu4E+FP81cQO+ZPfoqOpbJNbynhAuu+fure5g7xNObNf2vvWtbwFwzTWJGwC+2C9+qVExcPixwG1AT6B74HDaUodPXM9PYzXx1iycMvMwYC7Qn+JN7NcBd+KHl4lrVWlezJ0wbTBwB7Az/jNYjNYCDwKfHzl1vJJ5SYTYtSF84403eOONN0KHIQlWs3zB/cA+wF8pvnZNdcCb+FLBsUoGtzR04pjH8LPQzKT4zt8G4D3gzKETx3xeyeCWRk4dvxg4AJiGf78XUy1TPbAa3+b4k0oGJUliV0JYWVkJQFVVoqZoBZUQFqWKgcNPAmZRHKWFdcBs4Fs1yxesCRxLLCycMvMY4E8UR2lhc6nguUMnjnkvcCyxMHfCtKHArRRHaWFzqeCXRk4dr1IJSZzYlRCKFFLN8gXz2FRaWAc0BAhjDZtKBc9RMpi9qAdyc2lhHb6Ep9DWALVsKhVUMpilkVPHL2Tz0sIQ0xWuZfNSQSWDkkgqISweKiEschUDh1cA3wLOAJrIb8eFRvyX3zLgCvzcxEmd+7UgFk6Z+WFgAvBlfDVk7zzurgmfwLyOP39VQyeOiftYe0HNnTBtT+B84Fz89TKf58/hE8H38FNczlT1sCRd7BLCK6+8EoCLL76440EVJyWEMVExcHhfYAx+Lt1yfGKYq/O3FijFV5NdU7N8wRM52q5EFk6Z2ROoBC4BBuCrknNVW1KHfy/cAVwNPJqmgaYLYe6Ead2AUfjzty/QDf+ZyYX1+PN3Lz4RXDBy6nidP0mF2CWECaaEMGYqBg434Bj8TCdH4asm69lU+rStc7oB/wXUE3gHWAjcBfyxZvmClfmJWpotnDLTgMOBs/DncX98yWwT2Z2/jfgEsAewCngc+BcwK+1jChbK3AnTDgK+CAwHDsR/9hrw529bSX49vl1nd/wPsSeAe/Clga/lK2aRYqWEsHgoIYy5ioHDS4H9gKHAkcBh+C+mbvgvnQZ8ElgHvAQswCeBj9csX6DqqMAWTplZgi9xGgocAXwM6FO7eu3+ZaWlNDU5GhobaWhsZJfyfv8A/g1UA48PnTjm3XCRC8DcCdMM2AsYBnwU/xnsh//sdccn+s2fvzfwn79qYKHGERSJYUJ43nnnAXD99dd3PKjipIRQpAiNOODULa5h85f8TZ9XEUmUstABtNfKlStDhyAiIiKSKBp2RkRERCTllBCKiIiIpJwSQhEREZGUi10bwiOPPDJ0CCIiIiKJEruEcPz48aFDEBEREUmUdlUZm9kFZlZtZhvM7Hd5iklERERECqi9JYSvAT8G/g8/On/BfeUrXwHg5ptvDrF7ERERkcRpV0LonPsLgJkNA3bPS0TbsH79+hC7FREREUmsvPQyNrOxUdVyddWdd+ZjFyIiIiKSI3npVOKcmwHMgG1PXSciIiIiYWkcQhEREZGUi92wM8cdd1zoEEREREQSpV0JoZmVRc8pBUrNrDvQ4JxryEdwrTnnnHMKtSsRERGRVGhvlfH3gTrgO8AXov+/n+ugRERERKRw2jvszGXAZXmJJEuVlZUAVFVVhQxDREREJDHUqUREREQk5ZQQioiIiKScEkIRERGRlFNCKCIiIpJysRuH8KSTTgodgoiIiEiixC4h/OIXvxg6BBEREZFEiV2VcV1dHXV1daHDEBEREUmM2JUQfvWrXwU0DqGIiIhIrsSuhFBEREREcksJoYiIiEjKKSEUERERSbm8tyHc+4QT870LEREREemE2HUqGTVqVOgQRERERBIldgnhaaedFjoEERERkUSJXRvC2tpaamtrQ4chIiIikhixKyE8//zzAY1DKCIiIpIrsSshFBEREZHcUkIoIiIiknJKCEVERERSTgmhiIiISMrlvVPJsnvu3mJZZwarHj16dGfCEREREZEWYtfL+JRTTgkdgoiIiEiixK7K+LXXXuO1114LHYaIiIhIYsSuhPDCCy8ENA6hiIiISK7EroRQRERERHJLCaGIiIhIyikhFBEREUk5JYQiIiIiKRe7TiVnn3126BBEJMHmT5phwN5ABdB36F57UFZainOOhsZG6hubmD9pxrHA4yMmj10VNloRkdww51xed7Dsnru32EFnBqZOMAsdgEjaRMnfXsAw4GPA0cCBgAMagJKNDQ29S8xwgHMO56Bbl7JVQE/gXWAhsCD6u1BJoojEUewSwmXLlvlt7L13x4MqTkoIRQpk/qQZPYFK4BJgN3zy15uON6PZCNQB3YA7gKuBR0dMHpvfC6yISI7ELiGsrKwEEjkOoRJCkTybP2nGfsAE4MtAEz4JzLUmfHL4OnAFUDVi8ti1ediPiEjOxK4NoYhIe82fNKMC+A1wEP661yWPuysBegH7AtcAv5o/acZ0YNKIyWPX5XG/IiIdpl7GIpJY8yfN6DJ/0owfAY8AHwV6kN9ksKXe+LaG44Dn5k+a8fEC7ltEJGtKCEUkkaJSwaeBC/GJYMhmGT3xbRXvnj9pxrSoDaOISNHIOiE0s25mdpOZLTez1Wb2pJl9Kp/BiYi0V4tSwQ/jq2+LRQ/gq6i0UESKTHtKCMuAFcBwoB/wfeDPZrZnHuJq0/nnn8/5559fyF2KSEzMnzSjN3A/cBHhSwXbklla+LXQwYiIQCd7GZtZDfAj59ycttbROIRZK8YvLpHYmD9pxnbAfHypYPew0WRtHXDZiMljfxE6EBFJtw63ITSznfEX3mdaeWysmVWbWXXVnXd2Jr4tLF68mMWLF+d0myISb1Ey+CiwH/FJBsGXFl42f9KMH4QORETSrUMlhGbWBbgLeME5d+7W1tU4hFlTCaFIB8yfNKMX8BA+GewWOJyOWgd8Z8TksdNCByIi6dTuEkIzKwFm4UfmvyDnEYmIZGn+pBllwD/wtRVxTQbBlxReMX/SjMrQgYhIOrUrITQzA24CdgZGOefq8xKViEh2LgYOJV7VxG3pAdw4f9KMgaEDEZH0aW8J4fXAAcCnnXN1eYhHRCQr8yfNGIwf7SBJY/p1Bf44f9IMNSERkYJqzziEA4FzgYOBN8xsTXQbna/gRERaE1UV30q8q4lbU4afXm9s6EBEJF2ynsvYObecIuj4cNFFF4UOQUTCuxgYSDJnW+oFXD1/0ox/jJg8dnnoYEQkHTo1DmE2NA5h1oIn2yJxEFUVV+Pb3CVVA/Bf4KgRk8fm9yItIkIMf10vXLiQhQsXhg5DRMK5luRVFbdUBlQAJ4UORETSIesq42Jx1VVXAYkch1BEtmH+pBl7AkcQwx+zHdAbXzWe29H9RURakYaLqogkxwWkq3nF4fMnzdg7dBAiknxKCEUkFuZPmtEN3/s26dXFmUrQBAAiUgBKCEUkLk4LHUAAXYFz5k+akYSBt0WkiCkhFJG4uAToEzqIQE4PHYCIJFvsOpVMmjQpdAgiUmDzJ83YBT9fcRr1Br6Cn0NeRCQvYpcQDh48OHQIIlJ4Q4H1pKv9YKaDQwcgIskWuyrjBx54gAceeCB0GCJSWIfjZ/BIq57zJ83YOXQQIpJcsSshvO666wA46qijAkciIgU0nBher3JoPb6UdF7oQEQkmfJ+gdU0dSKSAweFDiCwXsAwlBCKSJ6k+Re3iMRA1KEkyLzF+39uBNvtsxtdenancUM9q197m2V3/5c1r79b6FDKgBHA5YXesYikQ+zaEIpI6nwEX2VacN3792blS6/z+uP/o75uPeWD9mDIWZ8IEQrAkFA7FpHkUwmhiBS7PgSaru7J397xwf+9d92eYV8fRbe+vbASwzW5QocTpJRURNIhdgnhT37yk9AhiEhhdSfg/MW7ffRAeu7Yn+322Q2AFQ8+HSIZBOgSYqcikg6xSwj33lvzvIukTHcCNm/Z8cC96L/XAADWr1rDqpffCBWKEkIRyZvYtSG89957uffee0OHISKF0wAEKZIDX2387x/dxNOz/0m3Pj058MwT6davd4hQmkLsVETSIXYlhDfeeCMAxx9/fOBIRKRA1hMgGSopK6WpsQmco6mhkdqlK2jc2EBZ9670KO/DhlVrCh3SxkLvUETSI3YJoYikTh0BSgj77r4TB5x+HKuWv0F93Qb6D9yFsu5d2bimjtWvvVPocADqQ+xURNIh7wnhsnvu7tDzNKC1iEReJUCnkg2r11H37iq222c3Srt2oX7det5a9ALL73+cxg1BcrNgjRdFJPlUQigixW4RAYZcqXt31WbDzhSBh0MHICLJFbtOJSKSLiMmj90IvBg6jsDWAg+GDkJEkit2JYRXX3116BBEpPAeBj4cOoiAmoDq0EGISHLFroRwwIABDBgwIHQYIlJYD+JLydKqO/BM6CBEJLlilxDecccd3HFHUbXrEZH8qwYaQwcR0LIRk8eql7GI5E3sqoxnz54NwCmnnBI4EhEpoGeI4fUqRxqAjg3XICKSpdiVEIpI+kQdS35HOsfiqweuCx2EiCSbEkIRiYup+NKytFk0YvLYZ0MHISLJpoRQRGJhxOSx/wNqQsdRYKuBK0IHISLJp4RQROLkCnySlBaNwO2hgxCR5ItdI+3rrlNTGpEU+zvpaUe4HrhWvYtFpBBiV0JYXl5OeXl56DBEJIARk8c2AD8nHWMSNgK/Dh2EiKRD7BLC2267jdtuuy10GCISzjXAS/jZO5JqLTBxxOSxr4cORETSIXYJ4Zw5c5gzZ07oMEQkkKiU8HRgQ+hY8qQBeBK4IXAcIpIi7UoIzewPZva6mb1vZs+Z2dn5CkxEpC0jJo9dAvyYZFYdbwDOGjF5rAsdiIikR3tLCH8G7Omc6wt8BvixmQ3NfVgiItt0JcmrOm6uKn45dCAiki7tSgidc88455qraVx02yfnUYmIbENG1fH60LHkyAbgCVRVLCIBtLsNoZn92szWAc8CrwPzWllnrJlVm1l11Z135iBMEZEtRVXHZwB1oWPppHrgZeDTqioWkRDMufZfe8ysFDgCGAFc4Zxrc5ysZffc3aGL294nnNjq8ro6f93v0aNHRzZbzCx0ACJxNX/SjLOAG4E4XhgagTeAoSMmj30zdDAikk4d6mXsnGt0zj0A7A6cl9uQtq5Hjx5JTAZFpBNGTB77R+B84ldSWI+vaTlCyaCIhNTZYWfKKHAbwlmzZjFr1qxC7lJEYmDE5LE3A18kPknhBuBFfMngitDBiEi6ZZ0QmtlOZnammfU2s1Iz+z+gErg3f+Ftad68ecybt0WzRRERRkweOwc/AsJKinucwrXAw8BHR0we+1boYERE2lNC6PDVw68A7wFXAd90zmnidREpGiMmj70H2Bff4W1d4HBaqgfWAOOB40ZMHrsybDgiIl5Ztis6594GhucxFhGRnBgxeey7wOfmT5pxKnAzvrNJt6BB+VLBx4AvjJg89tXAsYiIbCZ2U9eJiGRrxOSxf2Pz0sIQg1jXsXmpoJJBESk6WZcQiojEUUZp4ceAi4BT8IlhvocrWI0fNPuXwA0jJo99O8/7ExHpsA6NQ9geuR6HMME0DqFIAcyfNGNH4GvAt/BJYZ8cbn4jPtl8DD+13l0jJo9tzOH2RUTyQglh8VBCKFJA8yfNKAX+D/gy8FFgAL6dX1eyKz10+KrgEqAUWAzcA8wYMXnsC3kIWUQkb2KXEN5wg5/m85xzzul4UMVJCaFIQPMnzegFHAQMBY4BDgV6baxv3LmkxHDO0eQcTU2OHt26PA78B3gUWAg8P2Ly2BDtE0VEciJ2CWFlZSUAVVVVHQ+qOCkhFClC5x3zjS2uYdf/+1f6vIpIoqiXsYiIiEjKKSEUERERSTklhCIiIiIpF7txCLt37x46BBEREZFEiV1CePPNN4cOQURERCRR8p4QpnA8QREREZFYiV0bwmnTpjFt2rTQYYiIiIgkRuwSwoceeoiHHnoodBgiIiIiiRG7hFBEREREcksJoYiIiEjKKSEUERERSbnYDTvTv3//0CGIiIiIJErsEsLrr78+dAgiIiIiiaIqYxEREZGUy3sJ4bJ77s7p9m78y18BOPtzn233czVItoiIiMiWYldlvHjZstAhiIiIiCSKqoxFREREUk4JoYiIiEjKKSEUERERSbnYtSHccbv+oUMQERERSZTYJYTf/drXQocgIiIikiiqMhYRERFJudglhL++5RZ+fcstocMQERERSYzYVRk/v+KV0CGIiIiIJErsSghFREREJLeUEIqIiIiknBJCERERkZSLXRvC3XfeKXQIIiIiIokSu4Rw4he/GDoEERERkUTpUJWxmQ0ys/Vm9odcByQiIiIihdXRNoTXAY/lMpBsTZk1iymzZoXYtYiIiEgitbvK2MzOBFYCDwH75jqgbXnlzbcKvUsRERGRRGtXCaGZ9QUuByZuY72xZlZtZtVVd97ZmfhEREREJM/aW0I4GbjJOfeKmbW5knNuBjADYNk9d7uOhyciIiIi+ZZ1QmhmBwMnAIfkLRoRERERKbj2lBCOAPYEXo5KB3sDpWY22Dl3aO5Da92+e+xeqF2JiIiIpEJ7EsIZwJ8y7l+ETxDPy2VA2/L1M84o5O5EREREEi/rhNA5tw5Y13zfzNYA651zb+cjMBEREREpjA7PVOKcuyyHcWTtZzfdBMB3v/a1ELsXERERSZzYTV339nsrQ4cgIiIikigdnalERERERBJCCaGIiIhIyikhFBEREUm52LUhHLz33qFDEBEREUmU2CWEZ3/us6FDENmmRdOrtgeG4Adw7wF0AxqA9dHtZeC5IeMqG4MFKW2qranuD3wE6HvgwR+irKyUJudoqG+kvr6B2prqjwBLyiuGNYSNVFqzdPacPvjz1x/oHt0cUIf//L0BLB40etTGUDGKFBtzLr9TDRfTXMZ7n3Bi6BC2pu3JoaWoRcnfUOAwYDh+ese++C8f8Oe2+fy66FYKdAGeAx4AHgYWAv9TklhYUfJ3KDAMf/6GAuVE466ur9vYDzNwjuaLWY8eXVfjk/wXgAeBh/Dnb7GSxMJaOntOX/xnbihwDP5zuCObxs1t7fNXgk8SX8R/9h7En79FShIlrWKXEF52/XT/97xx7X6uEkLJlUXTq7oCnwMuAQbjk7+e+CSvvRywBv8eaAJuAK4dMq7ypZwEK1uorakuA04Bvo1PBOvwJbldO7jJNWxKNH4P/Kq8YthzOQhVWrF09pwS4ET8+TsGn/x1xyfpHbEWaMSf/yrgmkGjRz2dg1BFYiN2CeHEq64GYMpFF7b7uUoIpbMWTa/6EPB1/JSNBvTJw2424JOLh4FfAP8cMq6yKQ/7SZ3amupdgHOBCfjkPR/nrx6fXDwJXAHcoVLD3Fg6e872wFeAC4Fe+CYZub52NuDP4XP48zdHpYaSBkoIi4cSwiK2aHrVAcBU4Cj8uepoSUR7rcaXfvwI+I0Sw46praneE/gV8Al8st2jQLtejU8urgCmKDHsmKWz5+wKXA18Fl+K3rNAu16Nf7/8CvjJoNGjNhRovyIFp2FnRLZi0fSq0kXTq74LVAPH0blqqY7oA+yMLyl8dNH0KnWzb4famuqS2prqrwOLgJPw569QySD481cO/ACoqa2pPrCA+469pbPn2NLZc0YD/wNOw5+/QiWD4M9fX3yJ5LNLZ885rID7FimovJcQAjndQWVlJQBVVVW53GwxUAlhkYlKBf8M7IWvngqtEV+d/F18G0OVFm5FVCpYhe9tWgznrwl//n4K/FylhVsXlQrOBI6gOM6fw/dQ/jVwqUoLJWlilxBOmzYNgPHjx+dys8VACWGRWDS9qhS4GPg+vkSi2ErS1wJLgDOGjKtcFjqYYlNbU10CjAOuxJfmFtvwWmvxww6dXl4x7JnQwRSbpbPnGHAWcD3+89eRjlr5tA54C/j8oNGjHgsdjEiuxC4hTDAlhEVg0fSqXsA/8MNYFEOpRFsa8aUVI4eMq7w3dDDForamuhtwG3AsxX3+mvDn7wvlFcP+GjqYYrF09pxS4LfAKIr7/DWXFl4waPSo34YORiQXiq3kQySYRdOrtsOPRzaM4v4yAj+OYS/g9kXTq0aGDqYY1NZU9wLuxrf1LPbzV4JvCze7tqb6y4FjKQpLZ8/pCvwV31aw2M+f4duiTls6e87E0MGI5ELsSgi/8pWvAHDzzTfncrPFQCWEAUXJ4CPAQArbaSQX1gFfGTKu8s+hAwklSgYXAAfiqxnjZB1wUXnFsOtDBxJKlAzeBXyMwnYayYV1wM8HjR41OXQgIp0RuxLC9evXs379+tBhSIIsml7VG5hPPJNB8F+gv1s0veqk0IGEEFUT/4N4JoPgz99VtTXVZ4UOJISomvhW4pkMgo/5O0tnz0lcw3ZJl9glhCK5tGh6VRfgn8CHiWcy2KwHcOui6VUfDx1IIUUdSObgpy2LYzLYrCdwY21NdaqS+qgDyU3ACcQzGWzWE/h5NESOSCwpIZS0mwQcTLyTiWY9gb8tml7VN3QgBfR1YASFHVswX3oAf6qtqd45dCAFdDq+zWCck8FmPYEZS2fP0VihEktKCCW1Fk2vOgi4iGR8GTXrDVwbOohCqK2p3gs/A0ixd0Boj27A72trqhPfpnjp7Dk74eftTtr5uyWaa1kkVvI+Pteye+7Oet1sppY77rjjOhOOCPBBVfGtJKNkMFN3YNSi6VV/GDKu8l+hg8mXqKr4FuJdzd+arvjpEc/ED6qdSFFV8e9I3uevFDgAuAA/1aVIbMTuV8w555zDOeecEzoMib8fAANIZu/unsDsRdOr+oUOJI/OBwbjv4CTphfwm9qa6l1CB5JHnweOwSfASdML+NnS2XP2CR2ISHvELiEU6ayoqvhCklVV1VJvYFroIPKhtqZ6b+DnJPv8JbbqOKoqnkHyz9+fVHUscRK7N2tlZeUH8xmLdNANJK+qqqXmquODQweSB9NIXlVxS12Bj+MH2U6an5H8z18psD++04xILMQuIRTpjEXTqwYDQ0hmVXFLXYFEzaJQW1M9ADieZFYVt9QT+HboIHJp6ew5fYFKkllV3FJv4JLQQYhkSwmhpM03gS6hgyiQMuC0RdOr+ocOJIfOIz3zoxswvLamevfQgeTQGPw8zmmx/9LZc4aEDkIkG0oIJTWiGUm+QAF61xcRB3wpdBC5UFtT3QXfezPp1Y0tnRc6gFyIehZ/m2S3HWypC/5HqEjRU0IoaTIaaAwdRIH1BL69aHpVEqrIP0M6qoozdQe+HiXDcXcMUB46iAIrA85aOntOn9CBiGxL7BLCk046iZNOStXsTpIDUUJ0Mb5dT9r0A44NHUQOXAKk8Yu1FDg1dBA5kLbSwWZN+JoJkaIWu6qzL37xi6FDkHj6MJDkcd22phe+2vi+0IF0VG1N9Q5AReg4AukDnI0fSD2Wls6e0w34BOnozNVSL+Ac4PrQgYhsTexKCOvq6qirqwsdhsTPMNJXXdzMgCNCB9FJQ4H1oYMI6NDQAXTSECDNF+4DNCahFLvYvUG/+tWv8tWvfjV0GBI/HyOd1cXN9lw0vSrOQ30cRrLmnG6vvrU11duHDqIThhHDGqkcagQGhQ5CZGtilxCKdNDRpLO6qtl6fClNXA0nPcMFtaYOX0oaVx8n3Ql9E/E+f5ICSggl8RZNryrBzxqQZiX4Upq4OiR0AIH1xJeSxlXcmyx0Vm98LYVI0UpzEb6kx4eBegJOd9Zv34HsccKRALxT8z/eeOjxQofQC19KM6PQO+6s2prqHQnYu7jP3vvRpffmu29YX8f7zz1TyDC64EtJf1LIneZC1KFkYKj999p9AOVD9qNrv364piY2rlzFawseomljfSHDMHwthUjRaldCaGbz8b9yGqJFrzrn9st1UCI5VkHA2RHKevVgwNHDcI1NWGnQQvnDQ+68EyrwVaZB20Cuf/vND/5vaihoMtEsrr2s98efv4JX+fceuDu7HvVRmhobWbviNZoaGui+fTlWWor/jVhQ+q6UotaREsILnHM35jySLI0aNSrUriW++hKwNHz3Yz9G/do61teupP++wQpKIL6davqGDgBg3esrQocQ1zZ4fQn0g2yHQz4CwGv3PUDdW++ECCFT96Wz59ig0aPSMvWixEzsqoxPO+200CFI/PQgUHvZ7Sv2o+euO7LsL/9i+4qwBQQlZaW719ZU68uog/oPPhgMGtetY90br9BYt66g+9+4sb5PxcDhsTt/B+37IS6s/BS9ehS2xUaXPr3p0qsnTQ0NbDd4PwaM+DgN69ez8tmlrHpuWUFjiTh8KenGEDsX2ZaOfEn+zMzeMbMHzWxEayuY2Vgzqzaz6qo77+xUgC3V1tZSW1ub021K4nUnwJRn3bbrx86HH8Rbjz3N+ndXFnr3W3AudrlEUXBNjWx8fyUbV9XStHEjXfr0pc9eH8bKCvt7uqwsnrP2dQkUd2k338KgpKyMLr17sfrlVyjr0YOdDjuEXrsPCBFSI/7HqUhRau8V7RJgMf4XzpnA383sYOfcC5krOedmEDVeX3bP3Tn9Fjr//PMBqKqqyuVmJdka8b/OC6rv3ntgpSX0GrATPXfdkR7b9/fL99wN19DIm/99qtAhSQeseen5TXfM6LffEEq7dqNL775sXFm4H6dNTfFM6JucI8DHj8YNmwri3njoMTbUvodrbKT/h/eh1+67svaV1woeE5va34sUnXaVEDrnHnXOrXbObXDO/R54ENDEwlLs1hNglhIzMDP6fGgAfQfuRpfefhrXrn1703OXwo8xbCVpHoaxg6wEK2ujL0SBS1wbGuM50c7G+gZCDAFav3YtjW30JHb1QfKyLqR7th0pcp2t83Cke7BfiYf1BGjU/lb1It6qXvTB/d2O/Sjb7bd3qGFnfIYq7VJSVka//YZQv2Y1TfUbKOvZm9Ku3Wiqr6d+zeqCxtLQEM+EsL6hgRAlhDQ5Vj67lO0rBrPLkcOoe6eWPgP3wDU18f5LLxc+HmgcNHpUPE+ipELWCaGZ9Qc+CizAF3ufARwDfCMvkYnkzmuoqoamjQ3/La8Y9tHQcbRXbU31YcA9BOht3NTYwIb33qVL7z506d0H19jIxlXvUffGq7jGwr6levfq8ULN8gX7FnSnObB09py9gEUE6CVdu+hZrLSEvnsPpM/A3dm4ahXv1ixhw7vvFToUgJUhdiqSrfaUEHYBfowfU6oReBY41Tn3XD4CE8mhx/EdS4J69f5HefX+R0Ptvgn/Yy6OniZUY/ymJta9ujzIrlvxSOgAOuglghQRAs7x7pPP8O6TBR1EvC1PhA5AZGuybkPonHvbOXeYc66Pc66/c+5jzrm78xlca0aPHs3o0aMLvVuJsSHjKt8C1oaOI7A1QLBstDPKK4atB4IPAhjYOuA/oYPoiGjcvcWh4wisnvj+IJOUiN04hKecckroECSengCODx1EQGXAwtBBdMIjwN6hgwiogXifvwXAUAKNB1oE1gHVoYMQ2ZrYfThfe+01XnstyHABEm8LCDBXVRFxQNHUfXbAA/gv1bTqga86j6v/4kup06oH8U7oJQViV0J44YUXAhqHUNqtGp9Q9AsdSCDPDBlXGc+B7Lxq0t0x6OXyimEbQgfRCdXE8Psmh1YPGj3q7dBBiGxN7EoIRTroMYqgY0kgG4GCt/fNsaeBrqGDCKQRuD90EJ30Eumdss0BD4cOQmRblBBKKgwZV/kO/ks1zqVkHdUE3Bg6iM6IOpbcQjpLCTcA14UOojOijiW/wR9L2qwBfhU6CJFtUUIoafIL0tnb+OEh4ypfCh1EDlxDOkuZlpVXDHsydBA58GvS+YNsNXBf6CBEtkUJoaTJ/aRvcNjV+EQ49sorhj0FPL/NFZNlNXBF6CByYdDoUS/jOwelKSlcB1w1aPSogs+UJNJesUsIzz77bM4+++zQYUgMRZ0qriJdpYR1wD9DB5FDV+CTpDS5LXQAOZS2UvoS4HehgxDJRuwSwuOPP57jj0/zcHLSSb8nhu/7DloHTBkyrjJJpRNzSE8J00bghqj9ZFLcQ3oS+kZgzqDRo4LMkyfSXrH7Yly2bBnLli0LHYbE1JBxlSvxSWGSvmTbEvvOJC1FQ69cQzrGJGwEpoYOIpeiqtPJpKOUcCMJqe6XdIhdQnjppZdy6aWXhg5D4u1ikl9KsRY4f8i4yndDB5IHPwPeJNklhWuBH5RXDIvzYOJt+Q3wHD7hTap1wLWDRo+K82DikjJ5Hyh07xNOzPcuRNplyLjK1YumV50FzAV6ho4nD+rxM0PMCh1IPpRXDNtQW1N9On5u3x6h48mDJnznmWtCB5IPg0aPalo6e84ZwFMk8/w54C1gUuhARNojdiWEIrkwZFzlPcCfSWbV8QbgCzGfmWSryiuGLQSmkcyq4w3A58srhiW2BG3Q6FFLge+TzKrj9cDpg0aPSuOYixJjSgglzSYA74cOIseaq4rTMOH3D0he1XFzVfFzoQMpgF+SvKrj5qri6tCBiLSXEkJJrSHjKlcDZ5GcUqYNwKMktKq4paiDyekkp5S3ngRXFbcUdTD5PMmZvaQR/wNFVcUSS+Zc3n9c53QHDzzwAABHHXVULjdbDCx0AGm1aHrVN4GfEO/2hPXAi8BHo57UqVFbU/0FfEeFOJ+/5mRiaHnFsDdCB1NIS2fPORnffCPO588BtcBhg0aPejF0MCIdEbuEMMGUEAa0aHrV5cBEoFfoWDqgEXgdGDpkXOVboYMJobam+gL8EB9xTCoc8C4wLKG9irdp6ew5ZwI3Ec/zB77pyRGDRo9aHDoQkY6KXZXx4sWLWbxYnznJuR8C1xO/6uN64A3gyLQmgwDlFcOuBX5E/M5fAz4ZPDqtySDAoNGj/gSMx8+sEycOnwwep2RQ4i52JYSVlZUAVFVV5XKzxUAlhEVg0fSq7wGXEo+Sig3Ay8DRQ8ZVvhk6mGJQW1M9Ft8GLw7nrx54G/h4ecWwlwLHUhSWzp5zGn7g+Dicv0b83OjHKBmUJIhdCaFIPg0ZV/lT4Bv4kopi7v24FqjGtxlUMhgprxg2A/gS/vVpCBzO1qwFluDbDL4UOJaiMWj0qNuAz+JL3TYGDmdr1gEv4dsMKhmURMh7CeGye+7O6Q4mXnU1AFMuujCXmy24VgbsVglhEVk0vWoQvqH7IIqrXWEDvmTwIuA3SR5rsDNqa6r3AGYDh1Jc568Jf/5+BFyV5LEGO2Pp7Dk7ATcDwymu8+fwvdqvAX40aPSoYk5aRdol7zOViMTRkHGVSxdNrxoGfBM/92pXoDRoUL5UqQaoHDKuMrXtzbJRXjFsRW1N9XDga/jx7roR/nq3FliGH3T62cCxFLVBo0e9BZy8dPaczwM3AN3xn8GQ1uE7b50+aPSoJwLHIpJzqjIWacOQcZWNQ8ZVXg0cBDwNrAkUygZ8MnER8HElg9kprxjmyiuG3QgcADxMuPO3Ed8EYTJwiJLB7A0aPaq5lP4e/GcgRIl4A/78/RIYrGRQkip2VcbPvPACAAfus08uN1twqjKOl0XTq0qBzwEXAwcCXch/idNq/Bfg9cC0IeMqX83z/hKrtqbagJOBS4Bh+B/D+S5xWoP/XN8E/LK8YpjGp+uEpbPnHI///B0TLeqe512uwdcKzAauHjR6lBJ5SbTYJYRJoYQwvhZNrxqMr0oejW8T1juHm2/Alyg9hx9X7y9DxlWqnVIO1dZU74Mf4uRr0aJcnr9GNvX+vgK4pbxiWNyGUilqS2fP2QM4D/g6PrHvk8PNN+Grht8GrgRmDxo9anUOty9StGKXEKqEUIrFoulVvfFJ4ZeBj+C/nOrxCUa2zTHW4ZPAHsAKfNXYtUPGVT6d63hlc7U11T3wU6d9FTgYX2K4AX/+sm0vWoc/5z2BV4EFwLXlFcMey3W8srmls+d0BU4FxuI7D/XEd/joRfal9xui5/QE3gIeAK4FHhw0epQKMyRVYpcQqpexFKNF06sM+BAwFDgcX621Pz7R64JPMBw+eWgeTPoR/BfQQuDpIeMqkzInb+xEVcoD8OfvMHzv1gPZdP7K2Pz8vYOfN/o/+PP3VHnFsLgNip0oS2fP2Rl//oYBI/A/0nqx6fMH/sdXPX6auceAf+PP35MqCZS0U0IYiBLCdFk0vapkyLjKptBxSMfU1lSXAK68YphKjWJo6ew5BqBSP5G2hR6GQSQVlAzGW3nFMJ2/GFMiKLJtGnZGREREJOWUEIqIiIikXOyqjL9+xudDhyAiIiKSKLFLCPfdY4/QIYiIiIgkSuyqjBcuXsLCxUtChyEiIiKSGO1OCM3sTDNbYmZrzewFMzs6H4G1Zfa8ecyeN6+QuxQRERFJtHZVGZvZifjpmM4A/gvsmo+gRERERKRw2tuG8EfA5c65R6L7r+Y4HhEREREpsKyrjM2sFD8l0I5m9ryZvWJm15pZj/yFJyIiIiL51p42hDvj54Q8DTgaPxn8IcD3W65oZmPNrNrMqqvuvDMXcYqIiIhInmQ9l7GZbYefEPzLzrnfR8tGAd93zh3S1vNyPZfxijfeAGCPXXbJ5WYLTnMZi4iISLHIug2hc+49M3sFyEzwCj4/ZNwTQREREZFi095hZ24GxpvZTlGJ4beAO3IfVtsefuopHn7qqULuUkRERCTR2tvLeDKwA/AcsB74M/CTXAe1NbfefQ8ARxx0UCF3KyIiIpJY7UoInXP1wNejm4iIiIgkQOymrhMRERGR3FJCKCIiIpJySghFREREUq69nUqC+85XvxI6BBEREZFEiV1CuFN5eegQRERERBIldlXG9z/2GPc/9ljoMEREREQSI3YlhH9f8G8Ajj3ssMCRiIiIiCRD7EoIRURERCS3lBCKiIiIpJwSQhEREZGUU0IoIiIiknKx61Tyw3PPDR2CiIiISKKYcy7f+8j7DhLCQgcgIiIi6RS7KuPbbruN2267LXQYIiIiIokRu4Rwzpw5zJkzJ3QYIiIiIokRu4RQRERERHJLCaGIiIhIyikhFBEREUk5JYQiIiIiKRe7YWfq6uoA6NGjRy43Www07IyIiIgEEbuEMMGUEIqIiEgQsasynjVrFrNmzQodhoiIiEhixC4hnDdvHvPmzQsdhoiIiEhixC4hFBEREZHcUkIoIiIiknJKCEVERERSTgmhiIiISMrlfdgZMxvrnJtR7NsstCQcg4iIiCRDIUoIx8Zkm4WWhGMQERGRBFCVsYiIiEjKKSEUERERSblCJIT5aCeXhLZ3STgGERERSYBCzGUsIiIiIkVMVcYiIiIiKaeEUERERCTlcpYQmtknzex/Zva8mX2nlce7mdkt0eOPmtmeWW631MyeMLM7WnlsopktNrMaM7vXzAbm4FA6zcx+a2ZvmdmijGWTozifNLN/mdmANp57pZk9Y2ZLzGyqmVnhIhcREZE0yklCaGalwHXAp4DBQKWZDW6x2teA95xz+wLXAFdkuflvAEvaeOwJYJhzrgK4DbiyvbHnye+AT7ZY9gvnXIVz7mDgDuAHLZ9kZkcCHwcqgCHAYcDwvEYqIiIiqZerEsLDgeedc8uccxuBPwEjW6wzEvh99P9twPHbKv0ys92Bk4EbW3vcOXe/c25ddPcRYPcOxp9Tzrl/A7Utlr2fcbcX0FpvHgd0B7oC3YAuwJt5ClNEREQEyF1CuBuwIuP+K9GyVtdxzjUAq4Dtt7HdXwIXA01ZxPA14K4s1gvGzH5iZiuA0bRSQuicexi4H3g9uv3TOddW6aiIiIhIThRtpxIzOwV4yzm3MIt1vwAMA36R98A6wTl3qXNuD2A2cEHLx81sX+AAfEnnbsBxZnZ0YaMUERGRtMlVQvgqsEfG/d2jZa2uY2ZlQD/g3a1s8+PAZ8zsJXwV9HFm9oeWK5nZCcClwGeccxs6egAFNhsY1cryzwKPOOfWOOfW4Es8jyhoZCIiIpI6uUoIHwMGmdleZtYVOBO4vcU6twNfiv4/DbjPbWVUbOfcd51zuzvn9oy2d59z7guZ65jZIcBv8MngW7k5lPwws0EZd0cCz7ay2svAcDMrM7Mu+A4lqjIWERGRvCrLxUaccw1mdgHwT6AU+K1z7hkzuxyods7dDtwEzDKz5/EdLs7syL5abPMXQG/g1qh/ysvOuc90/og6x8yqgBHADmb2CvBD4CQz2w/fHnI5MC5adxgwzjl3Nr6zzXHA0/gOJv9wzv298EcgIiIiaaKp60RERERSrmg7lYiIiIhIYSghFBEREUk5JYQiIiIiKaeEUERERCTllBCKiIiIpJwSQhEREZGUU0IoIiIiknJKCEVERERSTgmhiIiISMopIRQRERFJOSWEIiIiIimnhFBEREQk5ZQQioiIiKScEkIRERGRlFNCKCIiIpJySghFREREUk4JoYiIiEjKKSGUNpnZYDOrNjPrwHPHm9kVW3l8TzNzZrbGzMZ2LtJ0M7Mfmdna6PUsCx2PiBQPXcfjwcxOiF7HJjM7IUQMqUsIzeylli+2mX3ZzB4IFVM+mNllZvaHTm5mMnCVc85F2/ylmb1nZg+b2e4Z+zrLzKa2eO4NwGgz22kb++jvnJvRIva9og/F9Z2MP+/M7Ftm9oaZvW9mvzWzbltZ93gze9bM1pnZ/WY2MOOxK81sRbSd5Wb2vTa2MSa6AJ/dvMw590PgwJwemEgnRNeE6ugL7nUzu8vMjooeuyx6D38+Y/2yaNmeGcuONLP7zGy1ma0ys7+b2eDosdHRtteYWV10vWi+v6bgB5wnuo4XRjuv4583syXR+3KxmZ2a7bai6/7b0WNPmdnI5secc/c453oDL+fjGLORuoQw38ystMX9dpXYZLN+IUqBzGxX4Fjgb9H9w4GhwC7AA8B3ouX9gG8D3898vnNuPXAXMKYDux8DvAecsbUPZmhm9n/41+F4YCCwN/CjNtbdAfgLMAkoB6qBWzJWuQnY3znXFzgSfxH+XIttbAd8D3gmt0cikjtmNhH4JfBTYGfgQ8CvgZEZq9UCP2p5vczYxhHAv4C5wABgL+Ap4EEz29s5N9s51zv6Av0U8Frz/WhZZ49B13F0HW9l3d2APwATgb741+yPzQlzFtv6BrBrdJ0fC/whOkdFQQlhFsxsfzO728xqzex/LX7Z/s7MrjezeWa2FjjWfCnkJWZWA6yNfv1+xsyeMbOVZjbfzA7I2MYW67cSgzOz881sKbA0WvYr21SqtNDMjo6WfxKfOJwR/WJ+Klrez8xuin6xv2pmP27rggycCDweXRDAX5AfcM5tAO7Fv9EBfgL8wjn3fivbmA+cnNWLvOk4DX8h+T5QD3w6Wn6GmVW3WPdbZnZ79P/2UQnC+2b2WHRs+S71/RJwk3PuGefce/hf4l9uY93PAc84526NXtPLgIPMbH8A59z/nHNrM9ZvAvZtsY2fAVOBd3J3CCK5EyUWlwPnO+f+4pxb65yrd8793Tn37YxV/wFsBL7QxqauBGY6537lnFvtnKt1zn0feAT/2elIbLqO6zremvZcx3cHVjrn7nLencBaYJ9stuWcq3HONTTfBboAe+T6gDrMOZeqG/AScEKLZV/Gf0haW78XsAL4ClAGHIL/Qh4cPf47YBXwcXyC3T3ax5P4E90D+DD+TXMi/g1wMfA80DUjpg/WbyMOB9yNL13qES37ArB9FNeFwBtA9+ixy4A/tNjGX4HfRMe0E/Bf4Nw29vcL4LqM+0Pwvyh7RI/9AhgG3L2V1/pQoLaNx/aMjqmsxfKjgQ3AdsA04O/R8p7AamBQxrqPAWdG//8puvUEBkfnrNVz2kosRwErt3I7qo3nPQWckXF/h+iYtm9l3V8B17dYtggYlXH/O8CaaBvLgN0zHjscX6pYgr9An53N66mbboW8AZ8EGrb2Pmy+NgGfid7nXaJrmIvexz2BRuDYVp77FeD1FstGAK9sIy5dx52u4208rz3X8VJgAf69WwqcCrwC9Mp2W8AdwPpo+T+Akhb7eIkWOUqhbmktIfxb9AtvpZmtxFdntOUU4CXn3M3OuQbn3BPAHOD0jHXmOucedM41uU2/xKY651Y45+qAM4A7nXN3O+fqgavwH8gjM7aRuX5bfub8L+U6AOfcH5xz70ZxXQ10A/Zr7YlmtjNwEvBN53+1vwVcA5zZxr764z+4RPtaFB33I/gqoCvxpVUTzGyCmf3bzGabWf+MbawG+m3leFrzJeAu539d/RH4pJnt5Jxbh68+qoyOZxCwP3B79Ot4FPBD59w659xi4PfZ7tA594Bzrv9Wbm39Qu2N/xJp1vx/nyzWbV7/g3Wdcz+P7h8KzGpePzq+XwMXOOeasj0ukQC2B95xm0pB2uScux14Gzi7xUPl+KTs9Vae9jr+S7a9dB1H1/E2npr1ddw51wjMjI5pQ/T3XLepdmeb23LOnRLdPwn4VzFd09OaEJ6a+UYBvr6VdQcCH22RQI7Gt8FotqKV52UuGwAsb74TvQFWALttYxtb2yZmdpH5xq2rorj60fbFciD+V+3rGcfxG/wvzNa8R4sPhHPuGufcQc65M4DPA//Gv4fG4ttMLCFqkxLpw5ZJUJvMrAf+Aj072t/D+Aa2Z0Wr/JHoQhIt+1t0gdkR/+s68/XJ5vXsrDX4diTNmv9fncW6zetvtq7zngDq2NT25OtAjXPukU5HLJJf7wI7tFZd2obvA5fiS+SavYdvMtFa26pd6ViTCV3HN8Wt6/jmsr6Om++QeiW+VLorMBy40cwObs+2nG9GcRfwCTP7TCfjz5m0JoTtsQJY0OKXRm/n3HkZ67hWnpe57DX8Bxn4oH3FHsCr29hGm9uM2plcjP9AbxcltqsAa7luxnFsAHbIOI6+zrm2eqfW4KtIthD9Sh2Lbys0BJ+s1OOL/isyVj0AX4Serc/iP0C/Nt9L6w38xfZL0eN3AztGH75K/IUFfClDA759R7Os22WY2dGW0UOxldvRbTz1GeCgjPsHAW86597d1rpm1gvf7qStDiJlbGqXcjzw2YzX5EjgajO7NttjFCmQh/HXmVOzWdk5dze+2vXrGcvWRts5vZWnfB7f9q29dB1vQdfxD7TnOn4w8G/nXHVUkvwY8CjQPHJJe7YFm1/ng1NCuG13AB82sy+aWZfodlhmY+Is/Bk42fywI13w7UQ2AA91Iq4++A/P20CZmf2AzX+ZvAnsaWYlAM651/G99q42s75mVmJm+5jZ8Da2fzdwqJl1b+WxKcBl0a+6F4HDzKw3/lfTsoz1huN7qGXrS8BvgY/gP3gH49v0HGRmH4kuVrfi272URzE2F+P/BbjMzHqa76iRda8459x/XEYPxVZu/2njqTOBr5kf56s/vrTjd22s+1dgiJmNil7TH+AvwM9G5+JcM9vOvMOB89n0xfdl/EW5+TWpxpceXprtMYoUgnNuFf69fZ2ZnRp9HruY2afM7Mo2nnYpPinK9B3gS1E1Zp/os/Fj4Aja6AG6DbqOb0nXca891/HHgKObSwTN7BB8e8mabW3LfKemT5lZj+j99wXgGHybxOLgAjRcDHmjnZ1Kosf3A+7Ef2jfBe4DDo4e+x3w4yz28VlgMf7X3wLgwK2t30oMDtg3434p/kP3Pr5dzcWZ28G35XkAX2XweLSsH3A9vhHsKuAJosa8bezzVjIayEbLjsO3o8lc9stoP48QdYTAVwG9Auzcxrb3JKMxMv4XZAPwkVbWnYcfRwv8h8+R0VA6Wr5jdI7ex39orwDuzXj8GWB0Ht5PE/EX7feBm4Fube0T/yvyWXx18Hxgz2h5Cb5xcS2+yuE5fO9Ca2Of81GnEt2K+Iavjq3Gd8J4I/psHhk9dhlbdpSYF71/98xYdlT0Xl8Tfb7uBIa0sq8RbKNTSbSeruObluk6vvl+23MdvwBfqr0anzhfmM228D/qH42etzI6vs+2Ess230f5ulkUgMgWzA8C+3vgcNfON4qZjQf2cM61/OXf/PhA4H/43lbfds7d0Nl4W2z/CmAX59yXtrlyzJnZD/EXoW743m6NgUMSkSKh63g8mNnx+A4/3YCTnHP3FzwGJYSSBFH1QlfgaeAw/K/Rs51zfwsZl4iIZEfX8bA076kkRR+gCt8T8E3gavzwBiIiEg+6jgekEkIRERGRlFMvYxEREZGUU0IoIiIiknJ5b0PYp0e5a2yqj+7ZB8s/+M9aWZZxz7Z40LJar+VaW6xtm63exrYzw2ttr5tWan1v0XptHmPrMbW2nrUe8JbbM2t1ubURoLWx0y23u+XZa+OlafHabL5ky8fa3l8rEW72WNvPaeVZbd1tI6C2jm3zFazN49lssbXxYGsxZfWitv75aX3djGPa8k2V5b7aesGzicF4avGSfzrnPtnGs6XAdE1mK8fYekytradr8paP5f2aXMDr8Zb7TP41Oe8JYWNTPYN2HerDsBJKmt+4ZpRYCfbBh8Xf3/RY8/KSFvfbWm/z7ZWYffCiZbteiVkr67a1Ddt8G5s9xmbP+WA9Wj6HzWLY2mOb4iDLbWxaz8exKSYzNjuWzbbRYj8tn5e5nrX52ObLM7fZ2nE0/9/a9raIt+XzSra9DVoeV8nW99X8f3TStoiz+X/Mtth/5mOQsa9WY950RbfmGEta3Pcn6YPn0OI1paTFehkxsdVtGLQRx+bLrY19tbKfjGPOeCHZ/qDDOjL3rOSJrsm6Jsf2mpzv67E/ARn7Ttc1WVXGIiIiIimnhFBEREQk5ZQQioiIiKScEkIRERGRlFNCKCIiIpJySghFREREUk4JoYiIiEjKKSEUERERSTklhCIiIiIpp4RQREREJOWUEIqIiIiknBJCERERkZRTQigiIiKSckoIRURERFJOCaGIiIhIyikhFBEREUk5c87ldwdm/wB26ORmdgDeyUE4caBjTaY0HStsfrzvOOc+GTIY2SRH1+RcSPNnIunSdKwQv+Nt9Zqc94QwF8ys2jk3LHQchaBjTaY0HSuk73il/dL2HknT8abpWCE5x6sqYxEREZGUU0IoIiIiknJxSQhnhA6ggHSsyZSmY4X0Ha+0X9reI2k63jQdKyTkeGPRhlBERERE8icuJYQiIiIikicFTwjN7JNm9j8ze97MvtPK493M7Jbo8UfNbM9o+YlmttDMno7+HtfKc283s0UFOIys5ONYzawyWl5jZv8ws2IYPgLo1PEebmZPRrenzOyz0fI9zOx+M1tsZs+Y2TcKfEhtyvWxRo/1N7PbzOxZM1tiZkcU8JDa1NFjzXj8Q2a2xswuynabkhxZvH+uyfhMPGdmKwOEmTNZHO+HouvaE9F1/KQQceZCFsc60MzujY5zvpntHiLOXDCz35rZW23lGOZNjV6LGjM7tNAxdppzrmA3oBR4Adgb6Ao8BQxusc7XgenR/2cCt0T/HwIMiP4fArza4nmfA/4ILCrkMRXyWIEy4C1gh+j+lcBloY81B8fbEyiL/t81Osay6P9Do+V9gOdabjMpxxrd/z1wdvR/V6B/nI814/HbgFuBi7Ldpm7JuLX3XAPjgd+Gjjufx4tvb3Ze9P9g4KXQcefxWG8FvhT9fxwwK3TcnTjeY4BDaSPHAE4C7gIM+BjwaOiY23srdAnh4cDzzrllzrmNwJ+AkS3WGYn/YgT/RXK8mZlz7gnn3GvR8meAHmbWDcDMegMTgR/n/Qiyl49jtejWy8wM6Au8RnHozPGuc841RMu7Aw7AOfe6c+7x6P/VwBJgtzwfRzZyfqxm1g9/wbkJwDm30Tm3Mr+HkZUOHyuAmZ0KvIh/H7dnm5IM7T3XlUBVQSLLj2yO1+Gv3QD9KJ5reHtlc6yDgfui/+9v5fHYcM79G6jdyiojgZnOewTob2a7Fia63Ch0QrgbsCLj/its+QX/wTrRF+cqYPsW64wCHnfObYjuTwauBtblOuBOyPmxOufqgfOAp/EXkcFECUQR6NTxmtlHzewZ/LGNy0iaiB7fE19y+mg+gm+nfBzrXsDbwM1RVdKNZtYrv4eRlQ4fa/RD7RLgRx3YpiRD1ufazAbiPwf3tfZ4TGRzvJcBXzCzV4B5+FLROMrmWJ/C194BfBboY2Ytv+OSIvbXtdh1KjGzA4ErgHOj+wcD+zjn/hoyrnxo5Vi74BPCQ4ABQA3w3WAB5pBz7lHn3IHAYcB3zax782NRYjEH+KZz7v1QMeZKG8dahq+OuN45dwiwFoh727rLgGucc2tCByKxcCZwm3OuMXQgeVYJ/M45tzu+mnGWmcXuuzhLFwHDzewJYDjwKpD08xtbhX4TvgrskXF/92hZq+uYWRm+SP3d6P7uwF+BMc65F6L1jwCGmdlLwAPAh81sfp7ib498HOvBAM65F5xvtPBn4Mg8xd9enTreZs65JcAafNvJ5iR4DjDbOfeXvETefvk41leAV5xzzSWgt+ETxNA6c6wfBa6MPpvfBL5nZhdkuU1Jhvac6zOJd3UxZHe8X8Nfu3HOPYxvOlI0nQPbYZvH6px7zTn3uehH7qXRspUFi7CwYn9dK3RC+BgwyMz2MrOu+AvA7S3WuR34UvT/acB9zjlnZv2BO4HvOOcebF7ZOXe9c26Ac25P4CjgOefciPweRlZyfqz4N9dgM9sxun8ivl1dMejM8e4VJRLN1Ub7Ay9F7dBuApY456YU5Ciyk/Njdc69Aawws/2i5xwPLM73gWShw8fqnDvaObdn9Nn8JfBT59y1WW5TkiGrc21m+wPbAQ8XOL5cy+Z4X8Z/vjGzA/AJ4dsFjTI3tnmsZrZDRunnd4HfFjjGQrodGBP1Nv4YsMo593rooNql0L1Y8EXkz+F7J10aLbsc+Ez0f3d8z6Tngf8Ce0fLv4+vRnsy47ZTi23vSZH0Ms7XsQLj8ElgDfB3YPvQx5mD4/0ivtPBk8DjwKnR8qPwDbBrMl6Hk0IfZz6ONXrsYKA6Ot6/AduFPs7OHGuLbVxG1Mu4rW3qlszbtt4/Ge+Pn4eOtRDHi2/7/SC+fd2TwCdCx5zHYz0NWBqtcyPQLXTMnTjWKuB1oB5fo/M1/PfxuOhxA66LXoungWGhY27vTTOViIiIiKRcUhuyioiIiEiWlBCKiIiIpJwSQhEREZGUU0IoIiIiknJKCEVERERSTgmhiIiISMopIRQRERFJOSWEIiIiIin3/5R/ChOPvxXIAAAAAElFTkSuQmCC\n",
          "text/plain": "<Figure size 792x648 with 5 Axes>"
         },
         "metadata": {},
         "output_type": "display_data"
        }
       ]
      }
     },
     "317be79ee2d14dc9ba93ddc274e5ea78": {
      "model_module": "@jupyter-widgets/controls",
      "model_module_version": "1.5.0",
      "model_name": "HTMLModel",
      "state": {
       "layout": "IPY_MODEL_57a1c7f067504ba68523e4ffdaad71e8",
       "style": "IPY_MODEL_b615b7a52a044613a36a9879ac9beb94",
       "value": "<font style='color:#34BC6E'>DONE</font>"
      }
     },
     "334da4ca8a224b598528dfeb98ee3cca": {
      "model_module": "@jupyter-widgets/controls",
      "model_module_version": "1.5.0",
      "model_name": "DescriptionStyleModel",
      "state": {
       "description_width": ""
      }
     },
     "33765a1395c44e56bbc1fb00743a65bc": {
      "model_module": "@jupyter-widgets/controls",
      "model_module_version": "1.5.0",
      "model_name": "GridBoxModel",
      "state": {
       "children": [
        "IPY_MODEL_b3ccc69f011c4d78a9c423e9033949b1",
        "IPY_MODEL_f7e33ae249334295ad6d44f017f6e494",
        "IPY_MODEL_1c4951b9aff146358c72064e8bf75dbb",
        "IPY_MODEL_f526ee80d51248c9932a350f352446d3"
       ],
       "layout": "IPY_MODEL_bf51f2f8951d47fda05fa5305cce1ffb"
      }
     },
     "34baab84851d4d49bd5f946ecd6c98bb": {
      "model_module": "@jupyter-widgets/base",
      "model_module_version": "1.2.0",
      "model_name": "LayoutModel",
      "state": {
       "align_items": "center",
       "display": "flex-inline"
      }
     },
     "3507714f8db049e4907eb7717ef70802": {
      "model_module": "@jupyter-widgets/controls",
      "model_module_version": "1.5.0",
      "model_name": "HTMLModel",
      "state": {
       "layout": "IPY_MODEL_e796982519fc4dc79559fd36577415f7",
       "style": "IPY_MODEL_0af5d19882264bcd96f746c755dcc318",
       "value": "<table><style>\ntable {\n    border-collapse: collapse;\n    width: auto;\n}\n\nth, td {\n    text-align: left;\n    padding: 8px;\n}\n\ntr:nth-child(even) {background-color: #f6f6f6;};\n</style><tr><th></th><th>Type</th><th>Gate error</th></tr><tr><td><font style='font-weight:bold'>cx4_5</font></td><td>cx</td><td>0.01073</td></tr><tr><td><font style='font-weight:bold'>cx5_4</font></td><td>cx</td><td>0.01073</td></tr><tr><td><font style='font-weight:bold'>cx2_1</font></td><td>cx</td><td>0.00826</td></tr><tr><td><font style='font-weight:bold'>cx1_2</font></td><td>cx</td><td>0.00826</td></tr></table>"
      }
     },
     "37f0837e23b542f5bc3054f3912c1801": {
      "model_module": "@jupyter-widgets/controls",
      "model_module_version": "1.5.0",
      "model_name": "DescriptionStyleModel",
      "state": {
       "description_width": ""
      }
     },
     "3842dcc0140642c4b4849ce8677ff662": {
      "model_module": "@jupyter-widgets/controls",
      "model_module_version": "1.5.0",
      "model_name": "VBoxModel",
      "state": {
       "children": [
        "IPY_MODEL_e948edd955c742ff91a33001291c3400",
        "IPY_MODEL_bd384acfea2448b98269e5759d10eb4f"
       ],
       "layout": "IPY_MODEL_ef46d686f3fc47a8968d4ca040571eef"
      }
     },
     "385fc3cf30aa422e9919eec31b546f8d": {
      "model_module": "@jupyter-widgets/controls",
      "model_module_version": "1.5.0",
      "model_name": "HBoxModel",
      "state": {
       "children": [
        "IPY_MODEL_3c43b29e488a4f048d726c124bbe98a2",
        "IPY_MODEL_e2ccf77d0c8543c89468d3c0b498f9e3",
        "IPY_MODEL_411d09c4595d4d739e360baab4aca29f",
        "IPY_MODEL_317be79ee2d14dc9ba93ddc274e5ea78",
        "IPY_MODEL_21b1db97df214ba595c3f2fc9595acc9",
        "IPY_MODEL_7c8cfacd54744474b6fffb683bf0f970"
       ],
       "layout": "IPY_MODEL_22c4974161664fd189520e972958d533"
      }
     },
     "3a5053f70a3744438429d3bb93097108": {
      "model_module": "@jupyter-widgets/controls",
      "model_module_version": "1.5.0",
      "model_name": "HTMLModel",
      "state": {
       "layout": "IPY_MODEL_cb9197ee4002495e80111d7f6047ffe4",
       "style": "IPY_MODEL_b15611da1b0d481780edbfe42cb1b199",
       "value": "<table><style>\ntable {\n    border-collapse: collapse;\n    width: auto;\n}\n\nth, td {\n    text-align: left;\n    padding: 8px;\n}\n\ntr:nth-child(even) {background-color: #f6f6f6;}\n</style><tr><th></th><th>Frequency</th><th>T1</th><th>T2</th><th>RZ</th><th>SX</th><th>X</th><th>Readout error</th></tr><tr><td><font style='font-weight:bold'>Q0</font></td><td>4.92505 GHz</td><td>167.58033 us</td><td>54.76656 us</td><td>0</td><td>0.00023</td><td>0.00023</td><td>0.0136 </td><tr><td><font style='font-weight:bold'>Q1</font></td><td>5.04646 GHz</td><td>49.91786 us</td><td>23.86549 us</td><td>0</td><td>0.00035</td><td>0.00035</td><td>0.0168 </td><tr><td><font style='font-weight:bold'>Q2</font></td><td>4.96201 GHz</td><td>188.46764 us</td><td>35.48134 us</td><td>0</td><td>0.00032</td><td>0.00032</td><td>0.0093 </td><tr><td><font style='font-weight:bold'>Q3</font></td><td>5.10824 GHz</td><td>67.59298 us</td><td>43.37777 us</td><td>0</td><td>0.00033</td><td>0.00033</td><td>0.027 </td><tr><td><font style='font-weight:bold'>Q4</font></td><td>5.01114 GHz</td><td>50.65162 us</td><td>136.04469 us</td><td>0</td><td>0.00036</td><td>0.00036</td><td>0.0678 </td><tr><td><font style='font-weight:bold'>Q5</font></td><td>5.17331 GHz</td><td>114.71913 us</td><td>33.32324 us</td><td>0</td><td>0.0004</td><td>0.0004</td><td>0.0222 </td><tr><td><font style='font-weight:bold'>Q6</font></td><td>5.31938 GHz</td><td>138.0127 us</td><td>172.49321 us</td><td>0</td><td>0.00037</td><td>0.00037</td><td>0.1381 </td></table>"
      }
     },
     "3c43b29e488a4f048d726c124bbe98a2": {
      "model_module": "@jupyter-widgets/controls",
      "model_module_version": "1.5.0",
      "model_name": "ButtonModel",
      "state": {
       "icon": "close",
       "layout": "IPY_MODEL_17827d5ded054ed48e22eab91ef726b4",
       "style": "IPY_MODEL_f2ad2f18092746dcbfbbda49aa72382f"
      }
     },
     "3d24216794264714850ab840d5823fe4": {
      "model_module": "@jupyter-widgets/controls",
      "model_module_version": "1.5.0",
      "model_name": "DescriptionStyleModel",
      "state": {
       "description_width": ""
      }
     },
     "401b0c66108a4fb58d8ec667bb6f0ed6": {
      "model_module": "@jupyter-widgets/controls",
      "model_module_version": "1.5.0",
      "model_name": "HTMLModel",
      "state": {
       "layout": "IPY_MODEL_b76b458bb8fb42d88b5602f186d0520d",
       "style": "IPY_MODEL_84b9e01b77f34f608965848f18d22922",
       "value": "job is queued"
      }
     },
     "40244a84e43942959621cffc1880fa12": {
      "model_module": "@jupyter-widgets/controls",
      "model_module_version": "1.5.0",
      "model_name": "HTMLModel",
      "state": {
       "layout": "IPY_MODEL_2f28a6f7050b45b986aefbd57e36d5c8",
       "style": "IPY_MODEL_b50c2a4d473041cc887fe789722f801c",
       "value": "2"
      }
     },
     "41039b0d663342ed8b8811fb331b48e9": {
      "model_module": "@jupyter-widgets/controls",
      "model_module_version": "1.5.0",
      "model_name": "HBoxModel",
      "state": {
       "children": [
        "IPY_MODEL_645e0e16661f47738ee283a161afdb4b",
        "IPY_MODEL_4442f523286a464cb41fb3b669016a9a",
        "IPY_MODEL_dc8399184eba4f1898129f49aa1a710d",
        "IPY_MODEL_9111886f1a9042cd93915eeb2f152e4d",
        "IPY_MODEL_40244a84e43942959621cffc1880fa12",
        "IPY_MODEL_401b0c66108a4fb58d8ec667bb6f0ed6"
       ],
       "layout": "IPY_MODEL_7868fdbf4ec6400ebcf3d4d922ed1999"
      }
     },
     "4118d771934643798bd55602debba293": {
      "model_module": "@jupyter-widgets/controls",
      "model_module_version": "1.5.0",
      "model_name": "DescriptionStyleModel",
      "state": {
       "description_width": ""
      }
     },
     "411d09c4595d4d739e360baab4aca29f": {
      "model_module": "@jupyter-widgets/controls",
      "model_module_version": "1.5.0",
      "model_name": "HTMLModel",
      "state": {
       "layout": "IPY_MODEL_e69a64a8a3d643f09fac195a08a0e5b5",
       "style": "IPY_MODEL_bfb7d59f7fbf4aeb84ea4fe37a052841",
       "value": "ibmq_lima"
      }
     },
     "4191254bb45e489897ffe3018b3976e2": {
      "model_module": "@jupyter-widgets/base",
      "model_module_version": "1.2.0",
      "model_name": "LayoutModel",
      "state": {
       "border": "4px solid #000000",
       "max_height": "650px",
       "min_height": "650px",
       "overflow_y": "hidden"
      }
     },
     "4442f523286a464cb41fb3b669016a9a": {
      "model_module": "@jupyter-widgets/controls",
      "model_module_version": "1.5.0",
      "model_name": "HTMLModel",
      "state": {
       "layout": "IPY_MODEL_a6794a63219341c3abebf0259666a167",
       "style": "IPY_MODEL_10840e73c1b1443381ff90785a3c93c4",
       "value": "6386676c951c835a76266b80"
      }
     },
     "46714c8a9dcc4ccf842b5c3f365bf54e": {
      "model_module": "@jupyter-widgets/controls",
      "model_module_version": "1.5.0",
      "model_name": "GridBoxModel",
      "state": {
       "children": [
        "IPY_MODEL_6ab9d7bc45cd4f14b2792db1343a7202",
        "IPY_MODEL_df12ba2e2bf0463298bb37d8fc4a1ea8",
        "IPY_MODEL_e6c20b6601ba49fba47ba160d26c903c"
       ],
       "layout": "IPY_MODEL_2b2552fa4a75424989fd82eca0da545d"
      }
     },
     "46dae44736d348899e2f7abbeb0f6738": {
      "model_module": "@jupyter-widgets/base",
      "model_module_version": "1.2.0",
      "model_name": "LayoutModel",
      "state": {}
     },
     "496b0a34cf8c4be28c0a8038267c2cc7": {
      "model_module": "@jupyter-widgets/controls",
      "model_module_version": "1.5.0",
      "model_name": "HTMLModel",
      "state": {
       "layout": "IPY_MODEL_ebb0398bb15d4faf9a954d529f1cb1ee",
       "style": "IPY_MODEL_af4765c835e84697bae5eb861a26e25f",
       "value": "job has successfully run"
      }
     },
     "4acc332d77ff4469ac822e91795f317a": {
      "model_module": "@jupyter-widgets/base",
      "model_module_version": "1.2.0",
      "model_name": "LayoutModel",
      "state": {
       "grid_area": "right",
       "padding": "0px 0px 0px 0px",
       "width": "70px"
      }
     },
     "4b2e759ecf4a488b8f06738724df93ce": {
      "model_module": "@jupyter-widgets/controls",
      "model_module_version": "1.5.0",
      "model_name": "DescriptionStyleModel",
      "state": {
       "description_width": ""
      }
     },
     "4cbf972e72d34b08bd8795b4fc6aa294": {
      "model_module": "@jupyter-widgets/controls",
      "model_module_version": "1.5.0",
      "model_name": "DescriptionStyleModel",
      "state": {
       "description_width": ""
      }
     },
     "4d7d2085a932493e8a065b298e7dc8fb": {
      "model_module": "@jupyter-widgets/controls",
      "model_module_version": "1.5.0",
      "model_name": "ButtonModel",
      "state": {
       "icon": "close",
       "layout": "IPY_MODEL_102e60b3c0fe4e11865906c2dd3b5edd",
       "style": "IPY_MODEL_678d81f68b1444e5b3a831de05f67879"
      }
     },
     "4d87033612514a17b26529dd0a88ac46": {
      "model_module": "@jupyter-widgets/controls",
      "model_module_version": "1.5.0",
      "model_name": "DescriptionStyleModel",
      "state": {
       "description_width": ""
      }
     },
     "4d9b640de03f48b497bf5573777524e3": {
      "model_module": "@jupyter-widgets/base",
      "model_module_version": "1.2.0",
      "model_name": "LayoutModel",
      "state": {
       "overflow_y": "scroll"
      }
     },
     "4dbb31cb724345469198d8ae4d74a9ba": {
      "model_module": "@jupyter-widgets/base",
      "model_module_version": "1.2.0",
      "model_name": "LayoutModel",
      "state": {
       "grid_area": "top"
      }
     },
     "4eaa4b5d2a974ab589632cd3171aeeb6": {
      "model_module": "@jupyter-widgets/controls",
      "model_module_version": "1.5.0",
      "model_name": "HTMLModel",
      "state": {
       "layout": "IPY_MODEL_fd9d2b44b30e41f380db01e08c0b72ee",
       "style": "IPY_MODEL_fd4c30c2fa0d4a659060f7e1aa9d2b71",
       "value": "<h5>Job ID</h5>"
      }
     },
     "4f35b875ce334644a639e437cd022aa1": {
      "model_module": "@jupyter-widgets/controls",
      "model_module_version": "1.5.0",
      "model_name": "DescriptionStyleModel",
      "state": {
       "description_width": ""
      }
     },
     "521745e3fa084c838a34f878f7d0c616": {
      "model_module": "@jupyter-widgets/base",
      "model_module_version": "1.2.0",
      "model_name": "LayoutModel",
      "state": {
       "margin": "0px 0px 0px 0px"
      }
     },
     "52ec47276647462d97fd03a0af770753": {
      "model_module": "@jupyter-widgets/base",
      "model_module_version": "1.2.0",
      "model_name": "LayoutModel",
      "state": {
       "grid_area": "top"
      }
     },
     "543bd7e35dbd48f58f9fa9ff1a13b96a": {
      "model_module": "@jupyter-widgets/base",
      "model_module_version": "1.2.0",
      "model_name": "LayoutModel",
      "state": {
       "max_height": "620px"
      }
     },
     "5547804540f84837b9d1bf2b440c8fce": {
      "model_module": "@jupyter-widgets/controls",
      "model_module_version": "1.5.0",
      "model_name": "DescriptionStyleModel",
      "state": {
       "description_width": ""
      }
     },
     "57a1c7f067504ba68523e4ffdaad71e8": {
      "model_module": "@jupyter-widgets/base",
      "model_module_version": "1.2.0",
      "model_name": "LayoutModel",
      "state": {
       "width": "95px"
      }
     },
     "5c6327dbed3345c88a606b4d862359d6": {
      "model_module": "@jupyter-widgets/base",
      "model_module_version": "1.2.0",
      "model_name": "LayoutModel",
      "state": {
       "grid_gap": "0px 0px",
       "grid_template_areas": "\n                                                   \"top top top\"\n                                                   \"left middle right\"\n                                                   ",
       "grid_template_columns": "33% 33% 33%",
       "grid_template_rows": "auto auto"
      }
     },
     "5e31d9869fda43f3bc280cb2e859ecd5": {
      "model_module": "@jupyter-widgets/controls",
      "model_module_version": "1.5.0",
      "model_name": "DescriptionStyleModel",
      "state": {
       "description_width": ""
      }
     },
     "5f773f2d45644846b0a6649772f69ccd": {
      "model_module": "@jupyter-widgets/base",
      "model_module_version": "1.2.0",
      "model_name": "LayoutModel",
      "state": {
       "border": "4px solid #000000",
       "max_height": "650px",
       "min_height": "650px",
       "overflow_y": "hidden"
      }
     },
     "617e754aa4ef4587bfce8e4390231333": {
      "model_module": "@jupyter-widgets/controls",
      "model_module_version": "1.5.0",
      "model_name": "DescriptionStyleModel",
      "state": {
       "description_width": ""
      }
     },
     "61aa989f063045b792c71f4c2f78819e": {
      "model_module": "@jupyter-widgets/base",
      "model_module_version": "1.2.0",
      "model_name": "LayoutModel",
      "state": {
       "grid_area": "bottom",
       "width": "auto"
      }
     },
     "61e3f37b1cb24fd9a4e63dcd915e4d17": {
      "model_module": "@jupyter-widgets/base",
      "model_module_version": "1.2.0",
      "model_name": "LayoutModel",
      "state": {
       "grid_area": "bottom",
       "width": "auto"
      }
     },
     "645bf4039bdc4e8396c17e9149e5f8ae": {
      "model_module": "@jupyter-widgets/base",
      "model_module_version": "1.2.0",
      "model_name": "LayoutModel",
      "state": {
       "margin": "0px 0px 0px 0px"
      }
     },
     "645e0e16661f47738ee283a161afdb4b": {
      "model_module": "@jupyter-widgets/controls",
      "model_module_version": "1.5.0",
      "model_name": "ButtonModel",
      "state": {
       "icon": "close",
       "layout": "IPY_MODEL_80cec41ed2a64f57ae22ab5667be2a6b",
       "style": "IPY_MODEL_dde334db725048cbb7d86f18a7578a9a"
      }
     },
     "64ea04f1f6604df7bbdcd29488151e2e": {
      "model_module": "@jupyter-widgets/controls",
      "model_module_version": "1.5.0",
      "model_name": "DescriptionStyleModel",
      "state": {
       "description_width": ""
      }
     },
     "64f4b7dd8e8040db96419f55f7beddf7": {
      "model_module": "@jupyter-widgets/controls",
      "model_module_version": "1.5.0",
      "model_name": "VBoxModel",
      "state": {
       "children": [
        "IPY_MODEL_d14fad8c24c74c0682f4a2b9e9e0205b",
        "IPY_MODEL_f98533196fbb45e498b4ff59f550cf21"
       ],
       "layout": "IPY_MODEL_4191254bb45e489897ffe3018b3976e2"
      }
     },
     "652822b478ff49d4870677b2d1a7aa71": {
      "model_module": "@jupyter-widgets/controls",
      "model_module_version": "1.5.0",
      "model_name": "HTMLModel",
      "state": {
       "layout": "IPY_MODEL_b44dfec761c242cfa58f63c9965edb9d",
       "style": "IPY_MODEL_7a2f4cc69ccd49aca80c4d1a64309e37",
       "value": "<div><font style='font-weight:bold'>last_update_date</font>: Tue 29 November 2022 at 18:31 UTC</div>"
      }
     },
     "66c425aabdf446439a16e48fa37c66f4": {
      "model_module": "@jupyter-widgets/controls",
      "model_module_version": "1.5.0",
      "model_name": "DescriptionStyleModel",
      "state": {
       "description_width": ""
      }
     },
     "678d81f68b1444e5b3a831de05f67879": {
      "model_module": "@jupyter-widgets/controls",
      "model_module_version": "1.5.0",
      "model_name": "ButtonStyleModel",
      "state": {
       "button_color": "white"
      }
     },
     "68b6fcedd48c4621a468d8b2e1ff3573": {
      "model_module": "@jupyter-widgets/controls",
      "model_module_version": "1.5.0",
      "model_name": "DescriptionStyleModel",
      "state": {
       "description_width": ""
      }
     },
     "696b3727e5a34e818f7e35c9e70d4529": {
      "model_module": "@jupyter-widgets/base",
      "model_module_version": "1.2.0",
      "model_name": "LayoutModel",
      "state": {
       "width": "70px"
      }
     },
     "696e8e75fb1c4876842c409ef0e946e4": {
      "model_module": "@jupyter-widgets/controls",
      "model_module_version": "1.5.0",
      "model_name": "DescriptionStyleModel",
      "state": {
       "description_width": ""
      }
     },
     "6ab9d7bc45cd4f14b2792db1343a7202": {
      "model_module": "@jupyter-widgets/controls",
      "model_module_version": "1.5.0",
      "model_name": "HTMLMathModel",
      "state": {
       "layout": "IPY_MODEL_c7d946ad32234a8ba5665f49cb123f4e",
       "style": "IPY_MODEL_37f0837e23b542f5bc3054f3912c1801",
       "value": "<table><style>\ntable {\n    border-collapse: collapse;\n    width: auto;\n}\n\nth, td {\n    text-align: left;\n    padding: 8px;\n}\n\ntr:nth-child(even) {background-color: #f6f6f6;}\n</style><tr><th>Property</th><th>Value</th></tr><tr><td><font style='font-weight:bold'>n_qubits</font></td><td>7</td></tr><tr><td><font style='font-weight:bold'>quantum_volume</font></td><td>32</td></tr><tr><td><font style='font-weight:bold'>operational</font></td><td>True</td></tr><tr><td><font style='font-weight:bold'>status_msg</font></td><td>active</td></tr><tr><td><font style='font-weight:bold'>pending_jobs</font></td><td>4</td></tr><tr><td><font style='font-weight:bold'>backend_version</font></td><td>1.0.14</td></tr><tr><td><font style='font-weight:bold'>basis_gates</font></td><td>['id', 'rz', 'sx', 'x', 'cx', 'reset']</td></tr><tr><td><font style='font-weight:bold'>max_shots</font></td><td>20000</td></tr><tr><td><font style='font-weight:bold'>max_experiments</font></td><td>100</td></tr></table>"
      }
     },
     "6deee976a8a74d4cbb4d3ca6c4574663": {
      "model_module": "@jupyter-widgets/base",
      "model_module_version": "1.2.0",
      "model_name": "LayoutModel",
      "state": {}
     },
     "6f8d3a941167441bac2e243128929061": {
      "model_module": "@jupyter-widgets/controls",
      "model_module_version": "1.5.0",
      "model_name": "HTMLModel",
      "state": {
       "layout": "IPY_MODEL_0d62546e4065479981d1d77a995f047d",
       "style": "IPY_MODEL_87636d8fbed04e288956b0398ea53c52",
       "value": "<div><font style='font-weight:bold'>last_update_date</font>: 2022-11-29 19:31:03+00:00</div>"
      }
     },
     "706ff9e15a124fcbbdc23c817f4e904f": {
      "model_module": "@jupyter-widgets/base",
      "model_module_version": "1.2.0",
      "model_name": "LayoutModel",
      "state": {
       "grid_area": "left"
      }
     },
     "728287130d474246bb04bf923c4df3c3": {
      "model_module": "@jupyter-widgets/base",
      "model_module_version": "1.2.0",
      "model_name": "LayoutModel",
      "state": {
       "margin": "0px 0px 0px 0px"
      }
     },
     "73eb0b87de4f4f028ed7dc07550d38dd": {
      "model_module": "@jupyter-widgets/controls",
      "model_module_version": "1.5.0",
      "model_name": "TabModel",
      "state": {
       "layout": "IPY_MODEL_f16dcc5ec0b247eb99f03565ed4107b2"
      }
     },
     "76487f87f7a841dc943cab42e8d49060": {
      "model_module": "@jupyter-widgets/controls",
      "model_module_version": "1.5.0",
      "model_name": "HBoxModel",
      "state": {
       "children": [
        "IPY_MODEL_4eaa4b5d2a974ab589632cd3171aeeb6",
        "IPY_MODEL_1ef320a663c64fa1b3fe7ae0824caccc",
        "IPY_MODEL_7ab9368ebec145a5acfaf29923ba7bb0",
        "IPY_MODEL_e87b817e04d44e75b1dee641d670edb3",
        "IPY_MODEL_9aaac49651c24d51bdee6ab20c473ed6"
       ],
       "layout": "IPY_MODEL_19d5d4221b4d41a58bdf45dfaa5c03af"
      }
     },
     "7868fdbf4ec6400ebcf3d4d922ed1999": {
      "model_module": "@jupyter-widgets/base",
      "model_module_version": "1.2.0",
      "model_name": "LayoutModel",
      "state": {
       "max_width": "700px",
       "min_width": "700px"
      }
     },
     "7894364cb6884644bb7825bdc37c7309": {
      "model_module": "@jupyter-widgets/base",
      "model_module_version": "1.2.0",
      "model_name": "LayoutModel",
      "state": {
       "max_height": "620px"
      }
     },
     "7a2f4cc69ccd49aca80c4d1a64309e37": {
      "model_module": "@jupyter-widgets/controls",
      "model_module_version": "1.5.0",
      "model_name": "DescriptionStyleModel",
      "state": {
       "description_width": ""
      }
     },
     "7ab9368ebec145a5acfaf29923ba7bb0": {
      "model_module": "@jupyter-widgets/controls",
      "model_module_version": "1.5.0",
      "model_name": "HTMLModel",
      "state": {
       "layout": "IPY_MODEL_af21fbf608da488b847cf193c643275b",
       "style": "IPY_MODEL_c8d169cb5b9f401cb7fbfba61e0a08fb",
       "value": "<h5>Status</h5>"
      }
     },
     "7b5a557b807b47c3a8354a42cdde91b0": {
      "model_module": "@jupyter-widgets/controls",
      "model_module_version": "1.5.0",
      "model_name": "DescriptionStyleModel",
      "state": {
       "description_width": ""
      }
     },
     "7c8cfacd54744474b6fffb683bf0f970": {
      "model_module": "@jupyter-widgets/controls",
      "model_module_version": "1.5.0",
      "model_name": "HTMLModel",
      "state": {
       "layout": "IPY_MODEL_2e5a19221e664bfeaed478e020f5f55e",
       "style": "IPY_MODEL_4b2e759ecf4a488b8f06738724df93ce",
       "value": "job has successfully run"
      }
     },
     "80cec41ed2a64f57ae22ab5667be2a6b": {
      "model_module": "@jupyter-widgets/base",
      "model_module_version": "1.2.0",
      "model_name": "LayoutModel",
      "state": {
       "margin": "0px 5px 0px 0px",
       "width": "32px"
      }
     },
     "8329bd6d247542e891315c584bf6969d": {
      "model_module": "@jupyter-widgets/controls",
      "model_module_version": "1.5.0",
      "model_name": "DescriptionStyleModel",
      "state": {
       "description_width": ""
      }
     },
     "8421d8d376014941a63911bb40652953": {
      "model_module": "@jupyter-widgets/controls",
      "model_module_version": "1.5.0",
      "model_name": "DescriptionStyleModel",
      "state": {
       "description_width": ""
      }
     },
     "84b9e01b77f34f608965848f18d22922": {
      "model_module": "@jupyter-widgets/controls",
      "model_module_version": "1.5.0",
      "model_name": "DescriptionStyleModel",
      "state": {
       "description_width": ""
      }
     },
     "87636d8fbed04e288956b0398ea53c52": {
      "model_module": "@jupyter-widgets/controls",
      "model_module_version": "1.5.0",
      "model_name": "DescriptionStyleModel",
      "state": {
       "description_width": ""
      }
     },
     "87e890c6337044ba98694c2a23e443b3": {
      "model_module": "@jupyter-widgets/controls",
      "model_module_version": "1.5.0",
      "model_name": "DescriptionStyleModel",
      "state": {
       "description_width": ""
      }
     },
     "8a7acf73de9a4e3fa68a3bee11d4e63c": {
      "model_module": "@jupyter-widgets/controls",
      "model_module_version": "1.5.0",
      "model_name": "DescriptionStyleModel",
      "state": {
       "description_width": ""
      }
     },
     "8b6deb5744804dc6bdab40ed13d6157f": {
      "model_module": "@jupyter-widgets/base",
      "model_module_version": "1.2.0",
      "model_name": "LayoutModel",
      "state": {
       "margin": "0px 0px 10px 0px"
      }
     },
     "8c8aa19d01f546e6b9ddfe82bd817215": {
      "model_module": "@jupyter-widgets/base",
      "model_module_version": "1.2.0",
      "model_name": "LayoutModel",
      "state": {
       "grid_area": "left",
       "width": "100%"
      }
     },
     "8d435384cc1c4ca1b58623490fac863b": {
      "model_module": "@jupyter-widgets/base",
      "model_module_version": "1.2.0",
      "model_name": "LayoutModel",
      "state": {
       "grid_area": "bottom",
       "width": "auto"
      }
     },
     "8d6f89831ceb424e90ed0db82027c407": {
      "model_module": "@jupyter-widgets/base",
      "model_module_version": "1.2.0",
      "model_name": "LayoutModel",
      "state": {
       "overflow_y": "scroll"
      }
     },
     "8da4e281e77947d7a85f6992376b0ca8": {
      "model_module": "@jupyter-widgets/output",
      "model_module_version": "1.0.0",
      "model_name": "OutputModel",
      "state": {
       "layout": "IPY_MODEL_28660ce8812246f7bbd90525a45b0141",
       "outputs": [
        {
         "data": {
          "image/png": "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\n",
          "text/plain": "<Figure size 360x360 with 1 Axes>"
         },
         "metadata": {},
         "output_type": "display_data"
        }
       ]
      }
     },
     "8de9b292727e4e2c9d632fe8d7a99c08": {
      "model_module": "@jupyter-widgets/controls",
      "model_module_version": "1.5.0",
      "model_name": "HTMLModel",
      "state": {
       "layout": "IPY_MODEL_1d6de7082f9a4369a42738cccfe35371",
       "style": "IPY_MODEL_b7e5792012e74a20a7d042b80e876286",
       "value": "<table><style>\ntable {\n    border-collapse: collapse;\n    width: auto;\n}\n\nth, td {\n    text-align: left;\n    padding: 8px;\n}\n\ntr:nth-child(even) {background-color: #f6f6f6;};\n</style><tr><th></th><th>Type</th><th>Gate error</th></tr><tr><td><font style='font-weight:bold'>cx1_3</font></td><td>cx</td><td>0.00676</td></tr><tr><td><font style='font-weight:bold'>cx3_1</font></td><td>cx</td><td>0.00676</td></tr><tr><td><font style='font-weight:bold'>cx5_3</font></td><td>cx</td><td>0.00743</td></tr><tr><td><font style='font-weight:bold'>cx3_5</font></td><td>cx</td><td>0.00743</td></tr></table>"
      }
     },
     "9111886f1a9042cd93915eeb2f152e4d": {
      "model_module": "@jupyter-widgets/controls",
      "model_module_version": "1.5.0",
      "model_name": "HTMLModel",
      "state": {
       "layout": "IPY_MODEL_9ec54baf3d854a82ae750a2ae9f5fcc4",
       "style": "IPY_MODEL_e8939bdf8645481f8782793e01c92e0b",
       "value": "QUEUED"
      }
     },
     "93993ffce44148d783efa96f30ba4959": {
      "model_module": "@jupyter-widgets/base",
      "model_module_version": "1.2.0",
      "model_name": "LayoutModel",
      "state": {
       "align_items": "center",
       "display": "flex-inline"
      }
     },
     "93f9ad94ffcd4dd480c6e9083ae9abbf": {
      "model_module": "@jupyter-widgets/base",
      "model_module_version": "1.2.0",
      "model_name": "LayoutModel",
      "state": {
       "grid_area": "middle"
      }
     },
     "9484f9cd7e7644d4a9bb8b661d3e8790": {
      "model_module": "@jupyter-widgets/controls",
      "model_module_version": "1.5.0",
      "model_name": "DescriptionStyleModel",
      "state": {
       "description_width": ""
      }
     },
     "949f46421fdd4ac69974db3ea55c6dd3": {
      "model_module": "@jupyter-widgets/base",
      "model_module_version": "1.2.0",
      "model_name": "LayoutModel",
      "state": {
       "width": "70px"
      }
     },
     "951ff33a7c6d4b269ec81c611fe81cc4": {
      "model_module": "@jupyter-widgets/controls",
      "model_module_version": "1.5.0",
      "model_name": "HTMLModel",
      "state": {
       "layout": "IPY_MODEL_949f46421fdd4ac69974db3ea55c6dd3",
       "style": "IPY_MODEL_2901f57fdd7540d68bc7813fa39ee69e",
       "value": "-"
      }
     },
     "95973041c6514545a0b882bde53c95aa": {
      "model_module": "@jupyter-widgets/controls",
      "model_module_version": "1.5.0",
      "model_name": "DescriptionStyleModel",
      "state": {
       "description_width": ""
      }
     },
     "980b1ea269f34405a57fa6f8be542aeb": {
      "model_module": "@jupyter-widgets/controls",
      "model_module_version": "1.5.0",
      "model_name": "DescriptionStyleModel",
      "state": {
       "description_width": ""
      }
     },
     "9aaac49651c24d51bdee6ab20c473ed6": {
      "model_module": "@jupyter-widgets/controls",
      "model_module_version": "1.5.0",
      "model_name": "HTMLModel",
      "state": {
       "layout": "IPY_MODEL_6deee976a8a74d4cbb4d3ca6c4574663",
       "style": "IPY_MODEL_4f35b875ce334644a639e437cd022aa1",
       "value": "<h5>Message</h5>"
      }
     },
     "9c84a2627cb7482a8d1c272a5a126e2a": {
      "model_module": "@jupyter-widgets/controls",
      "model_module_version": "1.5.0",
      "model_name": "HTMLModel",
      "state": {
       "layout": "IPY_MODEL_52ec47276647462d97fd03a0af770753",
       "style": "IPY_MODEL_e0eaf1123fea4b3291723b258453f09c",
       "value": "<div><font style='font-weight:bold'>last_update_date</font>: 2022-11-29 18:31:27+00:00</div>"
      }
     },
     "9ec54baf3d854a82ae750a2ae9f5fcc4": {
      "model_module": "@jupyter-widgets/base",
      "model_module_version": "1.2.0",
      "model_name": "LayoutModel",
      "state": {
       "width": "95px"
      }
     },
     "9f1b23a9656a47a68d51bb7d566224c7": {
      "model_module": "@jupyter-widgets/controls",
      "model_module_version": "1.5.0",
      "model_name": "GridBoxModel",
      "state": {
       "children": [
        "IPY_MODEL_9c84a2627cb7482a8d1c272a5a126e2a",
        "IPY_MODEL_3507714f8db049e4907eb7717ef70802",
        "IPY_MODEL_ce5de6bf13bd495e8211d014b62c9325",
        "IPY_MODEL_30503384ab544c8886d4db33ca3913a3"
       ],
       "layout": "IPY_MODEL_b52dd331c0a0434ebace0c07c87d4fb8"
      }
     },
     "a0fc38f4be4e406b8d42f9cdc3364d99": {
      "model_module": "@jupyter-widgets/controls",
      "model_module_version": "1.5.0",
      "model_name": "VBoxModel",
      "state": {
       "children": [
        "IPY_MODEL_652822b478ff49d4870677b2d1a7aa71",
        "IPY_MODEL_3a5053f70a3744438429d3bb93097108"
       ],
       "layout": "IPY_MODEL_f1cb6e8d2fa049cf89a8d0a2b03e7a72"
      }
     },
     "a3399f014ebb4694b7476b34906556f3": {
      "model_module": "@jupyter-widgets/base",
      "model_module_version": "1.2.0",
      "model_name": "LayoutModel",
      "state": {}
     },
     "a3e66ea7f4e84f279d73986e45f6d8c0": {
      "model_module": "@jupyter-widgets/controls",
      "model_module_version": "1.5.0",
      "model_name": "TabModel",
      "state": {
       "layout": "IPY_MODEL_543bd7e35dbd48f58f9fa9ff1a13b96a"
      }
     },
     "a6794a63219341c3abebf0259666a167": {
      "model_module": "@jupyter-widgets/base",
      "model_module_version": "1.2.0",
      "model_name": "LayoutModel",
      "state": {
       "width": "190px"
      }
     },
     "a7728c2a28d2448e83e1ae5bb3ca0b6c": {
      "model_module": "@jupyter-widgets/controls",
      "model_module_version": "1.5.0",
      "model_name": "HTMLModel",
      "state": {
       "layout": "IPY_MODEL_728287130d474246bb04bf923c4df3c3",
       "style": "IPY_MODEL_617e754aa4ef4587bfce8e4390231333",
       "value": "<h1 style='color:#ffffff;background-color:#000000;padding-top: 1%;padding-bottom: 1%;padding-left: 1%; margin-top: 0px'>ibm_oslo</h1>"
      }
     },
     "a7d56b0b5b30459e830f35446bb648ec": {
      "model_module": "@jupyter-widgets/controls",
      "model_module_version": "1.5.0",
      "model_name": "VBoxModel",
      "state": {
       "children": [
        "IPY_MODEL_18dc29208dca49c4a25733702aff5f85",
        "IPY_MODEL_b2341cfb5c184d8e8e63e4bed395c06e"
       ],
       "layout": "IPY_MODEL_d3e83d7eba33488d9c6b1ae98eb2206a"
      }
     },
     "ac2326af7fe94808861dbc3476885c96": {
      "model_module": "@jupyter-widgets/controls",
      "model_module_version": "1.5.0",
      "model_name": "DescriptionStyleModel",
      "state": {
       "description_width": ""
      }
     },
     "ad2b407ae39c4a419beed8565a3f4910": {
      "model_module": "@jupyter-widgets/controls",
      "model_module_version": "1.5.0",
      "model_name": "ButtonStyleModel",
      "state": {}
     },
     "ae3b6669b35846a78b3b8280d621df40": {
      "model_module": "@jupyter-widgets/controls",
      "model_module_version": "1.5.0",
      "model_name": "DescriptionStyleModel",
      "state": {
       "description_width": ""
      }
     },
     "af21fbf608da488b847cf193c643275b": {
      "model_module": "@jupyter-widgets/base",
      "model_module_version": "1.2.0",
      "model_name": "LayoutModel",
      "state": {
       "width": "95px"
      }
     },
     "af4765c835e84697bae5eb861a26e25f": {
      "model_module": "@jupyter-widgets/controls",
      "model_module_version": "1.5.0",
      "model_name": "DescriptionStyleModel",
      "state": {
       "description_width": ""
      }
     },
     "b15611da1b0d481780edbfe42cb1b199": {
      "model_module": "@jupyter-widgets/controls",
      "model_module_version": "1.5.0",
      "model_name": "DescriptionStyleModel",
      "state": {
       "description_width": ""
      }
     },
     "b2341cfb5c184d8e8e63e4bed395c06e": {
      "model_module": "@jupyter-widgets/controls",
      "model_module_version": "1.5.0",
      "model_name": "TabModel",
      "state": {
       "_titles": {
        "0": "Configuration",
        "1": "Qubit Properties",
        "2": "Multi-Qubit Gates",
        "3": "Error Map",
        "4": "Job History"
       },
       "children": [
        "IPY_MODEL_46714c8a9dcc4ccf842b5c3f365bf54e",
        "IPY_MODEL_a0fc38f4be4e406b8d42f9cdc3364d99",
        "IPY_MODEL_9f1b23a9656a47a68d51bb7d566224c7",
        "IPY_MODEL_1f9630af035a4dcc9ca46043bc028efc",
        "IPY_MODEL_a3e66ea7f4e84f279d73986e45f6d8c0"
       ],
       "layout": "IPY_MODEL_4d9b640de03f48b497bf5573777524e3"
      }
     },
     "b26c6782ddb8410d918c32d5b3d951f9": {
      "model_module": "@jupyter-widgets/base",
      "model_module_version": "1.2.0",
      "model_name": "LayoutModel",
      "state": {
       "width": "145px"
      }
     },
     "b3ccc69f011c4d78a9c423e9033949b1": {
      "model_module": "@jupyter-widgets/controls",
      "model_module_version": "1.5.0",
      "model_name": "HTMLModel",
      "state": {
       "layout": "IPY_MODEL_4dbb31cb724345469198d8ae4d74a9ba",
       "style": "IPY_MODEL_1edbb2dfa9874cd2830a11c1a276d8b7",
       "value": "<div><font style='font-weight:bold'>last_update_date</font>: 2022-11-29 18:31:27+00:00</div>"
      }
     },
     "b44dfec761c242cfa58f63c9965edb9d": {
      "model_module": "@jupyter-widgets/base",
      "model_module_version": "1.2.0",
      "model_name": "LayoutModel",
      "state": {}
     },
     "b4f816b4ad444eb5a1e084312c623468": {
      "model_module": "@jupyter-widgets/controls",
      "model_module_version": "1.5.0",
      "model_name": "VBoxModel",
      "state": {
       "children": [
        "IPY_MODEL_a7728c2a28d2448e83e1ae5bb3ca0b6c",
        "IPY_MODEL_e13204411a6e4f2a80f6b2997e46ff2b"
       ],
       "layout": "IPY_MODEL_5f773f2d45644846b0a6649772f69ccd"
      }
     },
     "b50c2a4d473041cc887fe789722f801c": {
      "model_module": "@jupyter-widgets/controls",
      "model_module_version": "1.5.0",
      "model_name": "DescriptionStyleModel",
      "state": {
       "description_width": ""
      }
     },
     "b52dd331c0a0434ebace0c07c87d4fb8": {
      "model_module": "@jupyter-widgets/base",
      "model_module_version": "1.2.0",
      "model_name": "LayoutModel",
      "state": {
       "grid_gap": "0px 0px",
       "grid_template_areas": "\n                                                   \"top top top\"\n                                                   \"left middle right\"\n                                                   ",
       "grid_template_columns": "33% 33% 33%",
       "grid_template_rows": "auto auto"
      }
     },
     "b615b7a52a044613a36a9879ac9beb94": {
      "model_module": "@jupyter-widgets/controls",
      "model_module_version": "1.5.0",
      "model_name": "DescriptionStyleModel",
      "state": {
       "description_width": ""
      }
     },
     "b6857ef60b4f414d8ce59e9f3587bfe5": {
      "model_module": "@jupyter-widgets/base",
      "model_module_version": "1.2.0",
      "model_name": "LayoutModel",
      "state": {
       "width": "70px"
      }
     },
     "b6e08213a8af4359b53fc172f595c8f1": {
      "model_module": "@jupyter-widgets/controls",
      "model_module_version": "1.5.0",
      "model_name": "HBoxModel",
      "state": {
       "children": [
        "IPY_MODEL_4d7d2085a932493e8a065b298e7dc8fb",
        "IPY_MODEL_280878d9f46447a1916f8fa1dd525325",
        "IPY_MODEL_f6a9f6d11f9746e8b37d69b1f4663387",
        "IPY_MODEL_d05afca739374a7fb19d13a39c9424ee",
        "IPY_MODEL_951ff33a7c6d4b269ec81c611fe81cc4",
        "IPY_MODEL_496b0a34cf8c4be28c0a8038267c2cc7"
       ],
       "layout": "IPY_MODEL_2a40d61cd15d4775bed4381db2e14645"
      }
     },
     "b76b458bb8fb42d88b5602f186d0520d": {
      "model_module": "@jupyter-widgets/base",
      "model_module_version": "1.2.0",
      "model_name": "LayoutModel",
      "state": {
       "overflow_x": "scroll"
      }
     },
     "b7e5792012e74a20a7d042b80e876286": {
      "model_module": "@jupyter-widgets/controls",
      "model_module_version": "1.5.0",
      "model_name": "DescriptionStyleModel",
      "state": {
       "description_width": ""
      }
     },
     "ba9f1a1248484ddba3a293718ca7ac32": {
      "model_module": "@jupyter-widgets/controls",
      "model_module_version": "1.5.0",
      "model_name": "HTMLModel",
      "state": {
       "layout": "IPY_MODEL_e3c62d7129984786bc045c62f3b6cbe8",
       "style": "IPY_MODEL_e142699266eb4e41aa34736c546a9683",
       "value": "<table><style>\ntable {\n    border-collapse: collapse;\n    width: auto;\n}\n\nth, td {\n    text-align: left;\n    padding: 8px;\n}\n\ntr:nth-child(even) {background-color: #f6f6f6;};\n</style><tr><th></th><th>Type</th><th>Gate error</th></tr><tr><td><font style='font-weight:bold'>cx6_5</font></td><td>cx</td><td>0.00642</td></tr><tr><td><font style='font-weight:bold'>cx5_6</font></td><td>cx</td><td>0.00642</td></tr><tr><td><font style='font-weight:bold'>cx0_1</font></td><td>cx</td><td>0.00856</td></tr><tr><td><font style='font-weight:bold'>cx1_0</font></td><td>cx</td><td>0.00856</td></tr></table>"
      }
     },
     "bd384acfea2448b98269e5759d10eb4f": {
      "model_module": "@jupyter-widgets/controls",
      "model_module_version": "1.5.0",
      "model_name": "HTMLModel",
      "state": {
       "layout": "IPY_MODEL_46dae44736d348899e2f7abbeb0f6738",
       "style": "IPY_MODEL_4d87033612514a17b26529dd0a88ac46",
       "value": "<table><style>\ntable {\n    border-collapse: collapse;\n    width: auto;\n}\n\nth, td {\n    text-align: left;\n    padding: 8px;\n}\n\ntr:nth-child(even) {background-color: #f6f6f6;}\n</style><tr><th></th><th>Frequency</th><th>T1</th><th>T2</th><th>RZ</th><th>SX</th><th>X</th><th>Readout error</th></tr><tr><td><font style='font-weight:bold'>Q0</font></td><td>4.92505 GHz</td><td>311.12755 us</td><td>54.76656 us</td><td>0</td><td>0.00023</td><td>0.00023</td><td>0.0136 </td><tr><td><font style='font-weight:bold'>Q1</font></td><td>5.04646 GHz</td><td>51.94405 us</td><td>23.86549 us</td><td>0</td><td>0.00035</td><td>0.00035</td><td>0.0168 </td><tr><td><font style='font-weight:bold'>Q2</font></td><td>4.96201 GHz</td><td>190.51034 us</td><td>35.48134 us</td><td>0</td><td>0.00032</td><td>0.00032</td><td>0.0093 </td><tr><td><font style='font-weight:bold'>Q3</font></td><td>5.10824 GHz</td><td>79.197 us</td><td>43.37777 us</td><td>0</td><td>0.00033</td><td>0.00033</td><td>0.027 </td><tr><td><font style='font-weight:bold'>Q4</font></td><td>5.01114 GHz</td><td>76.15756 us</td><td>136.04469 us</td><td>0</td><td>0.00036</td><td>0.00036</td><td>0.0678 </td><tr><td><font style='font-weight:bold'>Q5</font></td><td>5.17331 GHz</td><td>129.79632 us</td><td>33.32324 us</td><td>0</td><td>0.0004</td><td>0.0004</td><td>0.0222 </td><tr><td><font style='font-weight:bold'>Q6</font></td><td>5.31938 GHz</td><td>139.58483 us</td><td>172.49321 us</td><td>0</td><td>0.00037</td><td>0.00037</td><td>0.1381 </td></table>"
      }
     },
     "bf4cf05201b44bec9566bd152e5be507": {
      "model_module": "@jupyter-widgets/base",
      "model_module_version": "1.2.0",
      "model_name": "LayoutModel",
      "state": {
       "align_items": "center",
       "display": "flex-inline",
       "grid_area": "right",
       "max_height": "325px",
       "padding": "10px 10px 10px 10px",
       "width": "auto"
      }
     },
     "bf51f2f8951d47fda05fa5305cce1ffb": {
      "model_module": "@jupyter-widgets/base",
      "model_module_version": "1.2.0",
      "model_name": "LayoutModel",
      "state": {
       "grid_gap": "0px 0px",
       "grid_template_areas": "\n                                                   \"top top top\"\n                                                   \"left middle right\"\n                                                   ",
       "grid_template_columns": "33% 33% 33%",
       "grid_template_rows": "auto auto"
      }
     },
     "bfb7d59f7fbf4aeb84ea4fe37a052841": {
      "model_module": "@jupyter-widgets/controls",
      "model_module_version": "1.5.0",
      "model_name": "DescriptionStyleModel",
      "state": {
       "description_width": ""
      }
     },
     "c546be1ae3ce4165a2de8ad12fae3478": {
      "model_module": "@jupyter-widgets/controls",
      "model_module_version": "1.5.0",
      "model_name": "HTMLModel",
      "state": {
       "layout": "IPY_MODEL_05420567f86947ad8b29b6a6e11ca349",
       "style": "IPY_MODEL_f6e286aefa2a46cd8ef8fec03fb1b937",
       "value": "<table><style>\ntable {\n    border-collapse: collapse;\n    width: auto;\n}\n\nth, td {\n    text-align: left;\n    padding: 8px;\n}\n\ntr:nth-child(even) {background-color: #f6f6f6;}\n</style><tr><th></th><th>Frequency</th><th>T1</th><th>T2</th><th>RZ</th><th>SX</th><th>X</th><th>Readout error</th></tr><tr><td><font style='font-weight:bold'>Q0</font></td><td>4.92505 GHz</td><td>167.58033 us</td><td>54.76656 us</td><td>0</td><td>0.00023</td><td>0.00023</td><td>0.0136 </td><tr><td><font style='font-weight:bold'>Q1</font></td><td>5.04646 GHz</td><td>49.91786 us</td><td>23.86549 us</td><td>0</td><td>0.00035</td><td>0.00035</td><td>0.0168 </td><tr><td><font style='font-weight:bold'>Q2</font></td><td>4.96201 GHz</td><td>188.46764 us</td><td>35.48134 us</td><td>0</td><td>0.00032</td><td>0.00032</td><td>0.0093 </td><tr><td><font style='font-weight:bold'>Q3</font></td><td>5.10824 GHz</td><td>67.59298 us</td><td>43.37777 us</td><td>0</td><td>0.00033</td><td>0.00033</td><td>0.027 </td><tr><td><font style='font-weight:bold'>Q4</font></td><td>5.01114 GHz</td><td>50.65162 us</td><td>136.04469 us</td><td>0</td><td>0.00036</td><td>0.00036</td><td>0.0678 </td><tr><td><font style='font-weight:bold'>Q5</font></td><td>5.17331 GHz</td><td>114.71913 us</td><td>33.32324 us</td><td>0</td><td>0.0004</td><td>0.0004</td><td>0.0222 </td><tr><td><font style='font-weight:bold'>Q6</font></td><td>5.31938 GHz</td><td>138.0127 us</td><td>172.49321 us</td><td>0</td><td>0.00037</td><td>0.00037</td><td>0.1381 </td></table>"
      }
     },
     "c7d946ad32234a8ba5665f49cb123f4e": {
      "model_module": "@jupyter-widgets/base",
      "model_module_version": "1.2.0",
      "model_name": "LayoutModel",
      "state": {
       "grid_area": "left",
       "width": "100%"
      }
     },
     "c8d169cb5b9f401cb7fbfba61e0a08fb": {
      "model_module": "@jupyter-widgets/controls",
      "model_module_version": "1.5.0",
      "model_name": "DescriptionStyleModel",
      "state": {
       "description_width": ""
      }
     },
     "c991d8db80af401581caa364bd4fb33d": {
      "model_module": "@jupyter-widgets/base",
      "model_module_version": "1.2.0",
      "model_name": "LayoutModel",
      "state": {
       "align_items": "center",
       "display": "flex-inline",
       "grid_area": "right",
       "max_height": "325px",
       "padding": "10px 10px 10px 10px",
       "width": "auto"
      }
     },
     "cb9197ee4002495e80111d7f6047ffe4": {
      "model_module": "@jupyter-widgets/base",
      "model_module_version": "1.2.0",
      "model_name": "LayoutModel",
      "state": {}
     },
     "ccf8fd8da3394758a2c4af6411673eef": {
      "model_module": "@jupyter-widgets/controls",
      "model_module_version": "1.5.0",
      "model_name": "ButtonModel",
      "state": {
       "button_style": "primary",
       "description": "Clear",
       "layout": "IPY_MODEL_4acc332d77ff4469ac822e91795f317a",
       "style": "IPY_MODEL_ad2b407ae39c4a419beed8565a3f4910"
      }
     },
     "ce0f5deaca3546bda11878138189937c": {
      "model_module": "@jupyter-widgets/base",
      "model_module_version": "1.2.0",
      "model_name": "LayoutModel",
      "state": {
       "width": "145px"
      }
     },
     "ce3ed1edab9846c195a3c92a1d40b086": {
      "model_module": "@jupyter-widgets/base",
      "model_module_version": "1.2.0",
      "model_name": "LayoutModel",
      "state": {
       "overflow_y": "scroll"
      }
     },
     "ce5de6bf13bd495e8211d014b62c9325": {
      "model_module": "@jupyter-widgets/controls",
      "model_module_version": "1.5.0",
      "model_name": "HTMLModel",
      "state": {
       "layout": "IPY_MODEL_93f9ad94ffcd4dd480c6e9083ae9abbf",
       "style": "IPY_MODEL_9484f9cd7e7644d4a9bb8b661d3e8790",
       "value": "<table><style>\ntable {\n    border-collapse: collapse;\n    width: auto;\n}\n\nth, td {\n    text-align: left;\n    padding: 8px;\n}\n\ntr:nth-child(even) {background-color: #f6f6f6;};\n</style><tr><th></th><th>Type</th><th>Gate error</th></tr><tr><td><font style='font-weight:bold'>cx1_3</font></td><td>cx</td><td>0.00676</td></tr><tr><td><font style='font-weight:bold'>cx3_1</font></td><td>cx</td><td>0.00676</td></tr><tr><td><font style='font-weight:bold'>cx5_3</font></td><td>cx</td><td>0.00743</td></tr><tr><td><font style='font-weight:bold'>cx3_5</font></td><td>cx</td><td>0.00743</td></tr></table>"
      }
     },
     "d05afca739374a7fb19d13a39c9424ee": {
      "model_module": "@jupyter-widgets/controls",
      "model_module_version": "1.5.0",
      "model_name": "HTMLModel",
      "state": {
       "layout": "IPY_MODEL_f671578033544a25a8f304ad76ec98bb",
       "style": "IPY_MODEL_68b6fcedd48c4621a468d8b2e1ff3573",
       "value": "<font style='color:#34BC6E'>DONE</font>"
      }
     },
     "d08743675eac422c98b57d784854efab": {
      "model_module": "@jupyter-widgets/controls",
      "model_module_version": "1.5.0",
      "model_name": "DescriptionStyleModel",
      "state": {
       "description_width": ""
      }
     },
     "d14fad8c24c74c0682f4a2b9e9e0205b": {
      "model_module": "@jupyter-widgets/controls",
      "model_module_version": "1.5.0",
      "model_name": "HTMLModel",
      "state": {
       "layout": "IPY_MODEL_521745e3fa084c838a34f878f7d0c616",
       "style": "IPY_MODEL_4cbf972e72d34b08bd8795b4fc6aa294",
       "value": "<h1 style='color:#ffffff;background-color:#000000;padding-top: 1%;padding-bottom: 1%;padding-left: 1%; margin-top: 0px'>ibm_oslo</h1>"
      }
     },
     "d203b65eefca4098b411dc07901cb9db": {
      "model_module": "@jupyter-widgets/base",
      "model_module_version": "1.2.0",
      "model_name": "LayoutModel",
      "state": {
       "grid_gap": "0px 0px",
       "grid_template_areas": "\n                               \"left right right right\"\n                               \"bottom bottom bottom bottom\"\n                               ",
       "grid_template_columns": "31% 23% 23% 23%",
       "grid_template_rows": "auto auto"
      }
     },
     "d32d574716774e85b8499e4ce6ac9e77": {
      "model_module": "@jupyter-widgets/controls",
      "model_module_version": "1.5.0",
      "model_name": "HTMLMathModel",
      "state": {
       "layout": "IPY_MODEL_8d435384cc1c4ca1b58623490fac863b",
       "style": "IPY_MODEL_66c425aabdf446439a16e48fa37c66f4",
       "value": "<table><style>\ntable {\n    border-collapse: collapse;\n    width: auto;\n}\n\nth, td {\n    text-align: left;\n    padding: 8px;\n}\n\ntr:nth-child(even) {background-color: #f6f6f6;}\n</style><tr><th></th><th></th></tr><tr><td>rep_delay_range</td><td>[0.0, 500.0]</td></tr><tr><td>uchannels_enabled</td><td>True</td></tr><tr><td>qubit_channel_mapping</td><td>[['m0', 'd0', 'u1', 'u0'], ['u0', 'u3', 'u4', 'd1', 'u2', 'm1', 'u5', 'u1'], ['m2', 'd2', 'u2', 'u4'], ['u6', 'u3', 'm3', 'u8', 'd3', 'u5'], ['u9', 'd4', 'm4', 'u7'], ['d5', 'u6', 'u9', 'u11', 'u8', 'u10', 'u7', 'm5'], ['d6', 'u10', 'u11', 'm6']]</td></tr><tr><td>sample_name</td><td>family: Falcon, revision: 5.11, segment: H</td></tr><tr><td>url</td><td>None</td></tr><tr><td>meas_kernels</td><td>['hw_qmfk']</td></tr><tr><td>hamiltonian</td><td>$$\\begin{align} \\mathcal{H}/\\hbar = & \\sum_{i=0}^{6}\\left(\\frac{\\omega_{q,i}}{2}(\\mathbb{I}-\\sigma_i^{z})+\\frac{\\Delta_{i}}{2}(O_i^2-O_i)+\\Omega_{d,i}D_i(t)\\sigma_i^{X}\\right) \\\\ & + J_{0,1}(\\sigma_{0}^{+}\\sigma_{1}^{-}+\\sigma_{0}^{-}\\sigma_{1}^{+}) + J_{1,2}(\\sigma_{1}^{+}\\sigma_{2}^{-}+\\sigma_{1}^{-}\\sigma_{2}^{+}) + J_{4,5}(\\sigma_{4}^{+}\\sigma_{5}^{-}+\\sigma_{4}^{-}\\sigma_{5}^{+}) + J_{5,6}(\\sigma_{5}^{+}\\sigma_{6}^{-}+\\sigma_{5}^{-}\\sigma_{6}^{+}) \\\\ & + J_{1,3}(\\sigma_{1}^{+}\\sigma_{3}^{-}+\\sigma_{1}^{-}\\sigma_{3}^{+}) + J_{3,5}(\\sigma_{3}^{+}\\sigma_{5}^{-}+\\sigma_{3}^{-}\\sigma_{5}^{+}) \\\\ & + \\Omega_{d,0}(U_{0}^{(0,1)}(t))\\sigma_{0}^{X} + \\Omega_{d,1}(U_{1}^{(1,0)}(t)+U_{3}^{(1,3)}(t)+U_{2}^{(1,2)}(t))\\sigma_{1}^{X} \\\\ & + \\Omega_{d,2}(U_{4}^{(2,1)}(t))\\sigma_{2}^{X} + \\Omega_{d,3}(U_{5}^{(3,1)}(t)+U_{6}^{(3,5)}(t))\\sigma_{3}^{X} \\\\ & + \\Omega_{d,4}(U_{7}^{(4,5)}(t))\\sigma_{4}^{X} + \\Omega_{d,5}(U_{8}^{(5,3)}(t)+U_{10}^{(5,6)}(t)+U_{9}^{(5,4)}(t))\\sigma_{5}^{X} \\\\ & + \\Omega_{d,6}(U_{11}^{(6,5)}(t))\\sigma_{6}^{X} \\\\ \\end{align}$$</td></tr><tr><td>supported_features</td><td>['qobj', 'qasm3']</td></tr><tr><td>open_pulse</td><td>False</td></tr><tr><td>allow_q_object</td><td>True</td></tr><tr><td>channels</td><td>{'acquire0': {'operates': {'qubits': [0]}, 'purpose': 'acquire', 'type': 'acquire'}, 'acquire1': {'operates': {'qubits': [1]}, 'purpose': 'acquire', 'type': 'acquire'}, 'acquire2': {'operates': {'qubits': [2]}, 'purpose': 'acquire', 'type': 'acquire'}, 'acquire3': {'operates': {'qubits': [3]}, 'purpose': 'acquire', 'type': 'acquire'}, 'acquire4': {'operates': {'qubits': [4]}, 'purpose': 'acquire', 'type': 'acquire'}, 'acquire5': {'operates': {'qubits': [5]}, 'purpose': 'acquire', 'type': 'acquire'}, 'acquire6': {'operates': {'qubits': [6]}, 'purpose': 'acquire', 'type': 'acquire'}, 'd0': {'operates': {'qubits': [0]}, 'purpose': 'drive', 'type': 'drive'}, 'd1': {'operates': {'qubits': [1]}, 'purpose': 'drive', 'type': 'drive'}, 'd2': {'operates': {'qubits': [2]}, 'purpose': 'drive', 'type': 'drive'}, 'd3': {'operates': {'qubits': [3]}, 'purpose': 'drive', 'type': 'drive'}, 'd4': {'operates': {'qubits': [4]}, 'purpose': 'drive', 'type': 'drive'}, 'd5': {'operates': {'qubits': [5]}, 'purpose': 'drive', 'type': 'drive'}, 'd6': {'operates': {'qubits': [6]}, 'purpose': 'drive', 'type': 'drive'}, 'm0': {'operates': {'qubits': [0]}, 'purpose': 'measure', 'type': 'measure'}, 'm1': {'operates': {'qubits': [1]}, 'purpose': 'measure', 'type': 'measure'}, 'm2': {'operates': {'qubits': [2]}, 'purpose': 'measure', 'type': 'measure'}, 'm3': {'operates': {'qubits': [3]}, 'purpose': 'measure', 'type': 'measure'}, 'm4': {'operates': {'qubits': [4]}, 'purpose': 'measure', 'type': 'measure'}, 'm5': {'operates': {'qubits': [5]}, 'purpose': 'measure', 'type': 'measure'}, 'm6': {'operates': {'qubits': [6]}, 'purpose': 'measure', 'type': 'measure'}, 'u0': {'operates': {'qubits': [0, 1]}, 'purpose': 'cross-resonance', 'type': 'control'}, 'u1': {'operates': {'qubits': [1, 0]}, 'purpose': 'cross-resonance', 'type': 'control'}, 'u10': {'operates': {'qubits': [5, 6]}, 'purpose': 'cross-resonance', 'type': 'control'}, 'u11': {'operates': {'qubits': [6, 5]}, 'purpose': 'cross-resonance', 'type': 'control'}, 'u2': {'operates': {'qubits': [1, 2]}, 'purpose': 'cross-resonance', 'type': 'control'}, 'u3': {'operates': {'qubits': [1, 3]}, 'purpose': 'cross-resonance', 'type': 'control'}, 'u4': {'operates': {'qubits': [2, 1]}, 'purpose': 'cross-resonance', 'type': 'control'}, 'u5': {'operates': {'qubits': [3, 1]}, 'purpose': 'cross-resonance', 'type': 'control'}, 'u6': {'operates': {'qubits': [3, 5]}, 'purpose': 'cross-resonance', 'type': 'control'}, 'u7': {'operates': {'qubits': [4, 5]}, 'purpose': 'cross-resonance', 'type': 'control'}, 'u8': {'operates': {'qubits': [5, 3]}, 'purpose': 'cross-resonance', 'type': 'control'}, 'u9': {'operates': {'qubits': [5, 4]}, 'purpose': 'cross-resonance', 'type': 'control'}}</td></tr><tr><td>simulator</td><td>False</td></tr><tr><td>allow_object_storage</td><td>True</td></tr><tr><td>dtm</td><td>0.2222222222222222</td></tr><tr><td>parametric_pulses</td><td>['gaussian', 'gaussian_square', 'drag', 'constant']</td></tr><tr><td>pulse_num_channels</td><td>9</td></tr><tr><td>qubit_lo_range</td><td>[[4.425051285906436, 5.425051285906436], [4.546462134713409, 5.54646213471341], [4.462013802174123, 5.462013802174123], [4.608240617077812, 5.608240617077812], [4.511136065411962, 5.511136065411962], [4.673309835953398, 5.673309835953398], [4.8193776662802685, 5.819377666280269]]</td></tr><tr><td>coupling_map</td><td>[[0, 1], [1, 0], [1, 2], [1, 3], [2, 1], [3, 1], [3, 5], [4, 5], [5, 3], [5, 4], [5, 6], [6, 5]]</td></tr><tr><td>pulse_num_qubits</td><td>3</td></tr><tr><td>u_channel_lo</td><td>[[{'q': 1, 'scale': (1+0j)}], [{'q': 0, 'scale': (1+0j)}], [{'q': 2, 'scale': (1+0j)}], [{'q': 3, 'scale': (1+0j)}], [{'q': 1, 'scale': (1+0j)}], [{'q': 1, 'scale': (1+0j)}], [{'q': 5, 'scale': (1+0j)}], [{'q': 5, 'scale': (1+0j)}], [{'q': 3, 'scale': (1+0j)}], [{'q': 4, 'scale': (1+0j)}], [{'q': 6, 'scale': (1+0j)}], [{'q': 5, 'scale': (1+0j)}]]</td></tr><tr><td>memory</td><td>True</td></tr><tr><td>rep_times</td><td>[1000.0]</td></tr><tr><td>live_data</td><td>False</td></tr><tr><td>timing_constraints</td><td>{'acquire_alignment': 16, 'granularity': 16, 'min_length': 64, 'pulse_alignment': 16}</td></tr><tr><td>meas_levels</td><td>[1, 2]</td></tr><tr><td>meas_map</td><td>[[0, 1, 2, 3, 4, 5, 6]]</td></tr><tr><td>credits_required</td><td>True</td></tr><tr><td>online_date</td><td>2022-03-25 04:00:00+00:00</td></tr><tr><td>backend_name</td><td>ibm_oslo</td></tr><tr><td>discriminators</td><td>['hw_qmfk', 'linear_discriminator', 'quadratic_discriminator']</td></tr><tr><td>processor_type</td><td>{'family': 'Falcon', 'revision': '5.11', 'segment': 'H'}</td></tr><tr><td>dt</td><td>0.2222222222222222</td></tr><tr><td>acquisition_latency</td><td>[]</td></tr><tr><td>conditional_latency</td><td>[]</td></tr><tr><td>dynamic_reprate_enabled</td><td>True</td></tr><tr><td>description</td><td>7 qubit device</td></tr><tr><td>conditional</td><td>False</td></tr><tr><td>meas_lo_range</td><td>[[6.730336446000001, 7.730336446000001], [6.604991057, 7.604991057], [6.830633187, 7.830633187], [6.632327716000001, 7.632327716000001], [6.713651857, 7.713651857], [6.812390622000001, 7.812390622000001], [6.7878388140000006, 7.7878388140000006]]</td></tr><tr><td>parallel_compilation</td><td>False</td></tr><tr><td>supported_instructions</td><td>['sx', 'setf', 'measure', 'u3', 'x', 'rz', 'play', 'acquire', 'reset', 'u2', 'cx', 'if_else', 'id', 'shiftf', 'delay', 'u1']</td></tr><tr><td>measure_esp_enabled</td><td>False</td></tr><tr><td>local</td><td>False</td></tr><tr><td>multi_meas_enabled</td><td>True</td></tr><tr><td>n_registers</td><td>1</td></tr><tr><td>clops</td><td>2645</td></tr><tr><td>input_allowed</td><td>['job', 'runtime', 'qasm3']</td></tr><tr><td>n_uchannels</td><td>12</td></tr><tr><td>default_rep_delay</td><td>250.0</td></tr></table>"
      }
     },
     "d3e83d7eba33488d9c6b1ae98eb2206a": {
      "model_module": "@jupyter-widgets/base",
      "model_module_version": "1.2.0",
      "model_name": "LayoutModel",
      "state": {
       "border": "4px solid #000000",
       "max_height": "650px",
       "min_height": "650px",
       "overflow_y": "hidden"
      }
     },
     "d4b7099462e14331ac3f779f6d1f7914": {
      "model_module": "@jupyter-widgets/base",
      "model_module_version": "1.2.0",
      "model_name": "LayoutModel",
      "state": {
       "width": "145px"
      }
     },
     "d4e0381e47c145328103dad0b9651d56": {
      "model_module": "@jupyter-widgets/controls",
      "model_module_version": "1.5.0",
      "model_name": "DescriptionStyleModel",
      "state": {
       "description_width": ""
      }
     },
     "d92cf1a29ffd46f0a19e2de01ed7c017": {
      "model_module": "@jupyter-widgets/controls",
      "model_module_version": "1.5.0",
      "model_name": "GridBoxModel",
      "state": {
       "children": [
        "IPY_MODEL_116651875198438aae577b5cbbe271b3",
        "IPY_MODEL_04174951d6f740d9aaee470dcc3688c0",
        "IPY_MODEL_d32d574716774e85b8499e4ce6ac9e77"
       ],
       "layout": "IPY_MODEL_f22d7d1c40f74572b38e3e1f8b4c4f9e"
      }
     },
     "dc8399184eba4f1898129f49aa1a710d": {
      "model_module": "@jupyter-widgets/controls",
      "model_module_version": "1.5.0",
      "model_name": "HTMLModel",
      "state": {
       "layout": "IPY_MODEL_d4b7099462e14331ac3f779f6d1f7914",
       "style": "IPY_MODEL_d4e0381e47c145328103dad0b9651d56",
       "value": "ibmq_lima"
      }
     },
     "dcfbd6a2ffc047e68445f884b34131d3": {
      "model_module": "@jupyter-widgets/controls",
      "model_module_version": "1.5.0",
      "model_name": "GridBoxModel",
      "state": {
       "children": [
        "IPY_MODEL_fbf88bdb6dda40088a0fa078cf475c99",
        "IPY_MODEL_8da4e281e77947d7a85f6992376b0ca8",
        "IPY_MODEL_168e21540340495881862a4348ca6e8d"
       ],
       "layout": "IPY_MODEL_d203b65eefca4098b411dc07901cb9db"
      }
     },
     "dde334db725048cbb7d86f18a7578a9a": {
      "model_module": "@jupyter-widgets/controls",
      "model_module_version": "1.5.0",
      "model_name": "ButtonStyleModel",
      "state": {
       "button_color": "white"
      }
     },
     "df12ba2e2bf0463298bb37d8fc4a1ea8": {
      "model_module": "@jupyter-widgets/output",
      "model_module_version": "1.0.0",
      "model_name": "OutputModel",
      "state": {
       "layout": "IPY_MODEL_bf4cf05201b44bec9566bd152e5be507",
       "outputs": [
        {
         "data": {
          "image/png": "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\n",
          "text/plain": "<Figure size 360x360 with 1 Axes>"
         },
         "metadata": {},
         "output_type": "display_data"
        }
       ]
      }
     },
     "e0eaf1123fea4b3291723b258453f09c": {
      "model_module": "@jupyter-widgets/controls",
      "model_module_version": "1.5.0",
      "model_name": "DescriptionStyleModel",
      "state": {
       "description_width": ""
      }
     },
     "e13204411a6e4f2a80f6b2997e46ff2b": {
      "model_module": "@jupyter-widgets/controls",
      "model_module_version": "1.5.0",
      "model_name": "TabModel",
      "state": {
       "_titles": {
        "0": "Configuration",
        "1": "Qubit Properties",
        "2": "Multi-Qubit Gates",
        "3": "Error Map",
        "4": "Job History"
       },
       "children": [
        "IPY_MODEL_d92cf1a29ffd46f0a19e2de01ed7c017",
        "IPY_MODEL_0de29a2a828541af878a812d73ac9a94",
        "IPY_MODEL_33765a1395c44e56bbc1fb00743a65bc",
        "IPY_MODEL_0f16011151764bd7b9526613b9e25754",
        "IPY_MODEL_2615c8744b474a6481c06db1644df1ee"
       ],
       "layout": "IPY_MODEL_ce3ed1edab9846c195a3c92a1d40b086"
      }
     },
     "e142699266eb4e41aa34736c546a9683": {
      "model_module": "@jupyter-widgets/controls",
      "model_module_version": "1.5.0",
      "model_name": "DescriptionStyleModel",
      "state": {
       "description_width": ""
      }
     },
     "e2ccf77d0c8543c89468d3c0b498f9e3": {
      "model_module": "@jupyter-widgets/controls",
      "model_module_version": "1.5.0",
      "model_name": "HTMLModel",
      "state": {
       "layout": "IPY_MODEL_fe07309476bb4ad795f5e13d741378ae",
       "style": "IPY_MODEL_4118d771934643798bd55602debba293",
       "value": "63865c8aaae8079f1a988c37"
      }
     },
     "e3c62d7129984786bc045c62f3b6cbe8": {
      "model_module": "@jupyter-widgets/base",
      "model_module_version": "1.2.0",
      "model_name": "LayoutModel",
      "state": {
       "grid_area": "right"
      }
     },
     "e69a64a8a3d643f09fac195a08a0e5b5": {
      "model_module": "@jupyter-widgets/base",
      "model_module_version": "1.2.0",
      "model_name": "LayoutModel",
      "state": {
       "width": "145px"
      }
     },
     "e6c20b6601ba49fba47ba160d26c903c": {
      "model_module": "@jupyter-widgets/controls",
      "model_module_version": "1.5.0",
      "model_name": "HTMLMathModel",
      "state": {
       "layout": "IPY_MODEL_61e3f37b1cb24fd9a4e63dcd915e4d17",
       "style": "IPY_MODEL_d08743675eac422c98b57d784854efab",
       "value": "<table><style>\ntable {\n    border-collapse: collapse;\n    width: auto;\n}\n\nth, td {\n    text-align: left;\n    padding: 8px;\n}\n\ntr:nth-child(even) {background-color: #f6f6f6;}\n</style><tr><th></th><th></th></tr><tr><td>rep_delay_range</td><td>[0.0, 500.0]</td></tr><tr><td>uchannels_enabled</td><td>True</td></tr><tr><td>qubit_channel_mapping</td><td>[['m0', 'd0', 'u1', 'u0'], ['u0', 'u3', 'u4', 'd1', 'u2', 'm1', 'u5', 'u1'], ['m2', 'd2', 'u2', 'u4'], ['u6', 'u3', 'm3', 'u8', 'd3', 'u5'], ['u9', 'd4', 'm4', 'u7'], ['d5', 'u6', 'u9', 'u11', 'u8', 'u10', 'u7', 'm5'], ['d6', 'u10', 'u11', 'm6']]</td></tr><tr><td>sample_name</td><td>family: Falcon, revision: 5.11, segment: H</td></tr><tr><td>url</td><td>None</td></tr><tr><td>meas_kernels</td><td>['hw_qmfk']</td></tr><tr><td>hamiltonian</td><td>$$\\begin{align} \\mathcal{H}/\\hbar = & \\sum_{i=0}^{6}\\left(\\frac{\\omega_{q,i}}{2}(\\mathbb{I}-\\sigma_i^{z})+\\frac{\\Delta_{i}}{2}(O_i^2-O_i)+\\Omega_{d,i}D_i(t)\\sigma_i^{X}\\right) \\\\ & + J_{0,1}(\\sigma_{0}^{+}\\sigma_{1}^{-}+\\sigma_{0}^{-}\\sigma_{1}^{+}) + J_{1,2}(\\sigma_{1}^{+}\\sigma_{2}^{-}+\\sigma_{1}^{-}\\sigma_{2}^{+}) + J_{4,5}(\\sigma_{4}^{+}\\sigma_{5}^{-}+\\sigma_{4}^{-}\\sigma_{5}^{+}) + J_{5,6}(\\sigma_{5}^{+}\\sigma_{6}^{-}+\\sigma_{5}^{-}\\sigma_{6}^{+}) \\\\ & + J_{1,3}(\\sigma_{1}^{+}\\sigma_{3}^{-}+\\sigma_{1}^{-}\\sigma_{3}^{+}) + J_{3,5}(\\sigma_{3}^{+}\\sigma_{5}^{-}+\\sigma_{3}^{-}\\sigma_{5}^{+}) \\\\ & + \\Omega_{d,0}(U_{0}^{(0,1)}(t))\\sigma_{0}^{X} + \\Omega_{d,1}(U_{1}^{(1,0)}(t)+U_{3}^{(1,3)}(t)+U_{2}^{(1,2)}(t))\\sigma_{1}^{X} \\\\ & + \\Omega_{d,2}(U_{4}^{(2,1)}(t))\\sigma_{2}^{X} + \\Omega_{d,3}(U_{5}^{(3,1)}(t)+U_{6}^{(3,5)}(t))\\sigma_{3}^{X} \\\\ & + \\Omega_{d,4}(U_{7}^{(4,5)}(t))\\sigma_{4}^{X} + \\Omega_{d,5}(U_{8}^{(5,3)}(t)+U_{10}^{(5,6)}(t)+U_{9}^{(5,4)}(t))\\sigma_{5}^{X} \\\\ & + \\Omega_{d,6}(U_{11}^{(6,5)}(t))\\sigma_{6}^{X} \\\\ \\end{align}$$</td></tr><tr><td>supported_features</td><td>['qobj', 'qasm3']</td></tr><tr><td>open_pulse</td><td>False</td></tr><tr><td>allow_q_object</td><td>True</td></tr><tr><td>channels</td><td>{'acquire0': {'operates': {'qubits': [0]}, 'purpose': 'acquire', 'type': 'acquire'}, 'acquire1': {'operates': {'qubits': [1]}, 'purpose': 'acquire', 'type': 'acquire'}, 'acquire2': {'operates': {'qubits': [2]}, 'purpose': 'acquire', 'type': 'acquire'}, 'acquire3': {'operates': {'qubits': [3]}, 'purpose': 'acquire', 'type': 'acquire'}, 'acquire4': {'operates': {'qubits': [4]}, 'purpose': 'acquire', 'type': 'acquire'}, 'acquire5': {'operates': {'qubits': [5]}, 'purpose': 'acquire', 'type': 'acquire'}, 'acquire6': {'operates': {'qubits': [6]}, 'purpose': 'acquire', 'type': 'acquire'}, 'd0': {'operates': {'qubits': [0]}, 'purpose': 'drive', 'type': 'drive'}, 'd1': {'operates': {'qubits': [1]}, 'purpose': 'drive', 'type': 'drive'}, 'd2': {'operates': {'qubits': [2]}, 'purpose': 'drive', 'type': 'drive'}, 'd3': {'operates': {'qubits': [3]}, 'purpose': 'drive', 'type': 'drive'}, 'd4': {'operates': {'qubits': [4]}, 'purpose': 'drive', 'type': 'drive'}, 'd5': {'operates': {'qubits': [5]}, 'purpose': 'drive', 'type': 'drive'}, 'd6': {'operates': {'qubits': [6]}, 'purpose': 'drive', 'type': 'drive'}, 'm0': {'operates': {'qubits': [0]}, 'purpose': 'measure', 'type': 'measure'}, 'm1': {'operates': {'qubits': [1]}, 'purpose': 'measure', 'type': 'measure'}, 'm2': {'operates': {'qubits': [2]}, 'purpose': 'measure', 'type': 'measure'}, 'm3': {'operates': {'qubits': [3]}, 'purpose': 'measure', 'type': 'measure'}, 'm4': {'operates': {'qubits': [4]}, 'purpose': 'measure', 'type': 'measure'}, 'm5': {'operates': {'qubits': [5]}, 'purpose': 'measure', 'type': 'measure'}, 'm6': {'operates': {'qubits': [6]}, 'purpose': 'measure', 'type': 'measure'}, 'u0': {'operates': {'qubits': [0, 1]}, 'purpose': 'cross-resonance', 'type': 'control'}, 'u1': {'operates': {'qubits': [1, 0]}, 'purpose': 'cross-resonance', 'type': 'control'}, 'u10': {'operates': {'qubits': [5, 6]}, 'purpose': 'cross-resonance', 'type': 'control'}, 'u11': {'operates': {'qubits': [6, 5]}, 'purpose': 'cross-resonance', 'type': 'control'}, 'u2': {'operates': {'qubits': [1, 2]}, 'purpose': 'cross-resonance', 'type': 'control'}, 'u3': {'operates': {'qubits': [1, 3]}, 'purpose': 'cross-resonance', 'type': 'control'}, 'u4': {'operates': {'qubits': [2, 1]}, 'purpose': 'cross-resonance', 'type': 'control'}, 'u5': {'operates': {'qubits': [3, 1]}, 'purpose': 'cross-resonance', 'type': 'control'}, 'u6': {'operates': {'qubits': [3, 5]}, 'purpose': 'cross-resonance', 'type': 'control'}, 'u7': {'operates': {'qubits': [4, 5]}, 'purpose': 'cross-resonance', 'type': 'control'}, 'u8': {'operates': {'qubits': [5, 3]}, 'purpose': 'cross-resonance', 'type': 'control'}, 'u9': {'operates': {'qubits': [5, 4]}, 'purpose': 'cross-resonance', 'type': 'control'}}</td></tr><tr><td>simulator</td><td>False</td></tr><tr><td>allow_object_storage</td><td>True</td></tr><tr><td>dtm</td><td>0.2222222222222222</td></tr><tr><td>parametric_pulses</td><td>['gaussian', 'gaussian_square', 'drag', 'constant']</td></tr><tr><td>pulse_num_channels</td><td>9</td></tr><tr><td>qubit_lo_range</td><td>[[4.425051285906436, 5.425051285906436], [4.546462134713409, 5.54646213471341], [4.462013802174123, 5.462013802174123], [4.608240617077812, 5.608240617077812], [4.511136065411962, 5.511136065411962], [4.673309835953398, 5.673309835953398], [4.8193776662802685, 5.819377666280269]]</td></tr><tr><td>coupling_map</td><td>[[0, 1], [1, 0], [1, 2], [1, 3], [2, 1], [3, 1], [3, 5], [4, 5], [5, 3], [5, 4], [5, 6], [6, 5]]</td></tr><tr><td>pulse_num_qubits</td><td>3</td></tr><tr><td>u_channel_lo</td><td>[[{'q': 1, 'scale': (1+0j)}], [{'q': 0, 'scale': (1+0j)}], [{'q': 2, 'scale': (1+0j)}], [{'q': 3, 'scale': (1+0j)}], [{'q': 1, 'scale': (1+0j)}], [{'q': 1, 'scale': (1+0j)}], [{'q': 5, 'scale': (1+0j)}], [{'q': 5, 'scale': (1+0j)}], [{'q': 3, 'scale': (1+0j)}], [{'q': 4, 'scale': (1+0j)}], [{'q': 6, 'scale': (1+0j)}], [{'q': 5, 'scale': (1+0j)}]]</td></tr><tr><td>memory</td><td>True</td></tr><tr><td>rep_times</td><td>[1000.0]</td></tr><tr><td>live_data</td><td>False</td></tr><tr><td>timing_constraints</td><td>{'acquire_alignment': 16, 'granularity': 16, 'min_length': 64, 'pulse_alignment': 16}</td></tr><tr><td>meas_levels</td><td>[1, 2]</td></tr><tr><td>meas_map</td><td>[[0, 1, 2, 3, 4, 5, 6]]</td></tr><tr><td>credits_required</td><td>True</td></tr><tr><td>online_date</td><td>2022-03-25 04:00:00+00:00</td></tr><tr><td>backend_name</td><td>ibm_oslo</td></tr><tr><td>discriminators</td><td>['hw_qmfk', 'linear_discriminator', 'quadratic_discriminator']</td></tr><tr><td>processor_type</td><td>{'family': 'Falcon', 'revision': '5.11', 'segment': 'H'}</td></tr><tr><td>dt</td><td>0.2222222222222222</td></tr><tr><td>acquisition_latency</td><td>[]</td></tr><tr><td>conditional_latency</td><td>[]</td></tr><tr><td>dynamic_reprate_enabled</td><td>True</td></tr><tr><td>description</td><td>7 qubit device</td></tr><tr><td>conditional</td><td>False</td></tr><tr><td>meas_lo_range</td><td>[[6.730336446000001, 7.730336446000001], [6.604991057, 7.604991057], [6.830633187, 7.830633187], [6.632327716000001, 7.632327716000001], [6.713651857, 7.713651857], [6.812390622000001, 7.812390622000001], [6.7878388140000006, 7.7878388140000006]]</td></tr><tr><td>parallel_compilation</td><td>False</td></tr><tr><td>supported_instructions</td><td>['sx', 'setf', 'measure', 'u3', 'x', 'rz', 'play', 'acquire', 'reset', 'u2', 'cx', 'if_else', 'id', 'shiftf', 'delay', 'u1']</td></tr><tr><td>measure_esp_enabled</td><td>False</td></tr><tr><td>local</td><td>False</td></tr><tr><td>multi_meas_enabled</td><td>True</td></tr><tr><td>n_registers</td><td>1</td></tr><tr><td>clops</td><td>2645</td></tr><tr><td>input_allowed</td><td>['job', 'runtime', 'qasm3']</td></tr><tr><td>n_uchannels</td><td>12</td></tr><tr><td>default_rep_delay</td><td>250.0</td></tr></table>"
      }
     },
     "e6c5a1e2200d46eda0ee4c03f0e0180c": {
      "model_module": "@jupyter-widgets/base",
      "model_module_version": "1.2.0",
      "model_name": "LayoutModel",
      "state": {
       "grid_area": "middle"
      }
     },
     "e796982519fc4dc79559fd36577415f7": {
      "model_module": "@jupyter-widgets/base",
      "model_module_version": "1.2.0",
      "model_name": "LayoutModel",
      "state": {
       "grid_area": "left"
      }
     },
     "e87b817e04d44e75b1dee641d670edb3": {
      "model_module": "@jupyter-widgets/controls",
      "model_module_version": "1.5.0",
      "model_name": "HTMLModel",
      "state": {
       "layout": "IPY_MODEL_b6857ef60b4f414d8ce59e9f3587bfe5",
       "style": "IPY_MODEL_ac2326af7fe94808861dbc3476885c96",
       "value": "<h5>Queue</h5>"
      }
     },
     "e8939bdf8645481f8782793e01c92e0b": {
      "model_module": "@jupyter-widgets/controls",
      "model_module_version": "1.5.0",
      "model_name": "DescriptionStyleModel",
      "state": {
       "description_width": ""
      }
     },
     "e948edd955c742ff91a33001291c3400": {
      "model_module": "@jupyter-widgets/controls",
      "model_module_version": "1.5.0",
      "model_name": "HTMLModel",
      "state": {
       "layout": "IPY_MODEL_a3399f014ebb4694b7476b34906556f3",
       "style": "IPY_MODEL_5547804540f84837b9d1bf2b440c8fce",
       "value": "<div><font style='font-weight:bold'>last_update_date</font>: Tue 29 November 2022 at 19:31 UTC</div>"
      }
     },
     "ebb0398bb15d4faf9a954d529f1cb1ee": {
      "model_module": "@jupyter-widgets/base",
      "model_module_version": "1.2.0",
      "model_name": "LayoutModel",
      "state": {
       "overflow_x": "scroll"
      }
     },
     "ed5d2fba68a84fb79ffc1798acd86768": {
      "model_module": "@jupyter-widgets/controls",
      "model_module_version": "1.5.0",
      "model_name": "GridBoxModel",
      "state": {
       "children": [
        "IPY_MODEL_6f8d3a941167441bac2e243128929061",
        "IPY_MODEL_f5bdce84fb954237b2b742c1eb1a527f",
        "IPY_MODEL_8de9b292727e4e2c9d632fe8d7a99c08",
        "IPY_MODEL_ba9f1a1248484ddba3a293718ca7ac32"
       ],
       "layout": "IPY_MODEL_5c6327dbed3345c88a606b4d862359d6"
      }
     },
     "ef421b00fde842ac9dc2642082a94138": {
      "model_module": "@jupyter-widgets/base",
      "model_module_version": "1.2.0",
      "model_name": "LayoutModel",
      "state": {}
     },
     "ef46d686f3fc47a8968d4ca040571eef": {
      "model_module": "@jupyter-widgets/base",
      "model_module_version": "1.2.0",
      "model_name": "LayoutModel",
      "state": {}
     },
     "f16dcc5ec0b247eb99f03565ed4107b2": {
      "model_module": "@jupyter-widgets/base",
      "model_module_version": "1.2.0",
      "model_name": "LayoutModel",
      "state": {
       "max_height": "620px"
      }
     },
     "f1cb6e8d2fa049cf89a8d0a2b03e7a72": {
      "model_module": "@jupyter-widgets/base",
      "model_module_version": "1.2.0",
      "model_name": "LayoutModel",
      "state": {}
     },
     "f22d7d1c40f74572b38e3e1f8b4c4f9e": {
      "model_module": "@jupyter-widgets/base",
      "model_module_version": "1.2.0",
      "model_name": "LayoutModel",
      "state": {
       "grid_gap": "0px 0px",
       "grid_template_areas": "\n                               \"left right right right\"\n                               \"bottom bottom bottom bottom\"\n                               ",
       "grid_template_columns": "31% 23% 23% 23%",
       "grid_template_rows": "auto auto"
      }
     },
     "f2ad2f18092746dcbfbbda49aa72382f": {
      "model_module": "@jupyter-widgets/controls",
      "model_module_version": "1.5.0",
      "model_name": "ButtonStyleModel",
      "state": {
       "button_color": "white"
      }
     },
     "f526ee80d51248c9932a350f352446d3": {
      "model_module": "@jupyter-widgets/controls",
      "model_module_version": "1.5.0",
      "model_name": "HTMLModel",
      "state": {
       "layout": "IPY_MODEL_0b06fb47dc35481c98e3d71b439a902f",
       "style": "IPY_MODEL_334da4ca8a224b598528dfeb98ee3cca",
       "value": "<table><style>\ntable {\n    border-collapse: collapse;\n    width: auto;\n}\n\nth, td {\n    text-align: left;\n    padding: 8px;\n}\n\ntr:nth-child(even) {background-color: #f6f6f6;};\n</style><tr><th></th><th>Type</th><th>Gate error</th></tr><tr><td><font style='font-weight:bold'>cx6_5</font></td><td>cx</td><td>0.00642</td></tr><tr><td><font style='font-weight:bold'>cx5_6</font></td><td>cx</td><td>0.00642</td></tr><tr><td><font style='font-weight:bold'>cx0_1</font></td><td>cx</td><td>0.00856</td></tr><tr><td><font style='font-weight:bold'>cx1_0</font></td><td>cx</td><td>0.00856</td></tr></table>"
      }
     },
     "f5bdce84fb954237b2b742c1eb1a527f": {
      "model_module": "@jupyter-widgets/controls",
      "model_module_version": "1.5.0",
      "model_name": "HTMLModel",
      "state": {
       "layout": "IPY_MODEL_22572194f6c14207a46484e775647e59",
       "style": "IPY_MODEL_8a7acf73de9a4e3fa68a3bee11d4e63c",
       "value": "<table><style>\ntable {\n    border-collapse: collapse;\n    width: auto;\n}\n\nth, td {\n    text-align: left;\n    padding: 8px;\n}\n\ntr:nth-child(even) {background-color: #f6f6f6;};\n</style><tr><th></th><th>Type</th><th>Gate error</th></tr><tr><td><font style='font-weight:bold'>cx4_5</font></td><td>cx</td><td>0.01073</td></tr><tr><td><font style='font-weight:bold'>cx5_4</font></td><td>cx</td><td>0.01073</td></tr><tr><td><font style='font-weight:bold'>cx2_1</font></td><td>cx</td><td>0.00826</td></tr><tr><td><font style='font-weight:bold'>cx1_2</font></td><td>cx</td><td>0.00826</td></tr></table>"
      }
     },
     "f671578033544a25a8f304ad76ec98bb": {
      "model_module": "@jupyter-widgets/base",
      "model_module_version": "1.2.0",
      "model_name": "LayoutModel",
      "state": {
       "width": "95px"
      }
     },
     "f6a9f6d11f9746e8b37d69b1f4663387": {
      "model_module": "@jupyter-widgets/controls",
      "model_module_version": "1.5.0",
      "model_name": "HTMLModel",
      "state": {
       "layout": "IPY_MODEL_ce0f5deaca3546bda11878138189937c",
       "style": "IPY_MODEL_22a0766e6276417f8904d7bdad3b5c5e",
       "value": "ibmq_lima"
      }
     },
     "f6e286aefa2a46cd8ef8fec03fb1b937": {
      "model_module": "@jupyter-widgets/controls",
      "model_module_version": "1.5.0",
      "model_name": "DescriptionStyleModel",
      "state": {
       "description_width": ""
      }
     },
     "f7e33ae249334295ad6d44f017f6e494": {
      "model_module": "@jupyter-widgets/controls",
      "model_module_version": "1.5.0",
      "model_name": "HTMLModel",
      "state": {
       "layout": "IPY_MODEL_706ff9e15a124fcbbdc23c817f4e904f",
       "style": "IPY_MODEL_8329bd6d247542e891315c584bf6969d",
       "value": "<table><style>\ntable {\n    border-collapse: collapse;\n    width: auto;\n}\n\nth, td {\n    text-align: left;\n    padding: 8px;\n}\n\ntr:nth-child(even) {background-color: #f6f6f6;};\n</style><tr><th></th><th>Type</th><th>Gate error</th></tr><tr><td><font style='font-weight:bold'>cx4_5</font></td><td>cx</td><td>0.01073</td></tr><tr><td><font style='font-weight:bold'>cx5_4</font></td><td>cx</td><td>0.01073</td></tr><tr><td><font style='font-weight:bold'>cx2_1</font></td><td>cx</td><td>0.00826</td></tr><tr><td><font style='font-weight:bold'>cx1_2</font></td><td>cx</td><td>0.00826</td></tr></table>"
      }
     },
     "f96868a7c87148d7add613482ed39de6": {
      "model_module": "@jupyter-widgets/base",
      "model_module_version": "1.2.0",
      "model_name": "LayoutModel",
      "state": {
       "grid_area": "left",
       "width": "100%"
      }
     },
     "f98533196fbb45e498b4ff59f550cf21": {
      "model_module": "@jupyter-widgets/controls",
      "model_module_version": "1.5.0",
      "model_name": "TabModel",
      "state": {
       "_titles": {
        "0": "Configuration",
        "1": "Qubit Properties",
        "2": "Multi-Qubit Gates",
        "3": "Error Map",
        "4": "Job History"
       },
       "children": [
        "IPY_MODEL_dcfbd6a2ffc047e68445f884b34131d3",
        "IPY_MODEL_3842dcc0140642c4b4849ce8677ff662",
        "IPY_MODEL_ed5d2fba68a84fb79ffc1798acd86768",
        "IPY_MODEL_30a81d9335b54dfdb348ee32b7e5559f",
        "IPY_MODEL_73eb0b87de4f4f028ed7dc07550d38dd"
       ],
       "layout": "IPY_MODEL_8d6f89831ceb424e90ed0db82027c407"
      }
     },
     "fbb43d906bb545b4aa0dbb84e5b28119": {
      "model_module": "@jupyter-widgets/controls",
      "model_module_version": "1.5.0",
      "model_name": "DescriptionStyleModel",
      "state": {
       "description_width": ""
      }
     },
     "fbf88bdb6dda40088a0fa078cf475c99": {
      "model_module": "@jupyter-widgets/controls",
      "model_module_version": "1.5.0",
      "model_name": "HTMLMathModel",
      "state": {
       "layout": "IPY_MODEL_8c8aa19d01f546e6b9ddfe82bd817215",
       "style": "IPY_MODEL_95973041c6514545a0b882bde53c95aa",
       "value": "<table><style>\ntable {\n    border-collapse: collapse;\n    width: auto;\n}\n\nth, td {\n    text-align: left;\n    padding: 8px;\n}\n\ntr:nth-child(even) {background-color: #f6f6f6;}\n</style><tr><th>Property</th><th>Value</th></tr><tr><td><font style='font-weight:bold'>n_qubits</font></td><td>7</td></tr><tr><td><font style='font-weight:bold'>quantum_volume</font></td><td>32</td></tr><tr><td><font style='font-weight:bold'>operational</font></td><td>True</td></tr><tr><td><font style='font-weight:bold'>status_msg</font></td><td>active</td></tr><tr><td><font style='font-weight:bold'>pending_jobs</font></td><td>1</td></tr><tr><td><font style='font-weight:bold'>backend_version</font></td><td>1.0.14</td></tr><tr><td><font style='font-weight:bold'>basis_gates</font></td><td>['id', 'rz', 'sx', 'x', 'cx', 'reset']</td></tr><tr><td><font style='font-weight:bold'>max_shots</font></td><td>20000</td></tr><tr><td><font style='font-weight:bold'>max_experiments</font></td><td>100</td></tr></table>"
      }
     },
     "fd4c30c2fa0d4a659060f7e1aa9d2b71": {
      "model_module": "@jupyter-widgets/controls",
      "model_module_version": "1.5.0",
      "model_name": "DescriptionStyleModel",
      "state": {
       "description_width": ""
      }
     },
     "fd9d2b44b30e41f380db01e08c0b72ee": {
      "model_module": "@jupyter-widgets/base",
      "model_module_version": "1.2.0",
      "model_name": "LayoutModel",
      "state": {
       "width": "190px"
      }
     },
     "fe07309476bb4ad795f5e13d741378ae": {
      "model_module": "@jupyter-widgets/base",
      "model_module_version": "1.2.0",
      "model_name": "LayoutModel",
      "state": {
       "width": "190px"
      }
     }
    },
    "version_major": 2,
    "version_minor": 0
   }
  }
 },
 "nbformat": 4,
 "nbformat_minor": 5
}
