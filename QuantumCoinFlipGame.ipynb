{
 "cells": [
  {
   "cell_type": "markdown",
   "id": "845166ae-1e92-46f5-8438-a472e26d2465",
   "metadata": {},
   "source": [
    "# **Classical Coin Game**\n",
    "\n",
    "# Play the coin game against a quantum computer that is only allowed to do classical things: be in the 0 or 1 state (no superpositions, entanglement, interference, ...)."
   ]
  },
  {
   "cell_type": "code",
   "execution_count": 4,
   "id": "8c5f0ebd-d371-4f6e-b334-7cfe6db6c8f8",
   "metadata": {},
   "outputs": [
    {
     "name": "stdout",
     "output_type": "stream",
     "text": [
      "Welcome to the Quantum Coin Game. The coin starts off as Heads, which corresponds to |0>.\n",
      "You are playing against the Quantum Computer. The Quantum Computer will take its turn first.\n",
      "The Quantum Computer has just played its turn. Choose what you are going to do now.\n"
     ]
    },
    {
     "data": {
      "application/vnd.jupyter.widget-view+json": {
       "model_id": "76e98a90d7e442589f64c4e92346c4fe",
       "version_major": 2,
       "version_minor": 0
      },
      "text/plain": [
       "VBox(children=(Dropdown(description='Choice: ', options=(('Do not flip the coin', 'Do Nothing'), ('Flip the co…"
      ]
     },
     "metadata": {},
     "output_type": "display_data"
    }
   ],
   "source": [
    "from qiskit.tools.jupyter import *\n",
    "from qiskit.visualization import *\n",
    "import qiskit.tools.jupyter #Repetition of line 1?\n",
    "import ipywidgets as widgets\n",
    "\n",
    "print(\"Welcome to the Quantum Coin Game. The coin starts off as Heads, which corresponds to |0>.\")\n",
    "print(\"You are playing against the Quantum Computer. The Quantum Computer will take its turn first.\")\n",
    "print(\"The Quantum Computer has just played its turn. Choose what you are going to do now.\")\n",
    "# Layout\n",
    "button = widgets.Button(\n",
    "    description='Play')\n",
    "player2_move = widgets.Dropdown(\n",
    "    options=[('Do not flip the coin', 'Do Nothing'), ('Flip the coin', 'Apply X gate')],\n",
    "    description='Choice: ',\n",
    "    disabled=False,\n",
    ")\n",
    "out = widgets.Output()\n",
    "def on_button_clicked(b):\n",
    "    with out:\n",
    " #--------------------------------------------CODE FOR GAME STARTS HERE----------------------------------------------------------#       \n",
    "        # Initial Circuit\n",
    "        qc = QuantumCircuit(1, 1)\n",
    "        \n",
    "        # Turn 1\n",
    "        qc.h(0)\n",
    "        \n",
    "        # Turn 2\n",
    "        if player2_move.value == 'Do nothing':\n",
    "            print('You chose to do nothing')\n",
    "        if player2_move.value == 'Apply X gate':\n",
    "            qc.x(0)\n",
    "            print('You chose to flip')\n",
    "      \n",
    "        print('The Quantum Computer has played its turn')\n",
    "        # Measure  \n",
    "        qc.measure(0,0)\n",
    "        \n",
    "        # QASM\n",
    "        backend= Aer.get_backend('qasm_simulator')\n",
    "        job = execute(qc, backend, shots=1)\n",
    "        result = job.result()\n",
    "        counts = result.get_counts()\n",
    "        # Result\n",
    "        if '0' in counts:\n",
    "            print(\"You Lose to Quantum. The Quantum Computer Wins. Try again!\")\n",
    "        if '1' in counts:\n",
    "            print(\"You Win against the Quantum Computer. Great job!\")\n",
    "            \n",
    "        print(\"\\n\\n\\n\")\n",
    " #--------------------------------------------CODE FOR GAME ENDS HERE----------------------------------------------------------# \n",
    "button.on_click(on_button_clicked)\n",
    "widgets.VBox([player2_move, button, out])"
   ]
  },
  {
   "cell_type": "markdown",
   "id": "89a72341-45d7-48ef-8dcd-3d8f40c76641",
   "metadata": {},
   "source": [
    "## Run the cell below to play the coin game where the computer is allowed to use some of those quantum properties we've been talking about!"
   ]
  },
  {
   "cell_type": "code",
   "execution_count": 6,
   "id": "f3682a3d-099c-48ec-b176-8c7dd2e6878e",
   "metadata": {},
   "outputs": [
    {
     "name": "stdout",
     "output_type": "stream",
     "text": [
      "Welcome to the Quantum Coin Game. The coin starts off as Heads, which corresponds to |0>.\n",
      "You are playing against the Quantum Computer. The Quantum Computer will take its turn first.\n",
      "The Quantum Computer has just played its turn. Choose what you are going to do now.\n"
     ]
    },
    {
     "data": {
      "application/vnd.jupyter.widget-view+json": {
       "model_id": "8fa7d53412c04aa0856151571cf530b4",
       "version_major": 2,
       "version_minor": 0
      },
      "text/plain": [
       "VBox(children=(Dropdown(description='Choice: ', options=(('Do not flip the coin', 'Do Nothing'), ('Flip the co…"
      ]
     },
     "metadata": {},
     "output_type": "display_data"
    }
   ],
   "source": [
    "from qiskit.tools.jupyter import *\n",
    "from qiskit.visualization import *\n",
    "import qiskit.tools.jupyter #Repetition of line 1?\n",
    "import ipywidgets as widgets\n",
    "\n",
    "print(\"Welcome to the Quantum Coin Game. The coin starts off as Heads, which corresponds to |0>.\")\n",
    "print(\"You are playing against the Quantum Computer. The Quantum Computer will take its turn first.\")\n",
    "print(\"The Quantum Computer has just played its turn. Choose what you are going to do now.\")\n",
    "# Layout\n",
    "button = widgets.Button(\n",
    "    description='Play')\n",
    "player2_move = widgets.Dropdown(\n",
    "    options=[('Do not flip the coin', 'Do Nothing'), ('Flip the coin', 'Apply X gate')],\n",
    "    description='Choice: ',\n",
    "    disabled=False,\n",
    ")\n",
    "out = widgets.Output()\n",
    "def on_button_clicked(b):\n",
    "    with out:\n",
    " #--------------------------------------------CODE FOR GAME STARTS HERE----------------------------------------------------------#       \n",
    "        # Initial Circuit\n",
    "        qc = QuantumCircuit(1, 1)\n",
    "        \n",
    "        # Turn 1\n",
    "        qc.h(0)\n",
    "        \n",
    "        # Turn 2\n",
    "        if player2_move.value == 'Do nothing':\n",
    "            print('You chose to do nothing')\n",
    "        if player2_move.value == 'Apply X gate':\n",
    "            qc.x(0)\n",
    "            print('You chose to flip')\n",
    "        \n",
    "        # Turn 3\n",
    "        qc.h(0)\n",
    "        print('The Quantum Computer has played its turn')\n",
    "        # Measure  \n",
    "        qc.measure(0,0)\n",
    "        \n",
    "        # QASM\n",
    "        backend= Aer.get_backend('qasm_simulator')\n",
    "        job = execute(qc, backend, shots=1)\n",
    "        result = job.result()\n",
    "        counts = result.get_counts()\n",
    "        # Result\n",
    "        if '0' in counts:\n",
    "            print(\"You Lose to Quantum. The Quantum Computer Wins. Try again!\")\n",
    "        if '1' in counts:\n",
    "            print(\"You Win against the Quantum Computer. Great job!\")\n",
    "            \n",
    "        print(\"\\n\\n\\n\")\n",
    " #--------------------------------------------CODE FOR GAME ENDS HERE----------------------------------------------------------# \n",
    "button.on_click(on_button_clicked)\n",
    "widgets.VBox([player2_move, button, out])"
   ]
  },
  {
   "cell_type": "code",
   "execution_count": null,
   "id": "4fcae809-cefd-4a62-a7b9-05aefd5088a4",
   "metadata": {},
   "outputs": [],
   "source": []
  }
 ],
 "metadata": {
  "kernelspec": {
   "display_name": "Python 3 (ipykernel)",
   "language": "python",
   "name": "python3"
  },
  "language_info": {
   "codemirror_mode": {
    "name": "ipython",
    "version": 3
   },
   "file_extension": ".py",
   "mimetype": "text/x-python",
   "name": "python",
   "nbconvert_exporter": "python",
   "pygments_lexer": "ipython3",
   "version": "3.8.13"
  },
  "widgets": {
   "application/vnd.jupyter.widget-state+json": {
    "state": {
     "148746a6e9b74b31a650978cc5937e48": {
      "model_module": "@jupyter-widgets/base",
      "model_module_version": "1.2.0",
      "model_name": "LayoutModel",
      "state": {
       "margin": "0px 0px 10px 0px"
      }
     },
     "1bfa666fc0c146bba49c05e99b074752": {
      "model_module": "@jupyter-widgets/controls",
      "model_module_version": "1.5.0",
      "model_name": "DropdownModel",
      "state": {
       "_options_labels": [
        "Do not flip the coin",
        "Flip the coin"
       ],
       "description": "Choice: ",
       "index": 0,
       "layout": "IPY_MODEL_32dedc8f35e84f2884d1a072f6640708",
       "style": "IPY_MODEL_6b042202f69145cdbc7cb9093a07a18d"
      }
     },
     "27faead1a5d54303a8e138db1277c6c2": {
      "model_module": "@jupyter-widgets/controls",
      "model_module_version": "1.5.0",
      "model_name": "DescriptionStyleModel",
      "state": {
       "description_width": ""
      }
     },
     "32dedc8f35e84f2884d1a072f6640708": {
      "model_module": "@jupyter-widgets/base",
      "model_module_version": "1.2.0",
      "model_name": "LayoutModel",
      "state": {}
     },
     "341c89a2cea04b8facc58682316fa52f": {
      "model_module": "@jupyter-widgets/controls",
      "model_module_version": "1.5.0",
      "model_name": "HTMLModel",
      "state": {
       "layout": "IPY_MODEL_d894325663bc41229bf26362290fa068",
       "style": "IPY_MODEL_9870b63b427248cc88024498d6a19d09",
       "value": "<h5>Message</h5>"
      }
     },
     "3882e92faa474983a6580090cd27469d": {
      "model_module": "@jupyter-widgets/base",
      "model_module_version": "1.2.0",
      "model_name": "LayoutModel",
      "state": {}
     },
     "3ffd9e9d3ab14f86a7cb3dd4b68f65f3": {
      "model_module": "@jupyter-widgets/controls",
      "model_module_version": "1.5.0",
      "model_name": "HTMLModel",
      "state": {
       "layout": "IPY_MODEL_a78307adca2943088b0296c28181c90b",
       "style": "IPY_MODEL_448815b427cc4a0390153eb4ee2d6be2",
       "value": "<h5>Job ID</h5>"
      }
     },
     "43e2c7fc6f25401987c497a955c0ed6e": {
      "model_module": "@jupyter-widgets/controls",
      "model_module_version": "1.5.0",
      "model_name": "ButtonModel",
      "state": {
       "description": "Play",
       "layout": "IPY_MODEL_83544161e1604f47905a38567ef9bbe5",
       "style": "IPY_MODEL_ba19f46848c940539b4190c22d541e23"
      }
     },
     "448815b427cc4a0390153eb4ee2d6be2": {
      "model_module": "@jupyter-widgets/controls",
      "model_module_version": "1.5.0",
      "model_name": "DescriptionStyleModel",
      "state": {
       "description_width": ""
      }
     },
     "53dc71c84ce74cb2aa778c4fd2746f3f": {
      "model_module": "@jupyter-widgets/controls",
      "model_module_version": "1.5.0",
      "model_name": "DescriptionStyleModel",
      "state": {
       "description_width": ""
      }
     },
     "587bd29a791d4e2ca7a8629d92bf488d": {
      "model_module": "@jupyter-widgets/controls",
      "model_module_version": "1.5.0",
      "model_name": "ButtonStyleModel",
      "state": {}
     },
     "5f9b2ef17aa5486d893e40982e814593": {
      "model_module": "@jupyter-widgets/base",
      "model_module_version": "1.2.0",
      "model_name": "LayoutModel",
      "state": {
       "width": "95px"
      }
     },
     "6029f5449bca4168b8675479fd41b28a": {
      "model_module": "@jupyter-widgets/controls",
      "model_module_version": "1.5.0",
      "model_name": "HTMLModel",
      "state": {
       "layout": "IPY_MODEL_b8395b022abd417fbc66930e5cf45787",
       "style": "IPY_MODEL_27faead1a5d54303a8e138db1277c6c2",
       "value": "<h5>Backend</h5>"
      }
     },
     "6908e3a352d34aa2b804d367b4cd924e": {
      "model_module": "@jupyter-widgets/controls",
      "model_module_version": "1.5.0",
      "model_name": "ButtonModel",
      "state": {
       "button_style": "primary",
       "description": "Clear",
       "layout": "IPY_MODEL_f33f3218f10f4c62a67f050b137b914a",
       "style": "IPY_MODEL_587bd29a791d4e2ca7a8629d92bf488d"
      }
     },
     "6b042202f69145cdbc7cb9093a07a18d": {
      "model_module": "@jupyter-widgets/controls",
      "model_module_version": "1.5.0",
      "model_name": "DescriptionStyleModel",
      "state": {
       "description_width": ""
      }
     },
     "6e7d0f345dfd4795b6e8405a6e20def5": {
      "model_module": "@jupyter-widgets/base",
      "model_module_version": "1.2.0",
      "model_name": "LayoutModel",
      "state": {}
     },
     "76e98a90d7e442589f64c4e92346c4fe": {
      "model_module": "@jupyter-widgets/controls",
      "model_module_version": "1.5.0",
      "model_name": "VBoxModel",
      "state": {
       "children": [
        "IPY_MODEL_c79d3c80b89a40bdae8363857f6ff88b",
        "IPY_MODEL_b39f1fd1b5c74f1d9bf8d7e6783738e0",
        "IPY_MODEL_ec314031082548a6b2b6d3f7d4d7dd47"
       ],
       "layout": "IPY_MODEL_3882e92faa474983a6580090cd27469d"
      }
     },
     "7c2223be12fa4761b21c3c1b0f1062a5": {
      "model_module": "@jupyter-widgets/base",
      "model_module_version": "1.2.0",
      "model_name": "LayoutModel",
      "state": {}
     },
     "83544161e1604f47905a38567ef9bbe5": {
      "model_module": "@jupyter-widgets/base",
      "model_module_version": "1.2.0",
      "model_name": "LayoutModel",
      "state": {}
     },
     "869b07f9ab314bd796bc8d511ef5ad3f": {
      "model_module": "@jupyter-widgets/controls",
      "model_module_version": "1.5.0",
      "model_name": "HTMLModel",
      "state": {
       "layout": "IPY_MODEL_148746a6e9b74b31a650978cc5937e48",
       "style": "IPY_MODEL_c42bdee60ce14894b4e989663394d0b8",
       "value": "<p style='font-family: IBM Plex Sans, Arial, Helvetica, sans-serif; font-size: 20px; font-weight: medium;'>Circuit Properties</p>"
      }
     },
     "8fa7d53412c04aa0856151571cf530b4": {
      "model_module": "@jupyter-widgets/controls",
      "model_module_version": "1.5.0",
      "model_name": "VBoxModel",
      "state": {
       "children": [
        "IPY_MODEL_1bfa666fc0c146bba49c05e99b074752",
        "IPY_MODEL_43e2c7fc6f25401987c497a955c0ed6e",
        "IPY_MODEL_f845ba824a1d4aeda7d768620a43023e"
       ],
       "layout": "IPY_MODEL_a774aa53d003479a98b946575d8f251c"
      }
     },
     "9870b63b427248cc88024498d6a19d09": {
      "model_module": "@jupyter-widgets/controls",
      "model_module_version": "1.5.0",
      "model_name": "DescriptionStyleModel",
      "state": {
       "description_width": ""
      }
     },
     "a59260ec752e4031bc2c3c6057e3aec0": {
      "model_module": "@jupyter-widgets/controls",
      "model_module_version": "1.5.0",
      "model_name": "HTMLModel",
      "state": {
       "layout": "IPY_MODEL_e7cac7654c654650bc37277a4786d1c3",
       "style": "IPY_MODEL_dcb46c196bea44f08e7a62fd9142aa43",
       "value": "<h5>Queue</h5>"
      }
     },
     "a738ad31045347269d9eef750aab8546": {
      "model_module": "@jupyter-widgets/base",
      "model_module_version": "1.2.0",
      "model_name": "LayoutModel",
      "state": {
       "margin": "0px 0px 0px 37px",
       "width": "600px"
      }
     },
     "a774aa53d003479a98b946575d8f251c": {
      "model_module": "@jupyter-widgets/base",
      "model_module_version": "1.2.0",
      "model_name": "LayoutModel",
      "state": {}
     },
     "a78307adca2943088b0296c28181c90b": {
      "model_module": "@jupyter-widgets/base",
      "model_module_version": "1.2.0",
      "model_name": "LayoutModel",
      "state": {
       "width": "190px"
      }
     },
     "a87d03bb5a2a41b1877c3905586cf5fa": {
      "model_module": "@jupyter-widgets/controls",
      "model_module_version": "1.5.0",
      "model_name": "ButtonStyleModel",
      "state": {}
     },
     "aaaa527434044098b0bb0e205e5dee3b": {
      "model_module": "@jupyter-widgets/controls",
      "model_module_version": "1.5.0",
      "model_name": "DescriptionStyleModel",
      "state": {
       "description_width": ""
      }
     },
     "af97917c10494bfc8f2650366ddd42f9": {
      "model_module": "@jupyter-widgets/controls",
      "model_module_version": "1.5.0",
      "model_name": "GridBoxModel",
      "state": {
       "children": [
        "IPY_MODEL_6908e3a352d34aa2b804d367b4cd924e"
       ],
       "layout": "IPY_MODEL_fac384969f6a49a797884f46410dd800"
      }
     },
     "b39f1fd1b5c74f1d9bf8d7e6783738e0": {
      "model_module": "@jupyter-widgets/controls",
      "model_module_version": "1.5.0",
      "model_name": "ButtonModel",
      "state": {
       "description": "Play",
       "layout": "IPY_MODEL_d5f31c9908c74abbb2a77dd0d2e5e248",
       "style": "IPY_MODEL_a87d03bb5a2a41b1877c3905586cf5fa"
      }
     },
     "b8395b022abd417fbc66930e5cf45787": {
      "model_module": "@jupyter-widgets/base",
      "model_module_version": "1.2.0",
      "model_name": "LayoutModel",
      "state": {
       "width": "145px"
      }
     },
     "ba19f46848c940539b4190c22d541e23": {
      "model_module": "@jupyter-widgets/controls",
      "model_module_version": "1.5.0",
      "model_name": "ButtonStyleModel",
      "state": {}
     },
     "c19858975c56417092efbbfe39ce7679": {
      "model_module": "@jupyter-widgets/base",
      "model_module_version": "1.2.0",
      "model_name": "LayoutModel",
      "state": {}
     },
     "c42bdee60ce14894b4e989663394d0b8": {
      "model_module": "@jupyter-widgets/controls",
      "model_module_version": "1.5.0",
      "model_name": "DescriptionStyleModel",
      "state": {
       "description_width": ""
      }
     },
     "c79d3c80b89a40bdae8363857f6ff88b": {
      "model_module": "@jupyter-widgets/controls",
      "model_module_version": "1.5.0",
      "model_name": "DropdownModel",
      "state": {
       "_options_labels": [
        "Do not flip the coin",
        "Flip the coin"
       ],
       "description": "Choice: ",
       "index": 0,
       "layout": "IPY_MODEL_c19858975c56417092efbbfe39ce7679",
       "style": "IPY_MODEL_aaaa527434044098b0bb0e205e5dee3b"
      }
     },
     "d5f31c9908c74abbb2a77dd0d2e5e248": {
      "model_module": "@jupyter-widgets/base",
      "model_module_version": "1.2.0",
      "model_name": "LayoutModel",
      "state": {}
     },
     "d894325663bc41229bf26362290fa068": {
      "model_module": "@jupyter-widgets/base",
      "model_module_version": "1.2.0",
      "model_name": "LayoutModel",
      "state": {}
     },
     "dcb46c196bea44f08e7a62fd9142aa43": {
      "model_module": "@jupyter-widgets/controls",
      "model_module_version": "1.5.0",
      "model_name": "DescriptionStyleModel",
      "state": {
       "description_width": ""
      }
     },
     "e7cac7654c654650bc37277a4786d1c3": {
      "model_module": "@jupyter-widgets/base",
      "model_module_version": "1.2.0",
      "model_name": "LayoutModel",
      "state": {
       "width": "70px"
      }
     },
     "ec314031082548a6b2b6d3f7d4d7dd47": {
      "model_module": "@jupyter-widgets/output",
      "model_module_version": "1.0.0",
      "model_name": "OutputModel",
      "state": {
       "layout": "IPY_MODEL_7c2223be12fa4761b21c3c1b0f1062a5"
      }
     },
     "f22d4bd6ac5344d5afeb6b6ff0645b64": {
      "model_module": "@jupyter-widgets/controls",
      "model_module_version": "1.5.0",
      "model_name": "HTMLModel",
      "state": {
       "layout": "IPY_MODEL_5f9b2ef17aa5486d893e40982e814593",
       "style": "IPY_MODEL_53dc71c84ce74cb2aa778c4fd2746f3f",
       "value": "<h5>Status</h5>"
      }
     },
     "f33f3218f10f4c62a67f050b137b914a": {
      "model_module": "@jupyter-widgets/base",
      "model_module_version": "1.2.0",
      "model_name": "LayoutModel",
      "state": {
       "grid_area": "right",
       "padding": "0px 0px 0px 0px",
       "width": "70px"
      }
     },
     "f845ba824a1d4aeda7d768620a43023e": {
      "model_module": "@jupyter-widgets/output",
      "model_module_version": "1.0.0",
      "model_name": "OutputModel",
      "state": {
       "layout": "IPY_MODEL_6e7d0f345dfd4795b6e8405a6e20def5"
      }
     },
     "fac384969f6a49a797884f46410dd800": {
      "model_module": "@jupyter-widgets/base",
      "model_module_version": "1.2.0",
      "model_name": "LayoutModel",
      "state": {
       "grid_template_areas": "\n                                       \". . . . right \"\n                                        ",
       "grid_template_columns": "20% 20% 20% 20% 20%",
       "width": "100%"
      }
     },
     "fafcc7c8b0124685b10b66c726dce2df": {
      "model_module": "@jupyter-widgets/controls",
      "model_module_version": "1.5.0",
      "model_name": "HBoxModel",
      "state": {
       "children": [
        "IPY_MODEL_3ffd9e9d3ab14f86a7cb3dd4b68f65f3",
        "IPY_MODEL_6029f5449bca4168b8675479fd41b28a",
        "IPY_MODEL_f22d4bd6ac5344d5afeb6b6ff0645b64",
        "IPY_MODEL_a59260ec752e4031bc2c3c6057e3aec0",
        "IPY_MODEL_341c89a2cea04b8facc58682316fa52f"
       ],
       "layout": "IPY_MODEL_a738ad31045347269d9eef750aab8546"
      }
     }
    },
    "version_major": 2,
    "version_minor": 0
   }
  }
 },
 "nbformat": 4,
 "nbformat_minor": 5
}
